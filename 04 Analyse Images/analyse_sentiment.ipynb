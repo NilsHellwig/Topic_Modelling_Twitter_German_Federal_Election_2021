{
 "cells": [
  {
   "cell_type": "markdown",
   "id": "37de600d-4533-435b-89f6-cfe3c096a070",
   "metadata": {},
   "source": [
    "# Notebook: Analyse Sentiment of Images"
   ]
  },
  {
   "cell_type": "markdown",
   "id": "ab44d114-65c6-4a85-993f-de92a72825f5",
   "metadata": {},
   "source": [
    "## Load Packages"
   ]
  },
  {
   "cell_type": "code",
   "execution_count": 1,
   "id": "58699933-a321-4ff1-9ba6-ecd4a064cac8",
   "metadata": {
    "tags": []
   },
   "outputs": [],
   "source": [
    "from simpletransformers.classification import ClassificationModel\n",
    "import tarfile\n",
    "import pandas as pd\n",
    "import nltk\n",
    "import math\n",
    "import os"
   ]
  },
  {
   "cell_type": "markdown",
   "id": "d1c32dd9-c6a8-4242-be29-bbd934882784",
   "metadata": {},
   "source": [
    "## Settings"
   ]
  },
  {
   "cell_type": "code",
   "execution_count": 2,
   "id": "81e6c2af-3f4f-4912-8fdd-5b7085e55229",
   "metadata": {
    "tags": []
   },
   "outputs": [],
   "source": [
    "MODEL_TYPE = \"bert\"\n",
    "MODEL_PATH = \"../Models/BERT-2_deepset_gbert_large_total\"\n",
    "DATASET_PATH = \"../Datasets/img_dataset_political_accounts/images_dataset.csv\"\n",
    "PREDICTION_DIRECTORY_PATH = \"../Datasets/img_dataset_political_accounts/predictions.csv\"\n",
    "USE_CUDA = True\n",
    "PARTIES = [\"CDU_CSU\", \"SPD\", \"AFD\", \"FDP\", \"GRUENE\", \"LINKE\"]"
   ]
  },
  {
   "cell_type": "markdown",
   "id": "28032367-5ed2-4204-bf1d-5d740884adf4",
   "metadata": {},
   "source": [
    "## Code"
   ]
  },
  {
   "cell_type": "code",
   "execution_count": 3,
   "id": "8ba8e47f-493f-4c84-b3c6-4a6bd7d794cb",
   "metadata": {
    "tags": []
   },
   "outputs": [],
   "source": [
    "model = ClassificationModel(model_type=MODEL_TYPE, model_name=MODEL_PATH, use_cuda=USE_CUDA)"
   ]
  },
  {
   "cell_type": "code",
   "execution_count": 4,
   "id": "f04ca22f-c3a9-459b-a2b7-88ebe1c25248",
   "metadata": {},
   "outputs": [],
   "source": [
    "def unpack_model():\n",
    "    tar = tarfile.open(f\"../Models/gBERT_base_twitter_sentiment_model.tar.gz\", \"r:gz\")\n",
    "    tar.extractall()\n",
    "    tar.close()\n",
    "#unpack_model()\n",
    "\n",
    "train_args ={\"reprocess_input_data\": True, \"fp16\":False, \"num_train_epochs\": 4, \"overwrite_output_dir\":True, \"train_batch_size\": 32, \"eval_batch_size\": 32}\n",
    "#model = ClassificationModel(\n",
    " #   MODEL_TYPE, \"content/outputs/\",\n",
    "  #  num_labels= 3,\n",
    "  #  args=train_args\n",
    "#)"
   ]
  },
  {
   "cell_type": "markdown",
   "id": "4e0204ba-8eb8-44cd-91d9-7aadb1b6a115",
   "metadata": {
    "tags": []
   },
   "source": [
    "Predict Sentiment of every Image"
   ]
  },
  {
   "cell_type": "code",
   "execution_count": 5,
   "id": "126564a2-4029-40d8-8092-421a61b56e6f",
   "metadata": {
    "tags": []
   },
   "outputs": [],
   "source": [
    "df = pd.read_csv(DATASET_PATH)"
   ]
  },
  {
   "cell_type": "code",
   "execution_count": 6,
   "id": "1064cfcd-12e7-475b-b133-8e82ebf629da",
   "metadata": {
    "tags": []
   },
   "outputs": [
    {
     "data": {
      "text/html": [
       "<div>\n",
       "<style scoped>\n",
       "    .dataframe tbody tr th:only-of-type {\n",
       "        vertical-align: middle;\n",
       "    }\n",
       "\n",
       "    .dataframe tbody tr th {\n",
       "        vertical-align: top;\n",
       "    }\n",
       "\n",
       "    .dataframe thead th {\n",
       "        text-align: right;\n",
       "    }\n",
       "</style>\n",
       "<table border=\"1\" class=\"dataframe\">\n",
       "  <thead>\n",
       "    <tr style=\"text-align: right;\">\n",
       "      <th></th>\n",
       "      <th>Unnamed: 0.1</th>\n",
       "      <th>Unnamed: 0</th>\n",
       "      <th>tweet_id</th>\n",
       "      <th>image_index</th>\n",
       "      <th>filename</th>\n",
       "      <th>extracted_text</th>\n",
       "      <th>url</th>\n",
       "      <th>image_path</th>\n",
       "      <th>source_party</th>\n",
       "      <th>source_account</th>\n",
       "      <th>date</th>\n",
       "    </tr>\n",
       "  </thead>\n",
       "  <tbody>\n",
       "    <tr>\n",
       "      <th>0</th>\n",
       "      <td>0</td>\n",
       "      <td>0</td>\n",
       "      <td>1377157230630301700</td>\n",
       "      <td>0</td>\n",
       "      <td>1377157230630301700_0.jpg</td>\n",
       "      <td>Behördenwillkür\\n\\n\\C\\n\\nD Es wird Zeit, den B...</td>\n",
       "      <td>https://pbs.twimg.com/media/ExylKvEU8AgowSU?fo...</td>\n",
       "      <td>../Datasets/img_dataset_political_accounts/AFD...</td>\n",
       "      <td>AFD</td>\n",
       "      <td>AfDBerlin</td>\n",
       "      <td>2021-03-31 07:14:04</td>\n",
       "    </tr>\n",
       "    <tr>\n",
       "      <th>2</th>\n",
       "      <td>2</td>\n",
       "      <td>2</td>\n",
       "      <td>1379754099609047040</td>\n",
       "      <td>0</td>\n",
       "      <td>1379754099609047040_0.jpg</td>\n",
       "      <td>IREBSSWEE Folgen\\n\\n* So geht es nicht weiter!...</td>\n",
       "      <td>https://pbs.twimg.com/media/EyXfBlTWEAEfrHg?fo...</td>\n",
       "      <td>../Datasets/img_dataset_political_accounts/AFD...</td>\n",
       "      <td>AFD</td>\n",
       "      <td>AfDBerlin</td>\n",
       "      <td>2021-04-07 11:13:06</td>\n",
       "    </tr>\n",
       "    <tr>\n",
       "      <th>3</th>\n",
       "      <td>3</td>\n",
       "      <td>3</td>\n",
       "      <td>1381254353336606721</td>\n",
       "      <td>0</td>\n",
       "      <td>1381254353336606721_0.jpg</td>\n",
       "      <td>6% Die Landesvorsitzende der AfD\\nBerlin kriti...</td>\n",
       "      <td>https://pbs.twimg.com/media/EyszgrWXEAEqXID?fo...</td>\n",
       "      <td>../Datasets/img_dataset_political_accounts/AFD...</td>\n",
       "      <td>AFD</td>\n",
       "      <td>AfDBerlin</td>\n",
       "      <td>2021-04-11 14:34:34</td>\n",
       "    </tr>\n",
       "    <tr>\n",
       "      <th>5</th>\n",
       "      <td>5</td>\n",
       "      <td>5</td>\n",
       "      <td>1382230126335787010</td>\n",
       "      <td>0</td>\n",
       "      <td>1382230126335787010_0.jpg</td>\n",
       "      <td>Corona &amp; Bürgerrechte\\n\\nBl Keihe Zweiklasseng...</td>\n",
       "      <td>https://pbs.twimg.com/media/Ey6q6KCWQAE9uFY?fo...</td>\n",
       "      <td>../Datasets/img_dataset_political_accounts/AFD...</td>\n",
       "      <td>AFD</td>\n",
       "      <td>AfDBerlin</td>\n",
       "      <td>2021-04-14 07:11:57</td>\n",
       "    </tr>\n",
       "    <tr>\n",
       "      <th>7</th>\n",
       "      <td>7</td>\n",
       "      <td>7</td>\n",
       "      <td>1384060815792230401</td>\n",
       "      <td>0</td>\n",
       "      <td>1384060815792230401_0.jpg</td>\n",
       "      <td>Mietendeckel-Chaos\\n\\nMüllers klägliches Versa...</td>\n",
       "      <td>https://pbs.twimg.com/media/EzUr8s8VUAIcY51?fo...</td>\n",
       "      <td>../Datasets/img_dataset_political_accounts/AFD...</td>\n",
       "      <td>AFD</td>\n",
       "      <td>AfDBerlin</td>\n",
       "      <td>2021-04-19 08:26:27</td>\n",
       "    </tr>\n",
       "    <tr>\n",
       "      <th>...</th>\n",
       "      <td>...</td>\n",
       "      <td>...</td>\n",
       "      <td>...</td>\n",
       "      <td>...</td>\n",
       "      <td>...</td>\n",
       "      <td>...</td>\n",
       "      <td>...</td>\n",
       "      <td>...</td>\n",
       "      <td>...</td>\n",
       "      <td>...</td>\n",
       "      <td>...</td>\n",
       "    </tr>\n",
       "    <tr>\n",
       "      <th>21954</th>\n",
       "      <td>21954</td>\n",
       "      <td>21954</td>\n",
       "      <td>1350695518536683524</td>\n",
       "      <td>0</td>\n",
       "      <td>1350695518536683524_0.jpg</td>\n",
       "      <td>Deutsches\\nRotes\\nKreuz\\n\\nServiceportal zur I...</td>\n",
       "      <td>https://pbs.twimg.com/media/Er6iaV7XAAIkOIp?fo...</td>\n",
       "      <td>../Datasets/img_dataset_political_accounts/AFD...</td>\n",
       "      <td>AFD</td>\n",
       "      <td>Tino_Chrupalla</td>\n",
       "      <td>2021-01-17 06:44:40</td>\n",
       "    </tr>\n",
       "    <tr>\n",
       "      <th>21955</th>\n",
       "      <td>21955</td>\n",
       "      <td>21955</td>\n",
       "      <td>1351083430218493953</td>\n",
       "      <td>0</td>\n",
       "      <td>1351083430218493953_0.jpg</td>\n",
       "      <td>Deutschland droht der Mega-Lockdown -\\n\\nobwoh...</td>\n",
       "      <td>https://pbs.twimg.com/media/EsADN8IXAAAnR7o?fo...</td>\n",
       "      <td>../Datasets/img_dataset_political_accounts/AFD...</td>\n",
       "      <td>AFD</td>\n",
       "      <td>Tino_Chrupalla</td>\n",
       "      <td>2021-01-18 08:26:06</td>\n",
       "    </tr>\n",
       "    <tr>\n",
       "      <th>21956</th>\n",
       "      <td>21956</td>\n",
       "      <td>21956</td>\n",
       "      <td>1352556008934137858</td>\n",
       "      <td>0</td>\n",
       "      <td>1352556008934137858_0.jpg</td>\n",
       "      <td>‚ . Die verlorene\\nSchülergeneration\\n\\n</td>\n",
       "      <td>https://pbs.twimg.com/media/EsU-hOsXYAAQyIO?fo...</td>\n",
       "      <td>../Datasets/img_dataset_political_accounts/AFD...</td>\n",
       "      <td>AFD</td>\n",
       "      <td>Tino_Chrupalla</td>\n",
       "      <td>2021-01-22 09:57:36</td>\n",
       "    </tr>\n",
       "    <tr>\n",
       "      <th>21957</th>\n",
       "      <td>21957</td>\n",
       "      <td>21957</td>\n",
       "      <td>1462488643638108170</td>\n",
       "      <td>0</td>\n",
       "      <td>1462488643638108170_0.jpg</td>\n",
       "      <td>zur Impfpflicht! B |\\n\\nTino Chrupalla Bundess...</td>\n",
       "      <td>https://pbs.twimg.com/media/FEvNqgDWUAUD_5i?fo...</td>\n",
       "      <td>../Datasets/img_dataset_political_accounts/AFD...</td>\n",
       "      <td>AFD</td>\n",
       "      <td>Tino_Chrupalla</td>\n",
       "      <td>2021-11-21 18:30:39</td>\n",
       "    </tr>\n",
       "    <tr>\n",
       "      <th>21958</th>\n",
       "      <td>21958</td>\n",
       "      <td>21958</td>\n",
       "      <td>1472498789122514945</td>\n",
       "      <td>0</td>\n",
       "      <td>1472498789122514945_0.jpg</td>\n",
       "      <td>Alice Weide\\n</td>\n",
       "      <td>https://pbs.twimg.com/media/FG9dwrcXIAUF5BP?fo...</td>\n",
       "      <td>../Datasets/img_dataset_political_accounts/AFD...</td>\n",
       "      <td>AFD</td>\n",
       "      <td>Tino_Chrupalla</td>\n",
       "      <td>2021-12-19 09:27:23</td>\n",
       "    </tr>\n",
       "  </tbody>\n",
       "</table>\n",
       "<p>11817 rows × 11 columns</p>\n",
       "</div>"
      ],
      "text/plain": [
       "       Unnamed: 0.1  Unnamed: 0             tweet_id  image_index  \\\n",
       "0                 0           0  1377157230630301700            0   \n",
       "2                 2           2  1379754099609047040            0   \n",
       "3                 3           3  1381254353336606721            0   \n",
       "5                 5           5  1382230126335787010            0   \n",
       "7                 7           7  1384060815792230401            0   \n",
       "...             ...         ...                  ...          ...   \n",
       "21954         21954       21954  1350695518536683524            0   \n",
       "21955         21955       21955  1351083430218493953            0   \n",
       "21956         21956       21956  1352556008934137858            0   \n",
       "21957         21957       21957  1462488643638108170            0   \n",
       "21958         21958       21958  1472498789122514945            0   \n",
       "\n",
       "                        filename  \\\n",
       "0      1377157230630301700_0.jpg   \n",
       "2      1379754099609047040_0.jpg   \n",
       "3      1381254353336606721_0.jpg   \n",
       "5      1382230126335787010_0.jpg   \n",
       "7      1384060815792230401_0.jpg   \n",
       "...                          ...   \n",
       "21954  1350695518536683524_0.jpg   \n",
       "21955  1351083430218493953_0.jpg   \n",
       "21956  1352556008934137858_0.jpg   \n",
       "21957  1462488643638108170_0.jpg   \n",
       "21958  1472498789122514945_0.jpg   \n",
       "\n",
       "                                          extracted_text  \\\n",
       "0      Behördenwillkür\\n\\n\\C\\n\\nD Es wird Zeit, den B...   \n",
       "2      IREBSSWEE Folgen\\n\\n* So geht es nicht weiter!...   \n",
       "3      6% Die Landesvorsitzende der AfD\\nBerlin kriti...   \n",
       "5      Corona & Bürgerrechte\\n\\nBl Keihe Zweiklasseng...   \n",
       "7      Mietendeckel-Chaos\\n\\nMüllers klägliches Versa...   \n",
       "...                                                  ...   \n",
       "21954  Deutsches\\nRotes\\nKreuz\\n\\nServiceportal zur I...   \n",
       "21955  Deutschland droht der Mega-Lockdown -\\n\\nobwoh...   \n",
       "21956           ‚ . Die verlorene\\nSchülergeneration\\n\\n   \n",
       "21957  zur Impfpflicht! B |\\n\\nTino Chrupalla Bundess...   \n",
       "21958                                      Alice Weide\\n   \n",
       "\n",
       "                                                     url  \\\n",
       "0      https://pbs.twimg.com/media/ExylKvEU8AgowSU?fo...   \n",
       "2      https://pbs.twimg.com/media/EyXfBlTWEAEfrHg?fo...   \n",
       "3      https://pbs.twimg.com/media/EyszgrWXEAEqXID?fo...   \n",
       "5      https://pbs.twimg.com/media/Ey6q6KCWQAE9uFY?fo...   \n",
       "7      https://pbs.twimg.com/media/EzUr8s8VUAIcY51?fo...   \n",
       "...                                                  ...   \n",
       "21954  https://pbs.twimg.com/media/Er6iaV7XAAIkOIp?fo...   \n",
       "21955  https://pbs.twimg.com/media/EsADN8IXAAAnR7o?fo...   \n",
       "21956  https://pbs.twimg.com/media/EsU-hOsXYAAQyIO?fo...   \n",
       "21957  https://pbs.twimg.com/media/FEvNqgDWUAUD_5i?fo...   \n",
       "21958  https://pbs.twimg.com/media/FG9dwrcXIAUF5BP?fo...   \n",
       "\n",
       "                                              image_path source_party  \\\n",
       "0      ../Datasets/img_dataset_political_accounts/AFD...          AFD   \n",
       "2      ../Datasets/img_dataset_political_accounts/AFD...          AFD   \n",
       "3      ../Datasets/img_dataset_political_accounts/AFD...          AFD   \n",
       "5      ../Datasets/img_dataset_political_accounts/AFD...          AFD   \n",
       "7      ../Datasets/img_dataset_political_accounts/AFD...          AFD   \n",
       "...                                                  ...          ...   \n",
       "21954  ../Datasets/img_dataset_political_accounts/AFD...          AFD   \n",
       "21955  ../Datasets/img_dataset_political_accounts/AFD...          AFD   \n",
       "21956  ../Datasets/img_dataset_political_accounts/AFD...          AFD   \n",
       "21957  ../Datasets/img_dataset_political_accounts/AFD...          AFD   \n",
       "21958  ../Datasets/img_dataset_political_accounts/AFD...          AFD   \n",
       "\n",
       "       source_account                 date  \n",
       "0           AfDBerlin  2021-03-31 07:14:04  \n",
       "2           AfDBerlin  2021-04-07 11:13:06  \n",
       "3           AfDBerlin  2021-04-11 14:34:34  \n",
       "5           AfDBerlin  2021-04-14 07:11:57  \n",
       "7           AfDBerlin  2021-04-19 08:26:27  \n",
       "...               ...                  ...  \n",
       "21954  Tino_Chrupalla  2021-01-17 06:44:40  \n",
       "21955  Tino_Chrupalla  2021-01-18 08:26:06  \n",
       "21956  Tino_Chrupalla  2021-01-22 09:57:36  \n",
       "21957  Tino_Chrupalla  2021-11-21 18:30:39  \n",
       "21958  Tino_Chrupalla  2021-12-19 09:27:23  \n",
       "\n",
       "[11817 rows x 11 columns]"
      ]
     },
     "execution_count": 6,
     "metadata": {},
     "output_type": "execute_result"
    }
   ],
   "source": [
    "def check_if_text_included(extracted_text):\n",
    "    if isinstance(extracted_text, float) and math.isnan(extracted_text):\n",
    "        return False\n",
    "    else:\n",
    "        return True\n",
    "\n",
    "filtered_df = df[df[\"extracted_text\"].apply(check_if_text_included)]\n",
    "filtered_df"
   ]
  },
  {
   "cell_type": "code",
   "execution_count": 7,
   "id": "5423c12a-1c54-4f3f-9919-41703a1e9154",
   "metadata": {
    "tags": []
   },
   "outputs": [
    {
     "data": {
      "application/vnd.jupyter.widget-view+json": {
       "model_id": "12bf7f741f5d4277a3edd880192e77db",
       "version_major": 2,
       "version_minor": 0
      },
      "text/plain": [
       "  0%|          | 0/739 [00:00<?, ?it/s]"
      ]
     },
     "metadata": {},
     "output_type": "display_data"
    }
   ],
   "source": [
    "prediction = model.predict(filtered_df[\"extracted_text\"].tolist())[0]"
   ]
  },
  {
   "cell_type": "code",
   "execution_count": 8,
   "id": "a49d9595-cffc-4907-9f5d-2f565245a31a",
   "metadata": {
    "tags": []
   },
   "outputs": [
    {
     "name": "stderr",
     "output_type": "stream",
     "text": [
      "/tmp/ipykernel_384/2843432746.py:1: SettingWithCopyWarning: \n",
      "A value is trying to be set on a copy of a slice from a DataFrame.\n",
      "Try using .loc[row_indexer,col_indexer] = value instead\n",
      "\n",
      "See the caveats in the documentation: https://pandas.pydata.org/pandas-docs/stable/user_guide/indexing.html#returning-a-view-versus-a-copy\n",
      "  filtered_df[\"prediction\"] = prediction\n"
     ]
    }
   ],
   "source": [
    "filtered_df[\"prediction\"] = prediction"
   ]
  },
  {
   "cell_type": "code",
   "execution_count": 9,
   "id": "57d578bf-d510-43e0-bc9e-0981096e02dc",
   "metadata": {
    "tags": []
   },
   "outputs": [],
   "source": [
    "filtered_df.to_csv(PREDICTION_DIRECTORY_PATH)"
   ]
  },
  {
   "cell_type": "code",
   "execution_count": 10,
   "id": "9ffeb137-7ef6-46e1-9de5-e427e66d809b",
   "metadata": {
    "tags": []
   },
   "outputs": [
    {
     "data": {
      "text/plain": [
       "2    9117\n",
       "1    1746\n",
       "0     954\n",
       "Name: prediction, dtype: int64"
      ]
     },
     "execution_count": 10,
     "metadata": {},
     "output_type": "execute_result"
    }
   ],
   "source": [
    "filtered_df[\"prediction\"].value_counts()"
   ]
  }
 ],
 "metadata": {
  "kernelspec": {
   "display_name": "Python 3 (ipykernel)",
   "language": "python",
   "name": "python3"
  },
  "language_info": {
   "codemirror_mode": {
    "name": "ipython",
    "version": 3
   },
   "file_extension": ".py",
   "mimetype": "text/x-python",
   "name": "python",
   "nbconvert_exporter": "python",
   "pygments_lexer": "ipython3",
   "version": "3.11.3"
  }
 },
 "nbformat": 4,
 "nbformat_minor": 5
}
