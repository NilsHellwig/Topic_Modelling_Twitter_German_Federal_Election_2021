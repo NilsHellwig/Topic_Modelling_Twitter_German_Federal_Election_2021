{
 "cells": [
  {
   "cell_type": "markdown",
   "id": "37de600d-4533-435b-89f6-cfe3c096a070",
   "metadata": {},
   "source": [
    "# Notebook: Analyse Sentiment of Images"
   ]
  },
  {
   "cell_type": "markdown",
   "id": "ab44d114-65c6-4a85-993f-de92a72825f5",
   "metadata": {},
   "source": [
    "## Load Packages"
   ]
  },
  {
   "cell_type": "code",
   "execution_count": 1,
   "id": "58699933-a321-4ff1-9ba6-ecd4a064cac8",
   "metadata": {
    "tags": []
   },
   "outputs": [
    {
     "name": "stderr",
     "output_type": "stream",
     "text": [
      "/opt/homebrew/Caskroom/miniforge/base/envs/tensorflow_m1/lib/python3.11/site-packages/tqdm/auto.py:21: TqdmWarning: IProgress not found. Please update jupyter and ipywidgets. See https://ipywidgets.readthedocs.io/en/stable/user_install.html\n",
      "  from .autonotebook import tqdm as notebook_tqdm\n"
     ]
    }
   ],
   "source": [
    "from simpletransformers.classification import ClassificationModel\n",
    "import pandas as pd\n",
    "import nltk\n",
    "import math\n",
    "import os"
   ]
  },
  {
   "cell_type": "markdown",
   "id": "d1c32dd9-c6a8-4242-be29-bbd934882784",
   "metadata": {},
   "source": [
    "## Settings"
   ]
  },
  {
   "cell_type": "code",
   "execution_count": 2,
   "id": "81e6c2af-3f4f-4912-8fdd-5b7085e55229",
   "metadata": {
    "tags": []
   },
   "outputs": [],
   "source": [
    "MODEL_TYPE = \"bert\"\n",
    "MODEL_PATH = \"../Models/BERT-2_deepset_gbert_large_total\"\n",
    "DATASET_PATH = \"../Datasets/img_dataset_mentions/images_dataset.csv\"\n",
    "PREDICTION_DIRECTORY_PATH = \"../Datasets/img_dataset_mentions/predictions.csv\"\n",
    "USE_CUDA = False\n",
    "PARTIES = [\"CDU_CSU\", \"SPD\", \"AFD\", \"FDP\", \"GRUENE\", \"LINKE\"]"
   ]
  },
  {
   "cell_type": "markdown",
   "id": "28032367-5ed2-4204-bf1d-5d740884adf4",
   "metadata": {},
   "source": [
    "## Code"
   ]
  },
  {
   "cell_type": "code",
   "execution_count": 3,
   "id": "8ba8e47f-493f-4c84-b3c6-4a6bd7d794cb",
   "metadata": {
    "tags": []
   },
   "outputs": [],
   "source": [
    "model = ClassificationModel(model_type=MODEL_TYPE, model_name=MODEL_PATH, use_cuda=USE_CUDA)"
   ]
  },
  {
   "cell_type": "markdown",
   "id": "4e0204ba-8eb8-44cd-91d9-7aadb1b6a115",
   "metadata": {
    "tags": []
   },
   "source": [
    "Predict Sentiment of every Image"
   ]
  },
  {
   "cell_type": "code",
   "execution_count": 13,
   "id": "126564a2-4029-40d8-8092-421a61b56e6f",
   "metadata": {
    "tags": []
   },
   "outputs": [],
   "source": [
    "df = pd.read_csv(DATASET_PATH)[:1000]"
   ]
  },
  {
   "cell_type": "code",
   "execution_count": 14,
   "id": "1064cfcd-12e7-475b-b133-8e82ebf629da",
   "metadata": {
    "tags": []
   },
   "outputs": [
    {
     "data": {
      "text/html": [
       "<div>\n",
       "<style scoped>\n",
       "    .dataframe tbody tr th:only-of-type {\n",
       "        vertical-align: middle;\n",
       "    }\n",
       "\n",
       "    .dataframe tbody tr th {\n",
       "        vertical-align: top;\n",
       "    }\n",
       "\n",
       "    .dataframe thead th {\n",
       "        text-align: right;\n",
       "    }\n",
       "</style>\n",
       "<table border=\"1\" class=\"dataframe\">\n",
       "  <thead>\n",
       "    <tr style=\"text-align: right;\">\n",
       "      <th></th>\n",
       "      <th>Unnamed: 0</th>\n",
       "      <th>tweet_id</th>\n",
       "      <th>image_index</th>\n",
       "      <th>filename</th>\n",
       "      <th>extracted_text</th>\n",
       "      <th>url</th>\n",
       "      <th>image_path</th>\n",
       "      <th>source_party</th>\n",
       "      <th>source_account</th>\n",
       "      <th>date</th>\n",
       "    </tr>\n",
       "  </thead>\n",
       "  <tbody>\n",
       "    <tr>\n",
       "      <th>1</th>\n",
       "      <td>1</td>\n",
       "      <td>1345863370579320832</td>\n",
       "      <td>0</td>\n",
       "      <td>1345863370579320832_0.jpg</td>\n",
       "      <td>Asyl- |\\nmißbrauch\\n\\n</td>\n",
       "      <td>https://pbs.twimg.com/media/Eq13meUXEAMWanr.jpg</td>\n",
       "      <td>../Datasets/img_dataset_mentions/CDU_CSU/Armin...</td>\n",
       "      <td>CDU_CSU</td>\n",
       "      <td>ArminLaschet</td>\n",
       "      <td>2021-01-03 22:43:27</td>\n",
       "    </tr>\n",
       "    <tr>\n",
       "      <th>2</th>\n",
       "      <td>2</td>\n",
       "      <td>1345860999602184196</td>\n",
       "      <td>0</td>\n",
       "      <td>1345860999602184196_0.jpg</td>\n",
       "      <td>kann, dass dieses '\\n\\nGesindel\\n\\nwieder vers...</td>\n",
       "      <td>https://pbs.twimg.com/media/Eq11cdkW8AU8leb.jpg</td>\n",
       "      <td>../Datasets/img_dataset_mentions/CDU_CSU/Armin...</td>\n",
       "      <td>CDU_CSU</td>\n",
       "      <td>ArminLaschet</td>\n",
       "      <td>2021-01-03 22:34:01</td>\n",
       "    </tr>\n",
       "    <tr>\n",
       "      <th>3</th>\n",
       "      <td>3</td>\n",
       "      <td>1345841888289550345</td>\n",
       "      <td>0</td>\n",
       "      <td>1345841888289550345_0.jpg</td>\n",
       "      <td>25. Februar 2011, 11:45 Uhr FDPrudert zurück\\n...</td>\n",
       "      <td>https://pbs.twimg.com/media/Eq1kEA2XUAAyW_f.jpg</td>\n",
       "      <td>../Datasets/img_dataset_mentions/CDU_CSU/Armin...</td>\n",
       "      <td>CDU_CSU</td>\n",
       "      <td>ArminLaschet</td>\n",
       "      <td>2021-01-03 21:18:05</td>\n",
       "    </tr>\n",
       "    <tr>\n",
       "      <th>4</th>\n",
       "      <td>4</td>\n",
       "      <td>1345840672113373186</td>\n",
       "      <td>0</td>\n",
       "      <td>1345840672113373186_0.jpg</td>\n",
       "      <td>You can fool some of the people all of the tim...</td>\n",
       "      <td>https://pbs.twimg.com/media/Eq1i03_W4AANqWe.png</td>\n",
       "      <td>../Datasets/img_dataset_mentions/CDU_CSU/Armin...</td>\n",
       "      <td>CDU_CSU</td>\n",
       "      <td>ArminLaschet</td>\n",
       "      <td>2021-01-03 21:13:15</td>\n",
       "    </tr>\n",
       "    <tr>\n",
       "      <th>6</th>\n",
       "      <td>6</td>\n",
       "      <td>1345831938725183491</td>\n",
       "      <td>0</td>\n",
       "      <td>1345831938725183491_0.jpg</td>\n",
       "      <td>#teamLaschetSpahn\\n\\n</td>\n",
       "      <td>https://pbs.twimg.com/media/Eq1bAfuXcAAqx2p.png</td>\n",
       "      <td>../Datasets/img_dataset_mentions/CDU_CSU/Armin...</td>\n",
       "      <td>CDU_CSU</td>\n",
       "      <td>ArminLaschet</td>\n",
       "      <td>2021-01-03 20:38:33</td>\n",
       "    </tr>\n",
       "    <tr>\n",
       "      <th>...</th>\n",
       "      <td>...</td>\n",
       "      <td>...</td>\n",
       "      <td>...</td>\n",
       "      <td>...</td>\n",
       "      <td>...</td>\n",
       "      <td>...</td>\n",
       "      <td>...</td>\n",
       "      <td>...</td>\n",
       "      <td>...</td>\n",
       "      <td>...</td>\n",
       "    </tr>\n",
       "    <tr>\n",
       "      <th>993</th>\n",
       "      <td>993</td>\n",
       "      <td>1410976284092600322</td>\n",
       "      <td>0</td>\n",
       "      <td>1410976284092600322_0.jpg</td>\n",
       "      <td>Tagesschau 1979:\\n\\n« 1. Weltklimakonferenz\\n\\...</td>\n",
       "      <td>https://pbs.twimg.com/media/E5TLc2pXMAIb-1U.jpg</td>\n",
       "      <td>../Datasets/img_dataset_mentions/CDU_CSU/Armin...</td>\n",
       "      <td>CDU_CSU</td>\n",
       "      <td>ArminLaschet</td>\n",
       "      <td>2021-07-02 15:58:55</td>\n",
       "    </tr>\n",
       "    <tr>\n",
       "      <th>994</th>\n",
       "      <td>994</td>\n",
       "      <td>1410970701637509121</td>\n",
       "      <td>0</td>\n",
       "      <td>1410970701637509121_0.jpg</td>\n",
       "      <td>“WIR.MÜSSEN\\nBESSER DARIN\\n\\nDEN DEN JUNGEN:\\n...</td>\n",
       "      <td>https://pbs.twimg.com/media/E5TGWXYWQAMlgRx.jpg</td>\n",
       "      <td>../Datasets/img_dataset_mentions/CDU_CSU/Armin...</td>\n",
       "      <td>CDU_CSU</td>\n",
       "      <td>ArminLaschet</td>\n",
       "      <td>2021-07-02 15:36:44</td>\n",
       "    </tr>\n",
       "    <tr>\n",
       "      <th>995</th>\n",
       "      <td>995</td>\n",
       "      <td>1410969409045372929</td>\n",
       "      <td>0</td>\n",
       "      <td>1410969409045372929_0.jpg</td>\n",
       "      <td>Die Macht der\\nRegierung liegt\\nin der Dummhei...</td>\n",
       "      <td>https://pbs.twimg.com/media/E5TFMsgWYA8nQnq.jpg</td>\n",
       "      <td>../Datasets/img_dataset_mentions/CDU_CSU/Armin...</td>\n",
       "      <td>CDU_CSU</td>\n",
       "      <td>ArminLaschet</td>\n",
       "      <td>2021-07-02 15:31:36</td>\n",
       "    </tr>\n",
       "    <tr>\n",
       "      <th>998</th>\n",
       "      <td>998</td>\n",
       "      <td>1410956315418152960</td>\n",
       "      <td>0</td>\n",
       "      <td>1410956315418152960_0.jpg</td>\n",
       "      <td>POLITIK\\n\\nNowherei is safe: warning De unse\\n...</td>\n",
       "      <td>https://pbs.twimg.com/media/E5S3ejoXMAEMndF.jpg</td>\n",
       "      <td>../Datasets/img_dataset_mentions/CDU_CSU/Armin...</td>\n",
       "      <td>CDU_CSU</td>\n",
       "      <td>ArminLaschet</td>\n",
       "      <td>2021-07-02 14:39:34</td>\n",
       "    </tr>\n",
       "    <tr>\n",
       "      <th>999</th>\n",
       "      <td>999</td>\n",
       "      <td>1410955726403649537</td>\n",
       "      <td>0</td>\n",
       "      <td>1410955726403649537_0.jpg</td>\n",
       "      <td>Black Widow/eeg Ewan McGregor’s\\nMaking best f...</td>\n",
       "      <td>https://pbs.twimg.com/media/E5S4m8zWQAMl3ta.jpg</td>\n",
       "      <td>../Datasets/img_dataset_mentions/CDU_CSU/Armin...</td>\n",
       "      <td>CDU_CSU</td>\n",
       "      <td>ArminLaschet</td>\n",
       "      <td>2021-07-02 14:37:14</td>\n",
       "    </tr>\n",
       "  </tbody>\n",
       "</table>\n",
       "<p>762 rows × 10 columns</p>\n",
       "</div>"
      ],
      "text/plain": [
       "     Unnamed: 0             tweet_id  image_index                   filename   \n",
       "1             1  1345863370579320832            0  1345863370579320832_0.jpg  \\\n",
       "2             2  1345860999602184196            0  1345860999602184196_0.jpg   \n",
       "3             3  1345841888289550345            0  1345841888289550345_0.jpg   \n",
       "4             4  1345840672113373186            0  1345840672113373186_0.jpg   \n",
       "6             6  1345831938725183491            0  1345831938725183491_0.jpg   \n",
       "..          ...                  ...          ...                        ...   \n",
       "993         993  1410976284092600322            0  1410976284092600322_0.jpg   \n",
       "994         994  1410970701637509121            0  1410970701637509121_0.jpg   \n",
       "995         995  1410969409045372929            0  1410969409045372929_0.jpg   \n",
       "998         998  1410956315418152960            0  1410956315418152960_0.jpg   \n",
       "999         999  1410955726403649537            0  1410955726403649537_0.jpg   \n",
       "\n",
       "                                        extracted_text   \n",
       "1                               Asyl- |\\nmißbrauch\\n\\n  \\\n",
       "2    kann, dass dieses '\\n\\nGesindel\\n\\nwieder vers...   \n",
       "3    25. Februar 2011, 11:45 Uhr FDPrudert zurück\\n...   \n",
       "4    You can fool some of the people all of the tim...   \n",
       "6                                #teamLaschetSpahn\\n\\n   \n",
       "..                                                 ...   \n",
       "993  Tagesschau 1979:\\n\\n« 1. Weltklimakonferenz\\n\\...   \n",
       "994  “WIR.MÜSSEN\\nBESSER DARIN\\n\\nDEN DEN JUNGEN:\\n...   \n",
       "995  Die Macht der\\nRegierung liegt\\nin der Dummhei...   \n",
       "998  POLITIK\\n\\nNowherei is safe: warning De unse\\n...   \n",
       "999  Black Widow/eeg Ewan McGregor’s\\nMaking best f...   \n",
       "\n",
       "                                                 url   \n",
       "1    https://pbs.twimg.com/media/Eq13meUXEAMWanr.jpg  \\\n",
       "2    https://pbs.twimg.com/media/Eq11cdkW8AU8leb.jpg   \n",
       "3    https://pbs.twimg.com/media/Eq1kEA2XUAAyW_f.jpg   \n",
       "4    https://pbs.twimg.com/media/Eq1i03_W4AANqWe.png   \n",
       "6    https://pbs.twimg.com/media/Eq1bAfuXcAAqx2p.png   \n",
       "..                                               ...   \n",
       "993  https://pbs.twimg.com/media/E5TLc2pXMAIb-1U.jpg   \n",
       "994  https://pbs.twimg.com/media/E5TGWXYWQAMlgRx.jpg   \n",
       "995  https://pbs.twimg.com/media/E5TFMsgWYA8nQnq.jpg   \n",
       "998  https://pbs.twimg.com/media/E5S3ejoXMAEMndF.jpg   \n",
       "999  https://pbs.twimg.com/media/E5S4m8zWQAMl3ta.jpg   \n",
       "\n",
       "                                            image_path source_party   \n",
       "1    ../Datasets/img_dataset_mentions/CDU_CSU/Armin...      CDU_CSU  \\\n",
       "2    ../Datasets/img_dataset_mentions/CDU_CSU/Armin...      CDU_CSU   \n",
       "3    ../Datasets/img_dataset_mentions/CDU_CSU/Armin...      CDU_CSU   \n",
       "4    ../Datasets/img_dataset_mentions/CDU_CSU/Armin...      CDU_CSU   \n",
       "6    ../Datasets/img_dataset_mentions/CDU_CSU/Armin...      CDU_CSU   \n",
       "..                                                 ...          ...   \n",
       "993  ../Datasets/img_dataset_mentions/CDU_CSU/Armin...      CDU_CSU   \n",
       "994  ../Datasets/img_dataset_mentions/CDU_CSU/Armin...      CDU_CSU   \n",
       "995  ../Datasets/img_dataset_mentions/CDU_CSU/Armin...      CDU_CSU   \n",
       "998  ../Datasets/img_dataset_mentions/CDU_CSU/Armin...      CDU_CSU   \n",
       "999  ../Datasets/img_dataset_mentions/CDU_CSU/Armin...      CDU_CSU   \n",
       "\n",
       "    source_account                 date  \n",
       "1     ArminLaschet  2021-01-03 22:43:27  \n",
       "2     ArminLaschet  2021-01-03 22:34:01  \n",
       "3     ArminLaschet  2021-01-03 21:18:05  \n",
       "4     ArminLaschet  2021-01-03 21:13:15  \n",
       "6     ArminLaschet  2021-01-03 20:38:33  \n",
       "..             ...                  ...  \n",
       "993   ArminLaschet  2021-07-02 15:58:55  \n",
       "994   ArminLaschet  2021-07-02 15:36:44  \n",
       "995   ArminLaschet  2021-07-02 15:31:36  \n",
       "998   ArminLaschet  2021-07-02 14:39:34  \n",
       "999   ArminLaschet  2021-07-02 14:37:14  \n",
       "\n",
       "[762 rows x 10 columns]"
      ]
     },
     "execution_count": 14,
     "metadata": {},
     "output_type": "execute_result"
    }
   ],
   "source": [
    "def check_if_text_included(extracted_text):\n",
    "    if isinstance(extracted_text, float) and math.isnan(extracted_text):\n",
    "        return False\n",
    "    else:\n",
    "        return True\n",
    "\n",
    "filtered_df = df[df[\"extracted_text\"].apply(check_if_text_included)]\n",
    "filtered_df"
   ]
  },
  {
   "cell_type": "code",
   "execution_count": 15,
   "id": "5423c12a-1c54-4f3f-9919-41703a1e9154",
   "metadata": {
    "tags": []
   },
   "outputs": [
    {
     "name": "stderr",
     "output_type": "stream",
     "text": [
      " 15%|██████▍                                     | 7/48 [00:14<01:26,  2.12s/it]\n",
      "\n",
      "KeyboardInterrupt\n",
      "\n"
     ]
    }
   ],
   "source": [
    "prediction = model.predict(filtered_df[\"extracted_text\"].tolist())[0]"
   ]
  },
  {
   "cell_type": "code",
   "execution_count": 8,
   "id": "a49d9595-cffc-4907-9f5d-2f565245a31a",
   "metadata": {
    "tags": []
   },
   "outputs": [
    {
     "name": "stderr",
     "output_type": "stream",
     "text": [
      "/var/folders/qy/5gtwsk6s7jgbknbqgb533x9w0000gn/T/ipykernel_99240/2843432746.py:1: SettingWithCopyWarning: \n",
      "A value is trying to be set on a copy of a slice from a DataFrame.\n",
      "Try using .loc[row_indexer,col_indexer] = value instead\n",
      "\n",
      "See the caveats in the documentation: https://pandas.pydata.org/pandas-docs/stable/user_guide/indexing.html#returning-a-view-versus-a-copy\n",
      "  filtered_df[\"prediction\"] = prediction\n"
     ]
    }
   ],
   "source": [
    "filtered_df[\"prediction\"] = prediction"
   ]
  },
  {
   "cell_type": "code",
   "execution_count": 9,
   "id": "57d578bf-d510-43e0-bc9e-0981096e02dc",
   "metadata": {
    "tags": []
   },
   "outputs": [],
   "source": [
    "filtered_df.to_csv(PREDICTION_DIRECTORY_PATH)"
   ]
  },
  {
   "cell_type": "code",
   "execution_count": 10,
   "id": "9ffeb137-7ef6-46e1-9de5-e427e66d809b",
   "metadata": {
    "tags": []
   },
   "outputs": [
    {
     "data": {
      "text/plain": [
       "prediction\n",
       "2    44\n",
       "1    10\n",
       "0     7\n",
       "Name: count, dtype: int64"
      ]
     },
     "execution_count": 10,
     "metadata": {},
     "output_type": "execute_result"
    }
   ],
   "source": [
    "filtered_df[\"prediction\"].value_counts()"
   ]
  }
 ],
 "metadata": {
  "kernelspec": {
   "display_name": "Python 3 (ipykernel)",
   "language": "python",
   "name": "python3"
  },
  "language_info": {
   "codemirror_mode": {
    "name": "ipython",
    "version": 3
   },
   "file_extension": ".py",
   "mimetype": "text/x-python",
   "name": "python",
   "nbconvert_exporter": "python",
   "pygments_lexer": "ipython3",
   "version": "3.11.3"
  }
 },
 "nbformat": 4,
 "nbformat_minor": 5
}
