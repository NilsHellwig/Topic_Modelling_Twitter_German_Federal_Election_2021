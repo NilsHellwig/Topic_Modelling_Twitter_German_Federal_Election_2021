{
 "cells": [
  {
   "cell_type": "markdown",
   "id": "2dea917c-5be2-4f73-ba84-0589744eff77",
   "metadata": {},
   "source": [
    "# Notebook: Download Images\n",
    "\n",
    "This notebook is used to download all images from the tweets. What actions are taken in the process is explained below.\n",
    "<br>**Contributors:** [Nils Hellwig](https://github.com/NilsHellwig/) "
   ]
  },
  {
   "cell_type": "markdown",
   "id": "861f84a5-cc2e-4cfc-8052-ac8f1bdbc6d5",
   "metadata": {},
   "source": [
    "## Packages"
   ]
  },
  {
   "cell_type": "code",
   "execution_count": 1,
   "id": "7e604f49-d8c3-46e9-85e9-b10c40224aab",
   "metadata": {},
   "outputs": [],
   "source": [
    "from io import BytesIO\n",
    "from PIL import Image\n",
    "import pandas as pd\n",
    "import pytesseract\n",
    "import requests\n",
    "import json\n",
    "import csv\n",
    "import re\n",
    "import os"
   ]
  },
  {
   "cell_type": "markdown",
   "id": "db558014-04a6-42cd-b5a5-52eb27ba0849",
   "metadata": {},
   "source": [
    "## Parameters"
   ]
  },
  {
   "cell_type": "code",
   "execution_count": 7,
   "id": "a7656355-0bee-4086-9c47-94be2bfb02c0",
   "metadata": {},
   "outputs": [],
   "source": [
    "DATASET_PATH = \"../Datasets/dataset_mentions/\"\n",
    "PHOTOS_PATH = \"../Datasets/img_dataset_mentions/\"\n",
    "PARTIES = [\"CDU_CSU\", \"SPD\", \"AFD\", \"FDP\", \"GRUENE\", \"LINKE\"]\n",
    "TESSERACT_PATH = \"/opt/homebrew/bin/tesseract\""
   ]
  },
  {
   "cell_type": "markdown",
   "id": "93e4c7ff-39a5-4150-bcf3-7b91e479f89c",
   "metadata": {},
   "source": [
    "## Settings"
   ]
  },
  {
   "cell_type": "code",
   "execution_count": 3,
   "id": "af83f5c8-5b2d-4bfb-b706-412565cb1c34",
   "metadata": {},
   "outputs": [],
   "source": [
    "pytesseract.tesseract_cmd = TESSERACT_PATH"
   ]
  },
  {
   "cell_type": "markdown",
   "id": "10606886-7b8b-4c7e-9565-799aec09509e",
   "metadata": {},
   "source": [
    "## Code"
   ]
  },
  {
   "cell_type": "markdown",
   "id": "1d3950be-7d62-4429-a840-4029d9d45fe4",
   "metadata": {},
   "source": [
    "### 1. Create new Directories"
   ]
  },
  {
   "cell_type": "code",
   "execution_count": 4,
   "id": "c884174f-a07f-4f27-a947-19c4746b3aae",
   "metadata": {},
   "outputs": [],
   "source": [
    "# Iterate over the parties\n",
    "for party in PARTIES:\n",
    "    # Try to create a subdirectory for the party\n",
    "    try:\n",
    "        os.makedirs(DATASET_PATH + party)\n",
    "    except FileExistsError:\n",
    "        # The directory already exists, so do nothing\n",
    "        pass"
   ]
  },
  {
   "cell_type": "markdown",
   "id": "fefe022a-64c1-4bd6-bc5e-fa5dff87b7cd",
   "metadata": {},
   "source": [
    "### 2. Download all Images"
   ]
  },
  {
   "cell_type": "code",
   "execution_count": 5,
   "id": "758a5217-78f5-4572-b903-818b0f99e077",
   "metadata": {
    "tags": []
   },
   "outputs": [
    {
     "name": "stderr",
     "output_type": "stream",
     "text": [
      "/opt/homebrew/Caskroom/miniforge/base/envs/tensorflow_m1/lib/python3.10/site-packages/PIL/Image.py:996: UserWarning: Palette images with Transparency expressed in bytes should be converted to RGBA images\n",
      "  warnings.warn(\n",
      "/opt/homebrew/Caskroom/miniforge/base/envs/tensorflow_m1/lib/python3.10/site-packages/PIL/Image.py:996: UserWarning: Palette images with Transparency expressed in bytes should be converted to RGBA images\n",
      "  warnings.warn(\n",
      "/opt/homebrew/Caskroom/miniforge/base/envs/tensorflow_m1/lib/python3.10/site-packages/PIL/Image.py:996: UserWarning: Palette images with Transparency expressed in bytes should be converted to RGBA images\n",
      "  warnings.warn(\n",
      "/opt/homebrew/Caskroom/miniforge/base/envs/tensorflow_m1/lib/python3.10/site-packages/PIL/Image.py:996: UserWarning: Palette images with Transparency expressed in bytes should be converted to RGBA images\n",
      "  warnings.warn(\n",
      "/opt/homebrew/Caskroom/miniforge/base/envs/tensorflow_m1/lib/python3.10/site-packages/PIL/Image.py:996: UserWarning: Palette images with Transparency expressed in bytes should be converted to RGBA images\n",
      "  warnings.warn(\n",
      "/opt/homebrew/Caskroom/miniforge/base/envs/tensorflow_m1/lib/python3.10/site-packages/PIL/Image.py:996: UserWarning: Palette images with Transparency expressed in bytes should be converted to RGBA images\n",
      "  warnings.warn(\n",
      "/opt/homebrew/Caskroom/miniforge/base/envs/tensorflow_m1/lib/python3.10/site-packages/PIL/Image.py:996: UserWarning: Palette images with Transparency expressed in bytes should be converted to RGBA images\n",
      "  warnings.warn(\n"
     ]
    },
    {
     "name": "stdout",
     "output_type": "stream",
     "text": [
      "1950/2028 images downloaded for CDU_CSU - ArminLaschet\n",
      "192/208 images downloaded for CDU_CSU - HBraun\n",
      "116/120 images downloaded for CDU_CSU - andreasscheuer\n",
      "517/538 images downloaded for CDU_CSU - CSU\n",
      "15/15 images downloaded for CDU_CSU - DerLenzMdB\n"
     ]
    },
    {
     "name": "stderr",
     "output_type": "stream",
     "text": [
      "/opt/homebrew/Caskroom/miniforge/base/envs/tensorflow_m1/lib/python3.10/site-packages/PIL/Image.py:996: UserWarning: Palette images with Transparency expressed in bytes should be converted to RGBA images\n",
      "  warnings.warn(\n",
      "/opt/homebrew/Caskroom/miniforge/base/envs/tensorflow_m1/lib/python3.10/site-packages/PIL/Image.py:996: UserWarning: Palette images with Transparency expressed in bytes should be converted to RGBA images\n",
      "  warnings.warn(\n"
     ]
    },
    {
     "name": "stdout",
     "output_type": "stream",
     "text": [
      "1691/1812 images downloaded for CDU_CSU - Markus_Soeder\n",
      "9/9 images downloaded for CDU_CSU - ANiebler\n",
      "4/4 images downloaded for CDU_CSU - MarkusFerber\n",
      "64/65 images downloaded for CDU_CSU - Junge_Union\n",
      "28/29 images downloaded for CDU_CSU - ManfredWeber\n",
      "129/134 images downloaded for CDU_CSU - DoroBaer\n",
      "175/178 images downloaded for CDU_CSU - rbrinkhaus\n",
      "26/26 images downloaded for CDU_CSU - tj_tweets\n",
      "257/264 images downloaded for CDU_CSU - DaniLudwigMdB\n",
      "240/240 images downloaded for CDU_CSU - JuliaKloeckner\n",
      "816/828 images downloaded for CDU_CSU - cducsubt\n"
     ]
    },
    {
     "name": "stderr",
     "output_type": "stream",
     "text": [
      "/opt/homebrew/Caskroom/miniforge/base/envs/tensorflow_m1/lib/python3.10/site-packages/PIL/Image.py:996: UserWarning: Palette images with Transparency expressed in bytes should be converted to RGBA images\n",
      "  warnings.warn(\n"
     ]
    },
    {
     "name": "stdout",
     "output_type": "stream",
     "text": [
      "192/193 images downloaded for CDU_CSU - n_roettgen\n"
     ]
    },
    {
     "name": "stderr",
     "output_type": "stream",
     "text": [
      "/opt/homebrew/Caskroom/miniforge/base/envs/tensorflow_m1/lib/python3.10/site-packages/PIL/Image.py:996: UserWarning: Palette images with Transparency expressed in bytes should be converted to RGBA images\n",
      "  warnings.warn(\n",
      "/opt/homebrew/Caskroom/miniforge/base/envs/tensorflow_m1/lib/python3.10/site-packages/PIL/Image.py:996: UserWarning: Palette images with Transparency expressed in bytes should be converted to RGBA images\n",
      "  warnings.warn(\n",
      "/opt/homebrew/Caskroom/miniforge/base/envs/tensorflow_m1/lib/python3.10/site-packages/PIL/Image.py:996: UserWarning: Palette images with Transparency expressed in bytes should be converted to RGBA images\n",
      "  warnings.warn(\n"
     ]
    },
    {
     "name": "stdout",
     "output_type": "stream",
     "text": [
      "1563/1613 images downloaded for CDU_CSU - jensspahn\n",
      "2/2 images downloaded for CDU_CSU - groehe\n",
      "925/936 images downloaded for CDU_CSU - _FriedrichMerz\n",
      "100/101 images downloaded for CDU_CSU - hahnflo\n",
      "15/15 images downloaded for CDU_CSU - smuellermdb\n",
      "611/628 images downloaded for CDU_CSU - PaulZiemiak\n"
     ]
    },
    {
     "name": "stderr",
     "output_type": "stream",
     "text": [
      "/opt/homebrew/Caskroom/miniforge/base/envs/tensorflow_m1/lib/python3.10/site-packages/PIL/Image.py:996: UserWarning: Palette images with Transparency expressed in bytes should be converted to RGBA images\n",
      "  warnings.warn(\n"
     ]
    },
    {
     "name": "stdout",
     "output_type": "stream",
     "text": [
      "2041/2126 images downloaded for CDU_CSU - CDU\n",
      "11678/11678 images downloaded for CDU_CSU\n",
      "13/13 images downloaded for SPD - KarambaDiaby\n"
     ]
    },
    {
     "name": "stderr",
     "output_type": "stream",
     "text": [
      "/opt/homebrew/Caskroom/miniforge/base/envs/tensorflow_m1/lib/python3.10/site-packages/PIL/Image.py:996: UserWarning: Palette images with Transparency expressed in bytes should be converted to RGBA images\n",
      "  warnings.warn(\n",
      "/opt/homebrew/Caskroom/miniforge/base/envs/tensorflow_m1/lib/python3.10/site-packages/PIL/Image.py:996: UserWarning: Palette images with Transparency expressed in bytes should be converted to RGBA images\n",
      "  warnings.warn(\n"
     ]
    },
    {
     "name": "stdout",
     "output_type": "stream",
     "text": [
      "430/446 images downloaded for SPD - Ralf_Stegner\n",
      "117/353 images downloaded for SPD - hubertus_heil\n"
     ]
    },
    {
     "name": "stderr",
     "output_type": "stream",
     "text": [
      "/opt/homebrew/Caskroom/miniforge/base/envs/tensorflow_m1/lib/python3.10/site-packages/PIL/Image.py:996: UserWarning: Palette images with Transparency expressed in bytes should be converted to RGBA images\n",
      "  warnings.warn(\n",
      "/opt/homebrew/Caskroom/miniforge/base/envs/tensorflow_m1/lib/python3.10/site-packages/PIL/Image.py:996: UserWarning: Palette images with Transparency expressed in bytes should be converted to RGBA images\n",
      "  warnings.warn(\n"
     ]
    },
    {
     "name": "stdout",
     "output_type": "stream",
     "text": [
      "1496/1535 images downloaded for SPD - OlafScholz\n",
      "101/107 images downloaded for SPD - jusos\n",
      "616/645 images downloaded for SPD - spdbt\n"
     ]
    },
    {
     "name": "stderr",
     "output_type": "stream",
     "text": [
      "/opt/homebrew/Caskroom/miniforge/base/envs/tensorflow_m1/lib/python3.10/site-packages/PIL/Image.py:996: UserWarning: Palette images with Transparency expressed in bytes should be converted to RGBA images\n",
      "  warnings.warn(\n",
      "/opt/homebrew/Caskroom/miniforge/base/envs/tensorflow_m1/lib/python3.10/site-packages/PIL/Image.py:996: UserWarning: Palette images with Transparency expressed in bytes should be converted to RGBA images\n",
      "  warnings.warn(\n",
      "/opt/homebrew/Caskroom/miniforge/base/envs/tensorflow_m1/lib/python3.10/site-packages/PIL/Image.py:996: UserWarning: Palette images with Transparency expressed in bytes should be converted to RGBA images\n",
      "  warnings.warn(\n",
      "/opt/homebrew/Caskroom/miniforge/base/envs/tensorflow_m1/lib/python3.10/site-packages/PIL/Image.py:996: UserWarning: Palette images with Transparency expressed in bytes should be converted to RGBA images\n",
      "  warnings.warn(\n",
      "/opt/homebrew/Caskroom/miniforge/base/envs/tensorflow_m1/lib/python3.10/site-packages/PIL/Image.py:996: UserWarning: Palette images with Transparency expressed in bytes should be converted to RGBA images\n",
      "  warnings.warn(\n",
      "/opt/homebrew/Caskroom/miniforge/base/envs/tensorflow_m1/lib/python3.10/site-packages/PIL/Image.py:996: UserWarning: Palette images with Transparency expressed in bytes should be converted to RGBA images\n",
      "  warnings.warn(\n",
      "/opt/homebrew/Caskroom/miniforge/base/envs/tensorflow_m1/lib/python3.10/site-packages/PIL/Image.py:996: UserWarning: Palette images with Transparency expressed in bytes should be converted to RGBA images\n",
      "  warnings.warn(\n"
     ]
    },
    {
     "name": "stdout",
     "output_type": "stream",
     "text": [
      "4839/5040 images downloaded for SPD - Karl_Lauterbach\n",
      "305/318 images downloaded for SPD - KuehniKev\n"
     ]
    },
    {
     "name": "stderr",
     "output_type": "stream",
     "text": [
      "/opt/homebrew/Caskroom/miniforge/base/envs/tensorflow_m1/lib/python3.10/site-packages/PIL/Image.py:996: UserWarning: Palette images with Transparency expressed in bytes should be converted to RGBA images\n",
      "  warnings.warn(\n",
      "/opt/homebrew/Caskroom/miniforge/base/envs/tensorflow_m1/lib/python3.10/site-packages/PIL/Image.py:996: UserWarning: Palette images with Transparency expressed in bytes should be converted to RGBA images\n",
      "  warnings.warn(\n"
     ]
    },
    {
     "name": "stdout",
     "output_type": "stream",
     "text": [
      "232/239 images downloaded for SPD - larsklingbeil\n"
     ]
    },
    {
     "name": "stderr",
     "output_type": "stream",
     "text": [
      "/opt/homebrew/Caskroom/miniforge/base/envs/tensorflow_m1/lib/python3.10/site-packages/PIL/Image.py:996: UserWarning: Palette images with Transparency expressed in bytes should be converted to RGBA images\n",
      "  warnings.warn(\n"
     ]
    },
    {
     "name": "stdout",
     "output_type": "stream",
     "text": [
      "449/464 images downloaded for SPD - HeikoMaas\n",
      "45/45 images downloaded for SPD - MiRo_SPD\n"
     ]
    },
    {
     "name": "stderr",
     "output_type": "stream",
     "text": [
      "/opt/homebrew/Caskroom/miniforge/base/envs/tensorflow_m1/lib/python3.10/site-packages/PIL/Image.py:996: UserWarning: Palette images with Transparency expressed in bytes should be converted to RGBA images\n",
      "  warnings.warn(\n"
     ]
    },
    {
     "name": "stdout",
     "output_type": "stream",
     "text": [
      "388/398 images downloaded for SPD - EskenSaskia\n"
     ]
    },
    {
     "name": "stderr",
     "output_type": "stream",
     "text": [
      "/opt/homebrew/Caskroom/miniforge/base/envs/tensorflow_m1/lib/python3.10/site-packages/PIL/Image.py:996: UserWarning: Palette images with Transparency expressed in bytes should be converted to RGBA images\n",
      "  warnings.warn(\n"
     ]
    },
    {
     "name": "stdout",
     "output_type": "stream",
     "text": [
      "1356/1405 images downloaded for SPD - spdde\n",
      "22065/22065 images downloaded for SPD\n"
     ]
    },
    {
     "name": "stderr",
     "output_type": "stream",
     "text": [
      "/opt/homebrew/Caskroom/miniforge/base/envs/tensorflow_m1/lib/python3.10/site-packages/PIL/Image.py:996: UserWarning: Palette images with Transparency expressed in bytes should be converted to RGBA images\n",
      "  warnings.warn(\n"
     ]
    },
    {
     "name": "stdout",
     "output_type": "stream",
     "text": [
      "170/177 images downloaded for AFD - MalteKaufmann\n"
     ]
    },
    {
     "name": "stderr",
     "output_type": "stream",
     "text": [
      "/opt/homebrew/Caskroom/miniforge/base/envs/tensorflow_m1/lib/python3.10/site-packages/PIL/Image.py:996: UserWarning: Palette images with Transparency expressed in bytes should be converted to RGBA images\n",
      "  warnings.warn(\n",
      "/opt/homebrew/Caskroom/miniforge/base/envs/tensorflow_m1/lib/python3.10/site-packages/PIL/Image.py:996: UserWarning: Palette images with Transparency expressed in bytes should be converted to RGBA images\n",
      "  warnings.warn(\n",
      "/opt/homebrew/Caskroom/miniforge/base/envs/tensorflow_m1/lib/python3.10/site-packages/PIL/Image.py:996: UserWarning: Palette images with Transparency expressed in bytes should be converted to RGBA images\n",
      "  warnings.warn(\n",
      "/opt/homebrew/Caskroom/miniforge/base/envs/tensorflow_m1/lib/python3.10/site-packages/PIL/Image.py:996: UserWarning: Palette images with Transparency expressed in bytes should be converted to RGBA images\n",
      "  warnings.warn(\n",
      "/opt/homebrew/Caskroom/miniforge/base/envs/tensorflow_m1/lib/python3.10/site-packages/PIL/Image.py:996: UserWarning: Palette images with Transparency expressed in bytes should be converted to RGBA images\n",
      "  warnings.warn(\n"
     ]
    },
    {
     "name": "stdout",
     "output_type": "stream",
     "text": [
      "458/478 images downloaded for AFD - AfD\n",
      "30/30 images downloaded for AFD - PetrBystronAFD\n"
     ]
    },
    {
     "name": "stderr",
     "output_type": "stream",
     "text": [
      "/opt/homebrew/Caskroom/miniforge/base/envs/tensorflow_m1/lib/python3.10/site-packages/PIL/Image.py:996: UserWarning: Palette images with Transparency expressed in bytes should be converted to RGBA images\n",
      "  warnings.warn(\n",
      "/opt/homebrew/Caskroom/miniforge/base/envs/tensorflow_m1/lib/python3.10/site-packages/PIL/Image.py:996: UserWarning: Palette images with Transparency expressed in bytes should be converted to RGBA images\n",
      "  warnings.warn(\n",
      "/opt/homebrew/Caskroom/miniforge/base/envs/tensorflow_m1/lib/python3.10/site-packages/PIL/Image.py:996: UserWarning: Palette images with Transparency expressed in bytes should be converted to RGBA images\n",
      "  warnings.warn(\n",
      "/opt/homebrew/Caskroom/miniforge/base/envs/tensorflow_m1/lib/python3.10/site-packages/PIL/Image.py:996: UserWarning: Palette images with Transparency expressed in bytes should be converted to RGBA images\n",
      "  warnings.warn(\n"
     ]
    },
    {
     "name": "stdout",
     "output_type": "stream",
     "text": [
      "682/708 images downloaded for AFD - StBrandner\n"
     ]
    },
    {
     "name": "stderr",
     "output_type": "stream",
     "text": [
      "/opt/homebrew/Caskroom/miniforge/base/envs/tensorflow_m1/lib/python3.10/site-packages/PIL/Image.py:996: UserWarning: Palette images with Transparency expressed in bytes should be converted to RGBA images\n",
      "  warnings.warn(\n"
     ]
    },
    {
     "name": "stdout",
     "output_type": "stream",
     "text": [
      "136/159 images downloaded for AFD - JoanaCotar\n"
     ]
    },
    {
     "name": "stderr",
     "output_type": "stream",
     "text": [
      "/opt/homebrew/Caskroom/miniforge/base/envs/tensorflow_m1/lib/python3.10/site-packages/PIL/Image.py:996: UserWarning: Palette images with Transparency expressed in bytes should be converted to RGBA images\n",
      "  warnings.warn(\n",
      "/opt/homebrew/Caskroom/miniforge/base/envs/tensorflow_m1/lib/python3.10/site-packages/PIL/Image.py:996: UserWarning: Palette images with Transparency expressed in bytes should be converted to RGBA images\n",
      "  warnings.warn(\n"
     ]
    },
    {
     "name": "stdout",
     "output_type": "stream",
     "text": [
      "148/158 images downloaded for AFD - Beatrix_vStorch\n",
      "32/32 images downloaded for AFD - GtzFrmming\n"
     ]
    },
    {
     "name": "stderr",
     "output_type": "stream",
     "text": [
      "/opt/homebrew/Caskroom/miniforge/base/envs/tensorflow_m1/lib/python3.10/site-packages/PIL/Image.py:996: UserWarning: Palette images with Transparency expressed in bytes should be converted to RGBA images\n",
      "  warnings.warn(\n",
      "/opt/homebrew/Caskroom/miniforge/base/envs/tensorflow_m1/lib/python3.10/site-packages/PIL/Image.py:996: UserWarning: Palette images with Transparency expressed in bytes should be converted to RGBA images\n",
      "  warnings.warn(\n",
      "/opt/homebrew/Caskroom/miniforge/base/envs/tensorflow_m1/lib/python3.10/site-packages/PIL/Image.py:996: UserWarning: Palette images with Transparency expressed in bytes should be converted to RGBA images\n",
      "  warnings.warn(\n",
      "/opt/homebrew/Caskroom/miniforge/base/envs/tensorflow_m1/lib/python3.10/site-packages/PIL/Image.py:996: UserWarning: Palette images with Transparency expressed in bytes should be converted to RGBA images\n",
      "  warnings.warn(\n",
      "/opt/homebrew/Caskroom/miniforge/base/envs/tensorflow_m1/lib/python3.10/site-packages/PIL/Image.py:996: UserWarning: Palette images with Transparency expressed in bytes should be converted to RGBA images\n",
      "  warnings.warn(\n"
     ]
    },
    {
     "name": "stdout",
     "output_type": "stream",
     "text": [
      "318/334 images downloaded for AFD - Alice_Weidel\n",
      "224/255 images downloaded for AFD - AfDimBundestag\n",
      "31/31 images downloaded for AFD - AfDBerlin\n",
      "8/9 images downloaded for AFD - gottfriedcurio\n",
      "174/194 images downloaded for AFD - Joerg_Meuthen\n",
      "137/144 images downloaded for AFD - Tino_Chrupalla\n",
      "24613/24613 images downloaded for AFD\n",
      "43/43 images downloaded for FDP - f_schaeffler\n",
      "16/16 images downloaded for FDP - ria_schroeder\n",
      "503/521 images downloaded for FDP - fdpbt\n",
      "922/958 images downloaded for FDP - c_lindner\n",
      "87/90 images downloaded for FDP - MaStrackZi\n",
      "48/52 images downloaded for FDP - fdp_nrw\n",
      "1364/1407 images downloaded for FDP - fdp\n",
      "36/36 images downloaded for FDP - LindaTeuteberg\n",
      "145/147 images downloaded for FDP - Wissing\n",
      "52/53 images downloaded for FDP - Lambsdorff\n",
      "87/89 images downloaded for FDP - KonstantinKuhle\n"
     ]
    },
    {
     "name": "stderr",
     "output_type": "stream",
     "text": [
      "/opt/homebrew/Caskroom/miniforge/base/envs/tensorflow_m1/lib/python3.10/site-packages/PIL/Image.py:996: UserWarning: Palette images with Transparency expressed in bytes should be converted to RGBA images\n",
      "  warnings.warn(\n",
      "/opt/homebrew/Caskroom/miniforge/base/envs/tensorflow_m1/lib/python3.10/site-packages/PIL/Image.py:996: UserWarning: Palette images with Transparency expressed in bytes should be converted to RGBA images\n",
      "  warnings.warn(\n",
      "/opt/homebrew/Caskroom/miniforge/base/envs/tensorflow_m1/lib/python3.10/site-packages/PIL/Image.py:996: UserWarning: Palette images with Transparency expressed in bytes should be converted to RGBA images\n",
      "  warnings.warn(\n"
     ]
    },
    {
     "name": "stdout",
     "output_type": "stream",
     "text": [
      "425/447 images downloaded for FDP - MarcoBuschmann\n",
      "90/91 images downloaded for FDP - johannesvogel\n",
      "28431/28431 images downloaded for FDP\n"
     ]
    },
    {
     "name": "stderr",
     "output_type": "stream",
     "text": [
      "/opt/homebrew/Caskroom/miniforge/base/envs/tensorflow_m1/lib/python3.10/site-packages/PIL/Image.py:996: UserWarning: Palette images with Transparency expressed in bytes should be converted to RGBA images\n",
      "  warnings.warn(\n"
     ]
    },
    {
     "name": "stdout",
     "output_type": "stream",
     "text": [
      "251/258 images downloaded for GRUENE - GoeringEckardt\n",
      "171/173 images downloaded for GRUENE - Ricarda_Lang\n",
      "90/91 images downloaded for GRUENE - BriHasselmann\n",
      "271/285 images downloaded for GRUENE - KathaSchulze\n",
      "400/416 images downloaded for GRUENE - GrueneBundestag\n",
      "400/417 images downloaded for GRUENE - cem_oezdemir\n",
      "41/42 images downloaded for GRUENE - nouripour\n"
     ]
    },
    {
     "name": "stderr",
     "output_type": "stream",
     "text": [
      "/opt/homebrew/Caskroom/miniforge/base/envs/tensorflow_m1/lib/python3.10/site-packages/PIL/Image.py:996: UserWarning: Palette images with Transparency expressed in bytes should be converted to RGBA images\n",
      "  warnings.warn(\n"
     ]
    },
    {
     "name": "stdout",
     "output_type": "stream",
     "text": [
      "147/149 images downloaded for GRUENE - MiKellner\n",
      "74/74 images downloaded for GRUENE - JTrittin\n",
      "69/70 images downloaded for GRUENE - KonstantinNotz\n",
      "108/108 images downloaded for GRUENE - RenateKuenast\n"
     ]
    },
    {
     "name": "stderr",
     "output_type": "stream",
     "text": [
      "/opt/homebrew/Caskroom/miniforge/base/envs/tensorflow_m1/lib/python3.10/site-packages/PIL/Image.py:996: UserWarning: Palette images with Transparency expressed in bytes should be converted to RGBA images\n",
      "  warnings.warn(\n",
      "/opt/homebrew/Caskroom/miniforge/base/envs/tensorflow_m1/lib/python3.10/site-packages/PIL/Image.py:996: UserWarning: Palette images with Transparency expressed in bytes should be converted to RGBA images\n",
      "  warnings.warn(\n",
      "/opt/homebrew/Caskroom/miniforge/base/envs/tensorflow_m1/lib/python3.10/site-packages/PIL/Image.py:996: UserWarning: Palette images with Transparency expressed in bytes should be converted to RGBA images\n",
      "  warnings.warn(\n"
     ]
    },
    {
     "name": "stdout",
     "output_type": "stream",
     "text": [
      "1838/1884 images downloaded for GRUENE - Die_Gruenen\n",
      "72/84 images downloaded for GRUENE - gruene_jugend\n",
      "32363/32363 images downloaded for GRUENE\n",
      "215/219 images downloaded for LINKE - SWagenknecht\n"
     ]
    },
    {
     "name": "stderr",
     "output_type": "stream",
     "text": [
      "/opt/homebrew/Caskroom/miniforge/base/envs/tensorflow_m1/lib/python3.10/site-packages/PIL/Image.py:996: UserWarning: Palette images with Transparency expressed in bytes should be converted to RGBA images\n",
      "  warnings.warn(\n"
     ]
    },
    {
     "name": "stdout",
     "output_type": "stream",
     "text": [
      "699/718 images downloaded for LINKE - dieLinke\n",
      "159/173 images downloaded for LINKE - Linksfraktion\n",
      "106/106 images downloaded for LINKE - Janine_Wissler\n",
      "152/153 images downloaded for LINKE - dielinkeberlin\n"
     ]
    },
    {
     "name": "stderr",
     "output_type": "stream",
     "text": [
      "/opt/homebrew/Caskroom/miniforge/base/envs/tensorflow_m1/lib/python3.10/site-packages/PIL/Image.py:996: UserWarning: Palette images with Transparency expressed in bytes should be converted to RGBA images\n",
      "  warnings.warn(\n"
     ]
    },
    {
     "name": "stdout",
     "output_type": "stream",
     "text": [
      "111/129 images downloaded for LINKE - DietmarBartsch\n",
      "124/129 images downloaded for LINKE - SusanneHennig\n",
      "60/60 images downloaded for LINKE - GregorGysi\n",
      "22/23 images downloaded for LINKE - jankortemdb\n",
      "35/36 images downloaded for LINKE - anked\n",
      "6/6 images downloaded for LINKE - SevimDagdelen\n",
      "46/47 images downloaded for LINKE - katjakipping\n",
      "43/43 images downloaded for LINKE - b_riexinger\n",
      "34141/34141 images downloaded for LINKE\n",
      "34141 images downloaded in total\n"
     ]
    }
   ],
   "source": [
    "df_images = pd.DataFrame(columns=['tweet_id', 'image_index', 'filename', 'extracted_text', 'url', 'image_path', 'source_party', 'source_account', 'date'])\n",
    "\n",
    "# Initialize counter for total images\n",
    "total_images = 0\n",
    "\n",
    "for party in PARTIES:\n",
    "    for subdir, _, files in os.walk(DATASET_PATH + party):\n",
    "        for file in files:\n",
    "            if file.endswith('.csv') and subdir[len(DATASET_PATH):] in PARTIES:\n",
    "                # Get username of CSV file\n",
    "                username = file[:-4]\n",
    "                \n",
    "                # Load dataframe of an account\n",
    "                df = pd.read_csv(DATASET_PATH + party + \"/\" + file, sep=\",\", index_col=0, lineterminator=\"\\n\")\n",
    "                df['image_paths'] = ''\n",
    "                \n",
    "                # Initialize counter for current account\n",
    "                account_images = 0\n",
    "                possible_images = 0\n",
    "                \n",
    "                for row in df.itertuples():\n",
    "                    photos_string = row.photos\n",
    "                    photo_links = re.findall(r\"'(.*?)'\", photos_string)\n",
    "                    \n",
    "                    index = 0\n",
    "                    image_paths_dict = {}\n",
    "                    for link in photo_links:\n",
    "                        if '/media/' in link:\n",
    "\n",
    "                            response = requests.get(link)\n",
    "                            if response.status_code == 200:\n",
    "                                image = Image.open(BytesIO(response.content))\n",
    "                                # Convert image mode to RGB if necessary\n",
    "                                if image.mode != 'RGB':\n",
    "                                    image = image.convert('RGB')\n",
    "                                # Construct the filename using the index for this username\n",
    "                                filename = f\"{row.id}_{index}.jpg\"\n",
    "                                # Create the directory if it doesn't exist\n",
    "                                directory = os.path.join(PHOTOS_PATH, party, username)\n",
    "                                if not os.path.exists(directory):\n",
    "                                    os.makedirs(directory)\n",
    "                                # Save the image to disk\n",
    "                                image.save(os.path.join(directory, filename))\n",
    "                                # Add the filename and URL to the dictionary\n",
    "                                image_paths_dict[filename] = link\n",
    "                            \n",
    "                                # Extract text from image using Tesseract\n",
    "                                image_path = os.path.join(directory, filename)\n",
    "                                text = pytesseract.image_to_string(Image.open(image_path), lang='deu')\n",
    "\n",
    "                                # Add the text to the dictionary\n",
    "                                image_paths_dict[filename] = {\"text\":text, \"url\": link}\n",
    "                            \n",
    "                                new_row = {'tweet_id': row.id, 'image_index': index, 'filename': filename, 'extracted_text': text, 'url': link, 'image_path': image_path, 'source_party': row.source_party, 'source_account': row.source_account, 'date': row.date}\n",
    "                                df_images = pd.concat([df_images, pd.DataFrame(new_row, index=[0])], ignore_index=True)\n",
    "                            \n",
    "                                # Increment the index and counter for this username\n",
    "                                index += 1\n",
    "                                account_images += 1\n",
    "                                possible_images += 1\n",
    "                                total_images += 1\n",
    "                            \n",
    "                            else:\n",
    "                                possible_images += 1\n",
    "                    # Update the dataframe with the JSON string of image paths and text\n",
    "                    df.at[row.Index, 'image_paths'] = json.dumps(image_paths_dict)\n",
    "                \n",
    "                # Save the updated dataframe\n",
    "                df.to_csv(DATASET_PATH + party + \"/\" + file, sep=\",\", index=True, index_label='index')\n",
    "                \n",
    "                # Print number of images for current account\n",
    "                print(f\"{account_images}/{possible_images} images downloaded for {party} - {username}\")\n",
    "    \n",
    "    # Print total number of images for current party\n",
    "    print(f\"{total_images}/{total_images} images downloaded for {party}\")\n",
    "    \n",
    "# Print total number of images for all parties\n",
    "print(f\"{total_images} images downloaded in total\")"
   ]
  },
  {
   "cell_type": "code",
   "execution_count": 6,
   "id": "05a39763-f411-4ac7-80ec-232f06e0a11a",
   "metadata": {},
   "outputs": [],
   "source": [
    "df_images.to_csv(PHOTOS_PATH + \"images_dataset.csv\")"
   ]
  },
  {
   "cell_type": "code",
   "execution_count": null,
   "id": "a98eb36f-e727-49a9-9a46-a44337eac378",
   "metadata": {},
   "outputs": [],
   "source": []
  }
 ],
 "metadata": {
  "kernelspec": {
   "display_name": "Python 3 (ipykernel)",
   "language": "python",
   "name": "python3"
  },
  "language_info": {
   "codemirror_mode": {
    "name": "ipython",
    "version": 3
   },
   "file_extension": ".py",
   "mimetype": "text/x-python",
   "name": "python",
   "nbconvert_exporter": "python",
   "pygments_lexer": "ipython3",
   "version": "3.10.9"
  },
  "vscode": {
   "interpreter": {
    "hash": "b0fa6594d8f4cbf19f97940f81e996739fb7646882a419484c72d19e05852a7e"
   }
  }
 },
 "nbformat": 4,
 "nbformat_minor": 5
}
