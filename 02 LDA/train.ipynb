{
 "cells": [
  {
   "cell_type": "markdown",
   "id": "41b62f89-52a4-44ab-954d-92f986b0bfdd",
   "metadata": {},
   "source": [
    "# Notebook: LDA"
   ]
  },
  {
   "cell_type": "markdown",
   "id": "77fdbe54-1675-4a33-a080-08e9b0a1c309",
   "metadata": {},
   "source": [
    "## 1. Load Packages"
   ]
  },
  {
   "cell_type": "code",
   "execution_count": 1,
   "id": "f506b163-8b89-4aa0-8caf-3d42271c564b",
   "metadata": {
    "tags": []
   },
   "outputs": [],
   "source": [
    "from gensim.models.ldamodel import LdaModel\n",
    "from nltk.tokenize import word_tokenize\n",
    "from gensim import corpora\n",
    "import pandas as pd"
   ]
  },
  {
   "cell_type": "markdown",
   "id": "5e133a6c-9b47-4ee8-ac32-41d76425b5f6",
   "metadata": {},
   "source": [
    "## 2. Constants / Setup"
   ]
  },
  {
   "cell_type": "code",
   "execution_count": null,
   "id": "6dc136fc-012b-43fa-b0b5-cc4d520a7714",
   "metadata": {
    "tags": []
   },
   "outputs": [],
   "source": [
    "N_TOPICS = 10"
   ]
  },
  {
   "cell_type": "code",
   "execution_count": 2,
   "id": "a1753355-951c-4d99-a285-8968a690cb87",
   "metadata": {
    "tags": []
   },
   "outputs": [],
   "source": [
    "FILTERED_DATASET_MENTIONS_PATH = \"../Datasets/filtered_mentions.csv\"\n",
    "FILTERED_DATASET_POLITICIANS_PATH = \"../Datasets/filtered_politicians.csv\""
   ]
  },
  {
   "cell_type": "markdown",
   "id": "3d115566-b20e-4046-8b77-a962abca1c3e",
   "metadata": {},
   "source": [
    "## 3. Load Dataset"
   ]
  },
  {
   "cell_type": "code",
   "execution_count": 3,
   "id": "26d9602b-2c02-4da7-bb13-1df5afb3b3df",
   "metadata": {
    "tags": []
   },
   "outputs": [
    {
     "data": {
      "text/html": [
       "<div>\n",
       "<style scoped>\n",
       "    .dataframe tbody tr th:only-of-type {\n",
       "        vertical-align: middle;\n",
       "    }\n",
       "\n",
       "    .dataframe tbody tr th {\n",
       "        vertical-align: top;\n",
       "    }\n",
       "\n",
       "    .dataframe thead th {\n",
       "        text-align: right;\n",
       "    }\n",
       "</style>\n",
       "<table border=\"1\" class=\"dataframe\">\n",
       "  <thead>\n",
       "    <tr style=\"text-align: right;\">\n",
       "      <th></th>\n",
       "      <th>Unnamed: 0</th>\n",
       "      <th>text</th>\n",
       "      <th>source_party</th>\n",
       "      <th>source_account</th>\n",
       "      <th>date</th>\n",
       "      <th>sentiment</th>\n",
       "      <th>clean_text</th>\n",
       "    </tr>\n",
       "  </thead>\n",
       "  <tbody>\n",
       "    <tr>\n",
       "      <th>0</th>\n",
       "      <td>0</td>\n",
       "      <td>Wichtige wissenschaftliche Erkenntnis- nun mus...</td>\n",
       "      <td>SPD</td>\n",
       "      <td>KarambaDiaby</td>\n",
       "      <td>2021-01-09 19:35:29</td>\n",
       "      <td>0</td>\n",
       "      <td>wichtige wissenschaftliche erkenntnis schnell ...</td>\n",
       "    </tr>\n",
       "    <tr>\n",
       "      <th>1</th>\n",
       "      <td>1</td>\n",
       "      <td>@KarambaDiaby @HalleSpd @SPD_LSA Ich gratulier...</td>\n",
       "      <td>SPD</td>\n",
       "      <td>KarambaDiaby</td>\n",
       "      <td>2021-01-09 17:09:28</td>\n",
       "      <td>0</td>\n",
       "      <td>gratuliere linken</td>\n",
       "    </tr>\n",
       "    <tr>\n",
       "      <th>2</th>\n",
       "      <td>2</td>\n",
       "      <td>@KarambaDiaby @HalleSpd @SPD_LSA Herzlichen Gl...</td>\n",
       "      <td>SPD</td>\n",
       "      <td>KarambaDiaby</td>\n",
       "      <td>2021-01-09 13:16:13</td>\n",
       "      <td>0</td>\n",
       "      <td>herzlichen glückwunsch erfolg</td>\n",
       "    </tr>\n",
       "    <tr>\n",
       "      <th>3</th>\n",
       "      <td>3</td>\n",
       "      <td>@KarambaDiaby @HalleSpd @SPD_LSA Wann werden k...</td>\n",
       "      <td>SPD</td>\n",
       "      <td>KarambaDiaby</td>\n",
       "      <td>2021-01-09 12:32:40</td>\n",
       "      <td>1</td>\n",
       "      <td>wann konkret massiv steuern sozialabgaben gese...</td>\n",
       "    </tr>\n",
       "    <tr>\n",
       "      <th>4</th>\n",
       "      <td>4</td>\n",
       "      <td>@KarambaDiaby @HalleSpd @SPD_LSA Glückwunsch.</td>\n",
       "      <td>SPD</td>\n",
       "      <td>KarambaDiaby</td>\n",
       "      <td>2021-01-09 12:13:06</td>\n",
       "      <td>0</td>\n",
       "      <td>glückwunsch</td>\n",
       "    </tr>\n",
       "    <tr>\n",
       "      <th>...</th>\n",
       "      <td>...</td>\n",
       "      <td>...</td>\n",
       "      <td>...</td>\n",
       "      <td>...</td>\n",
       "      <td>...</td>\n",
       "      <td>...</td>\n",
       "      <td>...</td>\n",
       "    </tr>\n",
       "    <tr>\n",
       "      <th>707236</th>\n",
       "      <td>707236</td>\n",
       "      <td>@b_riexinger Klima oder Verkehr fast gleich......</td>\n",
       "      <td>LINKE</td>\n",
       "      <td>b_riexinger</td>\n",
       "      <td>2021-12-17 08:19:23</td>\n",
       "      <td>1</td>\n",
       "      <td>klima verkehr fast gleich hauptsache pöstchen</td>\n",
       "    </tr>\n",
       "    <tr>\n",
       "      <th>707237</th>\n",
       "      <td>707237</td>\n",
       "      <td>@b_riexinger @Linksfraktion Na ob das noch lan...</td>\n",
       "      <td>LINKE</td>\n",
       "      <td>b_riexinger</td>\n",
       "      <td>2021-12-17 08:18:07</td>\n",
       "      <td>1</td>\n",
       "      <td>na lange gut geht gruppierungen querdenker lin...</td>\n",
       "    </tr>\n",
       "    <tr>\n",
       "      <th>707238</th>\n",
       "      <td>707238</td>\n",
       "      <td>@b_riexinger Ich wünsch Dir viel Erfolg.</td>\n",
       "      <td>LINKE</td>\n",
       "      <td>b_riexinger</td>\n",
       "      <td>2021-12-17 07:47:59</td>\n",
       "      <td>0</td>\n",
       "      <td>wünsch erfolg</td>\n",
       "    </tr>\n",
       "    <tr>\n",
       "      <th>707239</th>\n",
       "      <td>707239</td>\n",
       "      <td>@b_riexinger Nun, da gibt es ja genügend zu tu...</td>\n",
       "      <td>LINKE</td>\n",
       "      <td>b_riexinger</td>\n",
       "      <td>2021-12-17 02:07:26</td>\n",
       "      <td>2</td>\n",
       "      <td>gibt ja genügend tuen paris macht</td>\n",
       "    </tr>\n",
       "    <tr>\n",
       "      <th>707240</th>\n",
       "      <td>707240</td>\n",
       "      <td>@b_riexinger Wünsche dir gutes Gelingen lieber...</td>\n",
       "      <td>LINKE</td>\n",
       "      <td>b_riexinger</td>\n",
       "      <td>2021-12-17 01:02:05</td>\n",
       "      <td>0</td>\n",
       "      <td>wünsche gutes gelingen lieber bernd linkspower</td>\n",
       "    </tr>\n",
       "  </tbody>\n",
       "</table>\n",
       "<p>707241 rows × 7 columns</p>\n",
       "</div>"
      ],
      "text/plain": [
       "        Unnamed: 0                                               text  \\\n",
       "0                0  Wichtige wissenschaftliche Erkenntnis- nun mus...   \n",
       "1                1  @KarambaDiaby @HalleSpd @SPD_LSA Ich gratulier...   \n",
       "2                2  @KarambaDiaby @HalleSpd @SPD_LSA Herzlichen Gl...   \n",
       "3                3  @KarambaDiaby @HalleSpd @SPD_LSA Wann werden k...   \n",
       "4                4      @KarambaDiaby @HalleSpd @SPD_LSA Glückwunsch.   \n",
       "...            ...                                                ...   \n",
       "707236      707236  @b_riexinger Klima oder Verkehr fast gleich......   \n",
       "707237      707237  @b_riexinger @Linksfraktion Na ob das noch lan...   \n",
       "707238      707238           @b_riexinger Ich wünsch Dir viel Erfolg.   \n",
       "707239      707239  @b_riexinger Nun, da gibt es ja genügend zu tu...   \n",
       "707240      707240  @b_riexinger Wünsche dir gutes Gelingen lieber...   \n",
       "\n",
       "       source_party source_account                 date  sentiment  \\\n",
       "0               SPD   KarambaDiaby  2021-01-09 19:35:29          0   \n",
       "1               SPD   KarambaDiaby  2021-01-09 17:09:28          0   \n",
       "2               SPD   KarambaDiaby  2021-01-09 13:16:13          0   \n",
       "3               SPD   KarambaDiaby  2021-01-09 12:32:40          1   \n",
       "4               SPD   KarambaDiaby  2021-01-09 12:13:06          0   \n",
       "...             ...            ...                  ...        ...   \n",
       "707236        LINKE    b_riexinger  2021-12-17 08:19:23          1   \n",
       "707237        LINKE    b_riexinger  2021-12-17 08:18:07          1   \n",
       "707238        LINKE    b_riexinger  2021-12-17 07:47:59          0   \n",
       "707239        LINKE    b_riexinger  2021-12-17 02:07:26          2   \n",
       "707240        LINKE    b_riexinger  2021-12-17 01:02:05          0   \n",
       "\n",
       "                                               clean_text  \n",
       "0       wichtige wissenschaftliche erkenntnis schnell ...  \n",
       "1                                       gratuliere linken  \n",
       "2                           herzlichen glückwunsch erfolg  \n",
       "3       wann konkret massiv steuern sozialabgaben gese...  \n",
       "4                                             glückwunsch  \n",
       "...                                                   ...  \n",
       "707236      klima verkehr fast gleich hauptsache pöstchen  \n",
       "707237  na lange gut geht gruppierungen querdenker lin...  \n",
       "707238                                      wünsch erfolg  \n",
       "707239                  gibt ja genügend tuen paris macht  \n",
       "707240     wünsche gutes gelingen lieber bernd linkspower  \n",
       "\n",
       "[707241 rows x 7 columns]"
      ]
     },
     "execution_count": 3,
     "metadata": {},
     "output_type": "execute_result"
    }
   ],
   "source": [
    "df_mentions = pd.read_csv(FILTERED_DATASET_MENTIONS_PATH)\n",
    "df_mentions"
   ]
  },
  {
   "cell_type": "code",
   "execution_count": 4,
   "id": "7fb50e41-70bd-4c45-9280-1297451ab8c5",
   "metadata": {
    "tags": []
   },
   "outputs": [
    {
     "data": {
      "text/html": [
       "<div>\n",
       "<style scoped>\n",
       "    .dataframe tbody tr th:only-of-type {\n",
       "        vertical-align: middle;\n",
       "    }\n",
       "\n",
       "    .dataframe tbody tr th {\n",
       "        vertical-align: top;\n",
       "    }\n",
       "\n",
       "    .dataframe thead th {\n",
       "        text-align: right;\n",
       "    }\n",
       "</style>\n",
       "<table border=\"1\" class=\"dataframe\">\n",
       "  <thead>\n",
       "    <tr style=\"text-align: right;\">\n",
       "      <th></th>\n",
       "      <th>Unnamed: 0</th>\n",
       "      <th>UserScreenName</th>\n",
       "      <th>source_account</th>\n",
       "      <th>date</th>\n",
       "      <th>Text</th>\n",
       "      <th>text</th>\n",
       "      <th>Emojis</th>\n",
       "      <th>Comments</th>\n",
       "      <th>Likes</th>\n",
       "      <th>Retweets</th>\n",
       "      <th>Image link</th>\n",
       "      <th>Tweet URL</th>\n",
       "      <th>id</th>\n",
       "      <th>source_party</th>\n",
       "      <th>sentiment</th>\n",
       "      <th>clean_text</th>\n",
       "    </tr>\n",
       "  </thead>\n",
       "  <tbody>\n",
       "    <tr>\n",
       "      <th>0</th>\n",
       "      <td>0</td>\n",
       "      <td>AfD Berlin</td>\n",
       "      <td>AfDBerlin</td>\n",
       "      <td>2021-03-26 21:07:22</td>\n",
       "      <td>AfD Berlin\\n@AfDBerlin\\n·\\n26. März</td>\n",
       "      <td>AfD wirkt.\\n\\nSchluss mit dem #Gendergaga\\nMDR...</td>\n",
       "      <td>NaN</td>\n",
       "      <td>4.0</td>\n",
       "      <td>28.0</td>\n",
       "      <td>132.0</td>\n",
       "      <td>['https://pbs.twimg.com/profile_images/1037343...</td>\n",
       "      <td>https://twitter.com/AfDBerlin/status/137555499...</td>\n",
       "      <td>1</td>\n",
       "      <td>AfD</td>\n",
       "      <td>2</td>\n",
       "      <td>afd wirkt schluss gendergaga mdr aktuell märz ...</td>\n",
       "    </tr>\n",
       "    <tr>\n",
       "      <th>1</th>\n",
       "      <td>1</td>\n",
       "      <td>AfD Berlin</td>\n",
       "      <td>AfDBerlin</td>\n",
       "      <td>2021-03-27 07:20:27</td>\n",
       "      <td>AfD Berlin\\n@AfDBerlin\\n·\\n27. März</td>\n",
       "      <td>Im Herbst wird gewählt.\\nSchluss mit den Recht...</td>\n",
       "      <td>NaN</td>\n",
       "      <td>10.0</td>\n",
       "      <td>20.0</td>\n",
       "      <td>112.0</td>\n",
       "      <td>['https://pbs.twimg.com/card_img/1471780757332...</td>\n",
       "      <td>https://twitter.com/AfDBerlin/status/137570928...</td>\n",
       "      <td>2</td>\n",
       "      <td>AfD</td>\n",
       "      <td>2</td>\n",
       "      <td>herbst gewählt schluss rechtsbrüchen regierung...</td>\n",
       "    </tr>\n",
       "    <tr>\n",
       "      <th>2</th>\n",
       "      <td>2</td>\n",
       "      <td>AfD Berlin</td>\n",
       "      <td>AfDBerlin</td>\n",
       "      <td>2021-03-31 07:14:04</td>\n",
       "      <td>AfD Berlin\\n@AfDBerlin\\n·\\n31. März</td>\n",
       "      <td>Behördenwillkür\\nFlüchtlingsheime durchgedrück...</td>\n",
       "      <td>NaN</td>\n",
       "      <td>3.0</td>\n",
       "      <td>13.0</td>\n",
       "      <td>34.0</td>\n",
       "      <td>['https://pbs.twimg.com/media/ExylKvEU8AgowSU?...</td>\n",
       "      <td>https://twitter.com/AfDBerlin/status/137715723...</td>\n",
       "      <td>3</td>\n",
       "      <td>AfD</td>\n",
       "      <td>1</td>\n",
       "      <td>behördenwillkür flüchtlingsheime durchgedrückt...</td>\n",
       "    </tr>\n",
       "    <tr>\n",
       "      <th>3</th>\n",
       "      <td>3</td>\n",
       "      <td>AfD Berlin</td>\n",
       "      <td>AfDBerlin</td>\n",
       "      <td>2021-04-01 14:29:00</td>\n",
       "      <td>AfD Berlin\\n@AfDBerlin\\n·\\n1. Apr.</td>\n",
       "      <td>Aus Raider wird jetzt Twix \\n\\nLeider kein #Ap...</td>\n",
       "      <td>NaN</td>\n",
       "      <td>1.0</td>\n",
       "      <td>4.0</td>\n",
       "      <td>17.0</td>\n",
       "      <td>['https://pbs.twimg.com/card_img/1472910546907...</td>\n",
       "      <td>https://twitter.com/AfDBerlin/status/137762907...</td>\n",
       "      <td>4</td>\n",
       "      <td>AfD</td>\n",
       "      <td>2</td>\n",
       "      <td>raider twix leider aprilscherz bz berlin neuer...</td>\n",
       "    </tr>\n",
       "    <tr>\n",
       "      <th>4</th>\n",
       "      <td>4</td>\n",
       "      <td>AfD Berlin</td>\n",
       "      <td>AfDBerlin</td>\n",
       "      <td>2021-04-01 05:02:10</td>\n",
       "      <td>AfD Berlin\\n@AfDBerlin\\n·\\n1. Apr.</td>\n",
       "      <td>Gendern geht („*innen“)\\nImpfen geht nicht.\\nD...</td>\n",
       "      <td>NaN</td>\n",
       "      <td>1.0</td>\n",
       "      <td>3.0</td>\n",
       "      <td>16.0</td>\n",
       "      <td>['https://pbs.twimg.com/profile_images/9706413...</td>\n",
       "      <td>https://twitter.com/AfDBerlin/status/137748642...</td>\n",
       "      <td>5</td>\n",
       "      <td>AfD</td>\n",
       "      <td>1</td>\n",
       "      <td>gendern geht innen impfen geht regierung blami...</td>\n",
       "    </tr>\n",
       "    <tr>\n",
       "      <th>...</th>\n",
       "      <td>...</td>\n",
       "      <td>...</td>\n",
       "      <td>...</td>\n",
       "      <td>...</td>\n",
       "      <td>...</td>\n",
       "      <td>...</td>\n",
       "      <td>...</td>\n",
       "      <td>...</td>\n",
       "      <td>...</td>\n",
       "      <td>...</td>\n",
       "      <td>...</td>\n",
       "      <td>...</td>\n",
       "      <td>...</td>\n",
       "      <td>...</td>\n",
       "      <td>...</td>\n",
       "      <td>...</td>\n",
       "    </tr>\n",
       "    <tr>\n",
       "      <th>58859</th>\n",
       "      <td>58859</td>\n",
       "      <td>Tino Chrupalla</td>\n",
       "      <td>Tino_Chrupalla</td>\n",
       "      <td>2021-12-04 17:26:46</td>\n",
       "      <td>Tino Chrupalla\\n@Tino_Chrupalla\\n·\\n4. Dez. 2021</td>\n",
       "      <td>Friedlicher Protest gegen einen #Impfzwang ist...</td>\n",
       "      <td>NaN</td>\n",
       "      <td>265.0</td>\n",
       "      <td>122.0</td>\n",
       "      <td>578.0</td>\n",
       "      <td>[]</td>\n",
       "      <td>https://twitter.com/Tino_Chrupalla/status/1467...</td>\n",
       "      <td>61802</td>\n",
       "      <td>AfD</td>\n",
       "      <td>1</td>\n",
       "      <td>friedlicher protest impfzwang grundrecht schut...</td>\n",
       "    </tr>\n",
       "    <tr>\n",
       "      <th>58860</th>\n",
       "      <td>58860</td>\n",
       "      <td>Tino Chrupalla</td>\n",
       "      <td>Tino_Chrupalla</td>\n",
       "      <td>2021-12-13 16:30:19</td>\n",
       "      <td>Tino Chrupalla\\n@Tino_Chrupalla\\n·\\n13. Dez. 2021</td>\n",
       "      <td>@OlafScholz\\n muss sich endlich klar zu Nord S...</td>\n",
       "      <td>NaN</td>\n",
       "      <td>4.0</td>\n",
       "      <td>2.0</td>\n",
       "      <td>11.0</td>\n",
       "      <td>[]</td>\n",
       "      <td>https://twitter.com/Tino_Chrupalla/status/1470...</td>\n",
       "      <td>61803</td>\n",
       "      <td>AfD</td>\n",
       "      <td>0</td>\n",
       "      <td>endlich klar nord stream bekennen deutsche int...</td>\n",
       "    </tr>\n",
       "    <tr>\n",
       "      <th>58861</th>\n",
       "      <td>58861</td>\n",
       "      <td>Tino Chrupalla</td>\n",
       "      <td>Tino_Chrupalla</td>\n",
       "      <td>2021-12-17 14:02:24</td>\n",
       "      <td>Tino Chrupalla\\n@Tino_Chrupalla\\n·\\n17. Dez. 2021</td>\n",
       "      <td>Mit \\n@_FriedrichMerz\\n gibt es keine konserva...</td>\n",
       "      <td>NaN</td>\n",
       "      <td>188.0</td>\n",
       "      <td>227.0</td>\n",
       "      <td>1.008</td>\n",
       "      <td>[]</td>\n",
       "      <td>https://twitter.com/Tino_Chrupalla/status/1471...</td>\n",
       "      <td>61804</td>\n",
       "      <td>AfD</td>\n",
       "      <td>1</td>\n",
       "      <td>gibt konservative erneuerung steht ausgrenzung...</td>\n",
       "    </tr>\n",
       "    <tr>\n",
       "      <th>58862</th>\n",
       "      <td>58862</td>\n",
       "      <td>Tino Chrupalla</td>\n",
       "      <td>Tino_Chrupalla</td>\n",
       "      <td>2021-12-19 09:27:23</td>\n",
       "      <td>Tino Chrupalla\\n@Tino_Chrupalla\\n·\\n19. Dez. 2021</td>\n",
       "      <td>Wir wünschen Ihnen und Ihrer Familie einen bes...</td>\n",
       "      <td>NaN</td>\n",
       "      <td>449.0</td>\n",
       "      <td>346.0</td>\n",
       "      <td>2.648</td>\n",
       "      <td>['https://pbs.twimg.com/media/FG9dwrcXIAUF5BP?...</td>\n",
       "      <td>https://twitter.com/Tino_Chrupalla/status/1472...</td>\n",
       "      <td>61805</td>\n",
       "      <td>AfD</td>\n",
       "      <td>0</td>\n",
       "      <td>wünschen familie besinnlichen advent</td>\n",
       "    </tr>\n",
       "    <tr>\n",
       "      <th>58863</th>\n",
       "      <td>58863</td>\n",
       "      <td>Tino Chrupalla</td>\n",
       "      <td>Tino_Chrupalla</td>\n",
       "      <td>2021-12-23 13:40:49</td>\n",
       "      <td>Tino Chrupalla\\n@Tino_Chrupalla\\n·\\n23. Dez. 2021</td>\n",
       "      <td>@_FriedrichMerz\\n will parlamentarische Zusamm...</td>\n",
       "      <td>NaN</td>\n",
       "      <td>9.0</td>\n",
       "      <td>4.0</td>\n",
       "      <td>11.0</td>\n",
       "      <td>['https://pbs.twimg.com/card_img/1481535392549...</td>\n",
       "      <td>https://twitter.com/Tino_Chrupalla/status/1474...</td>\n",
       "      <td>61806</td>\n",
       "      <td>AfD</td>\n",
       "      <td>1</td>\n",
       "      <td>parlamentarische zusammenarbeit afd verhindern...</td>\n",
       "    </tr>\n",
       "  </tbody>\n",
       "</table>\n",
       "<p>58864 rows × 16 columns</p>\n",
       "</div>"
      ],
      "text/plain": [
       "       Unnamed: 0  UserScreenName  source_account                 date  \\\n",
       "0               0      AfD Berlin       AfDBerlin  2021-03-26 21:07:22   \n",
       "1               1      AfD Berlin       AfDBerlin  2021-03-27 07:20:27   \n",
       "2               2      AfD Berlin       AfDBerlin  2021-03-31 07:14:04   \n",
       "3               3      AfD Berlin       AfDBerlin  2021-04-01 14:29:00   \n",
       "4               4      AfD Berlin       AfDBerlin  2021-04-01 05:02:10   \n",
       "...           ...             ...             ...                  ...   \n",
       "58859       58859  Tino Chrupalla  Tino_Chrupalla  2021-12-04 17:26:46   \n",
       "58860       58860  Tino Chrupalla  Tino_Chrupalla  2021-12-13 16:30:19   \n",
       "58861       58861  Tino Chrupalla  Tino_Chrupalla  2021-12-17 14:02:24   \n",
       "58862       58862  Tino Chrupalla  Tino_Chrupalla  2021-12-19 09:27:23   \n",
       "58863       58863  Tino Chrupalla  Tino_Chrupalla  2021-12-23 13:40:49   \n",
       "\n",
       "                                                    Text  \\\n",
       "0                    AfD Berlin\\n@AfDBerlin\\n·\\n26. März   \n",
       "1                    AfD Berlin\\n@AfDBerlin\\n·\\n27. März   \n",
       "2                    AfD Berlin\\n@AfDBerlin\\n·\\n31. März   \n",
       "3                     AfD Berlin\\n@AfDBerlin\\n·\\n1. Apr.   \n",
       "4                     AfD Berlin\\n@AfDBerlin\\n·\\n1. Apr.   \n",
       "...                                                  ...   \n",
       "58859   Tino Chrupalla\\n@Tino_Chrupalla\\n·\\n4. Dez. 2021   \n",
       "58860  Tino Chrupalla\\n@Tino_Chrupalla\\n·\\n13. Dez. 2021   \n",
       "58861  Tino Chrupalla\\n@Tino_Chrupalla\\n·\\n17. Dez. 2021   \n",
       "58862  Tino Chrupalla\\n@Tino_Chrupalla\\n·\\n19. Dez. 2021   \n",
       "58863  Tino Chrupalla\\n@Tino_Chrupalla\\n·\\n23. Dez. 2021   \n",
       "\n",
       "                                                    text Emojis Comments  \\\n",
       "0      AfD wirkt.\\n\\nSchluss mit dem #Gendergaga\\nMDR...    NaN      4.0   \n",
       "1      Im Herbst wird gewählt.\\nSchluss mit den Recht...    NaN     10.0   \n",
       "2      Behördenwillkür\\nFlüchtlingsheime durchgedrück...    NaN      3.0   \n",
       "3      Aus Raider wird jetzt Twix \\n\\nLeider kein #Ap...    NaN      1.0   \n",
       "4      Gendern geht („*innen“)\\nImpfen geht nicht.\\nD...    NaN      1.0   \n",
       "...                                                  ...    ...      ...   \n",
       "58859  Friedlicher Protest gegen einen #Impfzwang ist...    NaN    265.0   \n",
       "58860  @OlafScholz\\n muss sich endlich klar zu Nord S...    NaN      4.0   \n",
       "58861  Mit \\n@_FriedrichMerz\\n gibt es keine konserva...    NaN    188.0   \n",
       "58862  Wir wünschen Ihnen und Ihrer Familie einen bes...    NaN    449.0   \n",
       "58863  @_FriedrichMerz\\n will parlamentarische Zusamm...    NaN      9.0   \n",
       "\n",
       "       Likes Retweets                                         Image link  \\\n",
       "0       28.0    132.0  ['https://pbs.twimg.com/profile_images/1037343...   \n",
       "1       20.0    112.0  ['https://pbs.twimg.com/card_img/1471780757332...   \n",
       "2       13.0     34.0  ['https://pbs.twimg.com/media/ExylKvEU8AgowSU?...   \n",
       "3        4.0     17.0  ['https://pbs.twimg.com/card_img/1472910546907...   \n",
       "4        3.0     16.0  ['https://pbs.twimg.com/profile_images/9706413...   \n",
       "...      ...      ...                                                ...   \n",
       "58859  122.0    578.0                                                 []   \n",
       "58860    2.0     11.0                                                 []   \n",
       "58861  227.0    1.008                                                 []   \n",
       "58862  346.0    2.648  ['https://pbs.twimg.com/media/FG9dwrcXIAUF5BP?...   \n",
       "58863    4.0     11.0  ['https://pbs.twimg.com/card_img/1481535392549...   \n",
       "\n",
       "                                               Tweet URL     id source_party  \\\n",
       "0      https://twitter.com/AfDBerlin/status/137555499...      1          AfD   \n",
       "1      https://twitter.com/AfDBerlin/status/137570928...      2          AfD   \n",
       "2      https://twitter.com/AfDBerlin/status/137715723...      3          AfD   \n",
       "3      https://twitter.com/AfDBerlin/status/137762907...      4          AfD   \n",
       "4      https://twitter.com/AfDBerlin/status/137748642...      5          AfD   \n",
       "...                                                  ...    ...          ...   \n",
       "58859  https://twitter.com/Tino_Chrupalla/status/1467...  61802          AfD   \n",
       "58860  https://twitter.com/Tino_Chrupalla/status/1470...  61803          AfD   \n",
       "58861  https://twitter.com/Tino_Chrupalla/status/1471...  61804          AfD   \n",
       "58862  https://twitter.com/Tino_Chrupalla/status/1472...  61805          AfD   \n",
       "58863  https://twitter.com/Tino_Chrupalla/status/1474...  61806          AfD   \n",
       "\n",
       "       sentiment                                         clean_text  \n",
       "0              2  afd wirkt schluss gendergaga mdr aktuell märz ...  \n",
       "1              2  herbst gewählt schluss rechtsbrüchen regierung...  \n",
       "2              1  behördenwillkür flüchtlingsheime durchgedrückt...  \n",
       "3              2  raider twix leider aprilscherz bz berlin neuer...  \n",
       "4              1  gendern geht innen impfen geht regierung blami...  \n",
       "...          ...                                                ...  \n",
       "58859          1  friedlicher protest impfzwang grundrecht schut...  \n",
       "58860          0  endlich klar nord stream bekennen deutsche int...  \n",
       "58861          1  gibt konservative erneuerung steht ausgrenzung...  \n",
       "58862          0               wünschen familie besinnlichen advent  \n",
       "58863          1  parlamentarische zusammenarbeit afd verhindern...  \n",
       "\n",
       "[58864 rows x 16 columns]"
      ]
     },
     "execution_count": 4,
     "metadata": {},
     "output_type": "execute_result"
    }
   ],
   "source": [
    "df_politicians = pd.read_csv(FILTERED_DATASET_POLITICIANS_PATH)\n",
    "df_politicians"
   ]
  },
  {
   "cell_type": "markdown",
   "id": "97d2a4b5-802c-4af1-b3e6-3f92220d51a2",
   "metadata": {},
   "source": [
    "## 4. Code"
   ]
  },
  {
   "cell_type": "code",
   "execution_count": 5,
   "id": "7e2edfef-49c6-4f2d-9a80-7dff17ea65fc",
   "metadata": {
    "tags": []
   },
   "outputs": [],
   "source": [
    "text_data = []\n",
    "for text in df_mentions['clean_text'].astype(str):\n",
    "    tokens = word_tokenize(text)\n",
    "    text_data.append(tokens)"
   ]
  },
  {
   "cell_type": "code",
   "execution_count": 6,
   "id": "f2ba9555-f6c8-4928-a8f8-d3133318ab40",
   "metadata": {
    "tags": []
   },
   "outputs": [],
   "source": [
    "dictionary = corpora.Dictionary(text_data)\n",
    "corpus = [dictionary.doc2bow(text) for text in text_data]"
   ]
  },
  {
   "cell_type": "code",
   "execution_count": 7,
   "id": "c714c2bc-4b0e-466e-9403-9f23e003313d",
   "metadata": {
    "tags": []
   },
   "outputs": [],
   "source": [
    "lda_model = LdaModel(corpus=corpus, id2word=dictionary, num_topics=N_TOPICS, passes=20, alpha='auto', per_word_topics=True)"
   ]
  },
  {
   "cell_type": "code",
   "execution_count": 8,
   "id": "3a09be8f-1eee-4c28-94d0-d68c003c4600",
   "metadata": {},
   "outputs": [],
   "source": [
    "lda_model.save(\"model/model_mentions.model\")"
   ]
  },
  {
   "cell_type": "code",
   "execution_count": 9,
   "id": "8d55e028-7642-481e-853c-221791dd3bb4",
   "metadata": {
    "tags": []
   },
   "outputs": [
    {
     "name": "stdout",
     "output_type": "stream",
     "text": [
      "Topic #1: genau, endlich, ach, nix, vielen, bundeswehr, weidel, dank, zurück, deutlich, mensch, rente, etc, fckafd, bringt, gelesen, fordern, sozial, gott, verdient\n",
      "Topic #2: geld, meinung, thema, finde, brauchen, staat, aussage, steuern, punkt, beispiel, oft, funktioniert, offensichtlich, afghanistan, euro, wirtschaft, sprechen, ganzen, kosten, seite\n",
      "Topic #3: ja, mal, schon, afd, linke, immer, partei, gibt, wäre, menschen, wer, geht, gut, einfach, warum, deutschland, ganz, macht, amp, cdu\n",
      "Topic #4: wagenknecht, sagt, impfung, bundestag, falsch, noafd, grüne, sozialismus, völlig, kaum, darauf, verstanden, politische, probleme, usw, fordert, sache, bisschen, erstmal, ziel\n",
      "Topic #5: herr, lieber, ddr, stimmt, merkel, gewählt, hätten, stimmen, wort, volk, fehler, erfolg, stellt, klimaschutz, glückwunsch, schauen, herrn, niemals, amt, früher\n",
      "Topic #6: lassen, recht, impfen, bekommen, halten, tweet, verstehen, wieso, nazis, wichtig, heißt, passt, peinlich, finden, kannst, covid, spricht, wahrscheinlich, mehrheit, sofort\n",
      "Topic #7: linken, fragen, gesagt, lesen, antwort, freiheit, rot, grün, daher, absolut, scheint, interview, kritik, medien, verstehe, thüringen, rechten, artikel, rein, gern\n",
      "Topic #8: bitte, bzw, darüber, nochmal, millionen, wahlkampf, nazi, helfen, person, interessiert, impfpflicht, mitglieder, system, ampel, programm, setzen, entscheidung, ländern, richtige, lügen\n",
      "Topic #9: berlin, raus, schlecht, dürfen, selber, gt, reicht, große, krieg, voll, läuft, glück, fehlt, kenne, wünsche, vermögen, bezahlen, kapitalismus, einkommen, reiche\n",
      "Topic #10: frau, danke, weiß, sollten, welt, sollen, statt, kinder, deutsche, wurden, arbeit, fall, eu, nato, grund, geimpft, zumindest, impfstoff, allerdings, frauen\n"
     ]
    }
   ],
   "source": [
    "topics = lda_model.show_topics(num_topics=N_TOPICS, num_words=20, formatted=False)\n",
    "for topic in topics:\n",
    "    topic_num = topic[0] + 1\n",
    "    words = [word[0] for word in topic[1]]\n",
    "    scores = [round(word[1], 4) for word in topic[1]]\n",
    "    print(f\"Topic #{topic_num}:\")\n",
    "    for i in range(len(words)):\n",
    "        print(f\"{words[i]} ({scores[i]}) \", end=\"\")"
   ]
  },
  {
   "cell_type": "markdown",
   "id": "03bca462-6292-4228-b4c7-e4cb594bcbeb",
   "metadata": {
    "tags": []
   },
   "source": [
    "## 5. Topics"
   ]
  },
  {
   "cell_type": "code",
   "execution_count": 10,
   "id": "a6f8b014-8ece-4490-9761-1484266e6292",
   "metadata": {
    "tags": []
   },
   "outputs": [],
   "source": [
    "topic_tokens = [word[0] for word in topics[8][1]]"
   ]
  },
  {
   "cell_type": "code",
   "execution_count": 11,
   "id": "62a75a93-2bdb-4ea1-aa09-295f5ad25293",
   "metadata": {
    "tags": []
   },
   "outputs": [],
   "source": [
    "df_mentions['date'] = pd.to_datetime(df_mentions['date'])"
   ]
  },
  {
   "cell_type": "code",
   "execution_count": 12,
   "id": "5eb5edcc-8949-4276-b9f1-20a52a1bece6",
   "metadata": {
    "tags": []
   },
   "outputs": [
    {
     "ename": "TypeError",
     "evalue": "argument of type 'float' is not iterable",
     "output_type": "error",
     "traceback": [
      "\u001b[0;31m---------------------------------------------------------------------------\u001b[0m",
      "\u001b[0;31mTypeError\u001b[0m                                 Traceback (most recent call last)",
      "Cell \u001b[0;32mIn[12], line 7\u001b[0m\n\u001b[1;32m      5\u001b[0m month \u001b[38;5;241m=\u001b[39m row[\u001b[38;5;124m'\u001b[39m\u001b[38;5;124mdate\u001b[39m\u001b[38;5;124m'\u001b[39m]\u001b[38;5;241m.\u001b[39mmonth\n\u001b[1;32m      6\u001b[0m \u001b[38;5;28;01mfor\u001b[39;00m token \u001b[38;5;129;01min\u001b[39;00m topic_tokens:\n\u001b[0;32m----> 7\u001b[0m     \u001b[38;5;28;01mif\u001b[39;00m \u001b[43mtoken\u001b[49m\u001b[43m \u001b[49m\u001b[38;5;129;43;01min\u001b[39;49;00m\u001b[43m \u001b[49m\u001b[43mrow\u001b[49m\u001b[43m[\u001b[49m\u001b[38;5;124;43m'\u001b[39;49m\u001b[38;5;124;43mclean_text\u001b[39;49m\u001b[38;5;124;43m'\u001b[39;49m\u001b[43m]\u001b[49m:\n\u001b[1;32m      8\u001b[0m         df_mentions\u001b[38;5;241m.\u001b[39mat[index, token] \u001b[38;5;241m+\u001b[39m\u001b[38;5;241m=\u001b[39m \u001b[38;5;241m1\u001b[39m\n",
      "\u001b[0;31mTypeError\u001b[0m: argument of type 'float' is not iterable"
     ]
    }
   ],
   "source": [
    "for token in topic_tokens:\n",
    "    df_mentions[token] = 0\n",
    "\n",
    "for index, row in df_mentions.iterrows():\n",
    "    month = row['date'].month\n",
    "    for token in topic_tokens:\n",
    "        if token in row['clean_text']:\n",
    "            df_mentions.at[index, token] += 1"
   ]
  },
  {
   "cell_type": "code",
   "execution_count": null,
   "id": "7f994b9f-e674-47f3-9e3f-451f03fa6c68",
   "metadata": {
    "tags": []
   },
   "outputs": [],
   "source": [
    "grouped_mentions_df = df_mentions.groupby(df_mentions['date'].dt.month).sum()"
   ]
  },
  {
   "cell_type": "code",
   "execution_count": null,
   "id": "16417e18-0079-4b0e-94f3-edc3f2590a80",
   "metadata": {
    "tags": []
   },
   "outputs": [],
   "source": [
    "for token in topic_tokens:\n",
    "    total_count = grouped_mentions_df[token].sum()\n",
    "    grouped_mentions_df[token] = grouped_mentions_df[token] / total_count"
   ]
  },
  {
   "cell_type": "code",
   "execution_count": null,
   "id": "4edac972-cbc7-43b7-b342-0f7247339a0a",
   "metadata": {
    "tags": []
   },
   "outputs": [],
   "source": [
    "import seaborn as sns\n",
    "import matplotlib.pyplot as plt\n",
    "\n",
    "plt.figure(figsize=(10,5))\n",
    "sns.heatmap(grouped_mentions_df[topic_tokens].transpose(), cmap='Blues')\n",
    "plt.title('Topic 1 Token Heatmap')\n",
    "plt.xlabel('Month')\n",
    "plt.ylabel('Token')\n",
    "plt.show()"
   ]
  },
  {
   "cell_type": "code",
   "execution_count": null,
   "id": "b4e48e2e-2bf1-45d7-a74d-c746bfbb5c4a",
   "metadata": {
    "tags": []
   },
   "outputs": [],
   "source": [
    "grouped_mentions_df[topic_tokens].transpose()"
   ]
  },
  {
   "cell_type": "code",
   "execution_count": null,
   "id": "23cc76bb-ecf4-42f9-b036-156f76e396fe",
   "metadata": {
    "tags": []
   },
   "outputs": [],
   "source": [
    "df_mentions[df_mentions['text'].str.contains('katjakipping')]"
   ]
  }
 ],
 "metadata": {
  "kernelspec": {
   "display_name": "Python 3 (ipykernel)",
   "language": "python",
   "name": "python3"
  },
  "language_info": {
   "codemirror_mode": {
    "name": "ipython",
    "version": 3
   },
   "file_extension": ".py",
   "mimetype": "text/x-python",
   "name": "python",
   "nbconvert_exporter": "python",
   "pygments_lexer": "ipython3",
   "version": "3.10.9"
  }
 },
 "nbformat": 4,
 "nbformat_minor": 5
}
