{
 "cells": [
  {
   "cell_type": "markdown",
   "id": "41b62f89-52a4-44ab-954d-92f986b0bfdd",
   "metadata": {},
   "source": [
    "# Notebook: LDA"
   ]
  },
  {
   "cell_type": "markdown",
   "id": "77fdbe54-1675-4a33-a080-08e9b0a1c309",
   "metadata": {},
   "source": [
    "## 1. Load Packages"
   ]
  },
  {
   "cell_type": "code",
   "execution_count": 1,
   "id": "f506b163-8b89-4aa0-8caf-3d42271c564b",
   "metadata": {
    "tags": []
   },
   "outputs": [],
   "source": [
    "from gensim.models.ldamodel import LdaModel\n",
    "from nltk.tokenize import word_tokenize\n",
    "from gensim import corpora\n",
    "import pandas as pd"
   ]
  },
  {
   "cell_type": "markdown",
   "id": "5e133a6c-9b47-4ee8-ac32-41d76425b5f6",
   "metadata": {},
   "source": [
    "## 2. Constants / Setup"
   ]
  },
  {
   "cell_type": "code",
   "execution_count": 2,
   "id": "6dc136fc-012b-43fa-b0b5-cc4d520a7714",
   "metadata": {
    "tags": []
   },
   "outputs": [],
   "source": [
    "N_TOPICS = 20"
   ]
  },
  {
   "cell_type": "code",
   "execution_count": 3,
   "id": "a1753355-951c-4d99-a285-8968a690cb87",
   "metadata": {
    "tags": []
   },
   "outputs": [],
   "source": [
    "FILTERED_DATASET_MENTIONS_PATH = \"../Datasets/filtered_mentions.csv\"\n",
    "FILTERED_DATASET_POLITICIANS_PATH = \"../Datasets/filtered_politicians.csv\""
   ]
  },
  {
   "cell_type": "markdown",
   "id": "3d115566-b20e-4046-8b77-a962abca1c3e",
   "metadata": {},
   "source": [
    "## 3. Load Dataset"
   ]
  },
  {
   "cell_type": "code",
   "execution_count": 4,
   "id": "26d9602b-2c02-4da7-bb13-1df5afb3b3df",
   "metadata": {
    "tags": []
   },
   "outputs": [
    {
     "data": {
      "text/html": [
       "<div>\n",
       "<style scoped>\n",
       "    .dataframe tbody tr th:only-of-type {\n",
       "        vertical-align: middle;\n",
       "    }\n",
       "\n",
       "    .dataframe tbody tr th {\n",
       "        vertical-align: top;\n",
       "    }\n",
       "\n",
       "    .dataframe thead th {\n",
       "        text-align: right;\n",
       "    }\n",
       "</style>\n",
       "<table border=\"1\" class=\"dataframe\">\n",
       "  <thead>\n",
       "    <tr style=\"text-align: right;\">\n",
       "      <th></th>\n",
       "      <th>Unnamed: 0</th>\n",
       "      <th>text</th>\n",
       "      <th>source_party</th>\n",
       "      <th>source_account</th>\n",
       "      <th>date</th>\n",
       "      <th>sentiment</th>\n",
       "      <th>clean_text</th>\n",
       "    </tr>\n",
       "  </thead>\n",
       "  <tbody>\n",
       "    <tr>\n",
       "      <th>0</th>\n",
       "      <td>0</td>\n",
       "      <td>Wichtige wissenschaftliche Erkenntnis- nun mus...</td>\n",
       "      <td>SPD</td>\n",
       "      <td>KarambaDiaby</td>\n",
       "      <td>2021-01-09 19:35:29</td>\n",
       "      <td>0</td>\n",
       "      <td>erkenntnis umsetzung</td>\n",
       "    </tr>\n",
       "    <tr>\n",
       "      <th>1</th>\n",
       "      <td>1</td>\n",
       "      <td>@KarambaDiaby @HalleSpd @SPD_LSA Ich gratulier...</td>\n",
       "      <td>SPD</td>\n",
       "      <td>KarambaDiaby</td>\n",
       "      <td>2021-01-09 17:09:28</td>\n",
       "      <td>0</td>\n",
       "      <td>linken</td>\n",
       "    </tr>\n",
       "    <tr>\n",
       "      <th>2</th>\n",
       "      <td>2</td>\n",
       "      <td>@KarambaDiaby @HalleSpd @SPD_LSA Herzlichen Gl...</td>\n",
       "      <td>SPD</td>\n",
       "      <td>KarambaDiaby</td>\n",
       "      <td>2021-01-09 13:16:13</td>\n",
       "      <td>0</td>\n",
       "      <td>glückwunsch erfolg</td>\n",
       "    </tr>\n",
       "    <tr>\n",
       "      <th>3</th>\n",
       "      <td>3</td>\n",
       "      <td>@KarambaDiaby @HalleSpd @SPD_LSA Wann werden k...</td>\n",
       "      <td>SPD</td>\n",
       "      <td>KarambaDiaby</td>\n",
       "      <td>2021-01-09 12:32:40</td>\n",
       "      <td>1</td>\n",
       "      <td>steuern sozialabgaben rente senkung renteneint...</td>\n",
       "    </tr>\n",
       "    <tr>\n",
       "      <th>4</th>\n",
       "      <td>4</td>\n",
       "      <td>@KarambaDiaby @HalleSpd @SPD_LSA Glückwunsch.</td>\n",
       "      <td>SPD</td>\n",
       "      <td>KarambaDiaby</td>\n",
       "      <td>2021-01-09 12:13:06</td>\n",
       "      <td>0</td>\n",
       "      <td>glückwunsch</td>\n",
       "    </tr>\n",
       "    <tr>\n",
       "      <th>...</th>\n",
       "      <td>...</td>\n",
       "      <td>...</td>\n",
       "      <td>...</td>\n",
       "      <td>...</td>\n",
       "      <td>...</td>\n",
       "      <td>...</td>\n",
       "      <td>...</td>\n",
       "    </tr>\n",
       "    <tr>\n",
       "      <th>707236</th>\n",
       "      <td>707236</td>\n",
       "      <td>@b_riexinger Klima oder Verkehr fast gleich......</td>\n",
       "      <td>LINKE</td>\n",
       "      <td>b_riexinger</td>\n",
       "      <td>2021-12-17 08:19:23</td>\n",
       "      <td>1</td>\n",
       "      <td>klima verkehr pöstchen</td>\n",
       "    </tr>\n",
       "    <tr>\n",
       "      <th>707237</th>\n",
       "      <td>707237</td>\n",
       "      <td>@b_riexinger @Linksfraktion Na ob das noch lan...</td>\n",
       "      <td>LINKE</td>\n",
       "      <td>b_riexinger</td>\n",
       "      <td>2021-12-17 08:18:07</td>\n",
       "      <td>1</td>\n",
       "      <td>gruppierungen querdenker linke bürger mitte sy...</td>\n",
       "    </tr>\n",
       "    <tr>\n",
       "      <th>707238</th>\n",
       "      <td>707238</td>\n",
       "      <td>@b_riexinger Ich wünsch Dir viel Erfolg.</td>\n",
       "      <td>LINKE</td>\n",
       "      <td>b_riexinger</td>\n",
       "      <td>2021-12-17 07:47:59</td>\n",
       "      <td>0</td>\n",
       "      <td>erfolg</td>\n",
       "    </tr>\n",
       "    <tr>\n",
       "      <th>707239</th>\n",
       "      <td>707239</td>\n",
       "      <td>@b_riexinger Nun, da gibt es ja genügend zu tu...</td>\n",
       "      <td>LINKE</td>\n",
       "      <td>b_riexinger</td>\n",
       "      <td>2021-12-17 02:07:26</td>\n",
       "      <td>2</td>\n",
       "      <td>paris</td>\n",
       "    </tr>\n",
       "    <tr>\n",
       "      <th>707240</th>\n",
       "      <td>707240</td>\n",
       "      <td>@b_riexinger Wünsche dir gutes Gelingen lieber...</td>\n",
       "      <td>LINKE</td>\n",
       "      <td>b_riexinger</td>\n",
       "      <td>2021-12-17 01:02:05</td>\n",
       "      <td>0</td>\n",
       "      <td>wünsche gelingen bernd linkspower</td>\n",
       "    </tr>\n",
       "  </tbody>\n",
       "</table>\n",
       "<p>707241 rows × 7 columns</p>\n",
       "</div>"
      ],
      "text/plain": [
       "        Unnamed: 0                                               text   \n",
       "0                0  Wichtige wissenschaftliche Erkenntnis- nun mus...  \\\n",
       "1                1  @KarambaDiaby @HalleSpd @SPD_LSA Ich gratulier...   \n",
       "2                2  @KarambaDiaby @HalleSpd @SPD_LSA Herzlichen Gl...   \n",
       "3                3  @KarambaDiaby @HalleSpd @SPD_LSA Wann werden k...   \n",
       "4                4      @KarambaDiaby @HalleSpd @SPD_LSA Glückwunsch.   \n",
       "...            ...                                                ...   \n",
       "707236      707236  @b_riexinger Klima oder Verkehr fast gleich......   \n",
       "707237      707237  @b_riexinger @Linksfraktion Na ob das noch lan...   \n",
       "707238      707238           @b_riexinger Ich wünsch Dir viel Erfolg.   \n",
       "707239      707239  @b_riexinger Nun, da gibt es ja genügend zu tu...   \n",
       "707240      707240  @b_riexinger Wünsche dir gutes Gelingen lieber...   \n",
       "\n",
       "       source_party source_account                 date  sentiment   \n",
       "0               SPD   KarambaDiaby  2021-01-09 19:35:29          0  \\\n",
       "1               SPD   KarambaDiaby  2021-01-09 17:09:28          0   \n",
       "2               SPD   KarambaDiaby  2021-01-09 13:16:13          0   \n",
       "3               SPD   KarambaDiaby  2021-01-09 12:32:40          1   \n",
       "4               SPD   KarambaDiaby  2021-01-09 12:13:06          0   \n",
       "...             ...            ...                  ...        ...   \n",
       "707236        LINKE    b_riexinger  2021-12-17 08:19:23          1   \n",
       "707237        LINKE    b_riexinger  2021-12-17 08:18:07          1   \n",
       "707238        LINKE    b_riexinger  2021-12-17 07:47:59          0   \n",
       "707239        LINKE    b_riexinger  2021-12-17 02:07:26          2   \n",
       "707240        LINKE    b_riexinger  2021-12-17 01:02:05          0   \n",
       "\n",
       "                                               clean_text  \n",
       "0                                    erkenntnis umsetzung  \n",
       "1                                                  linken  \n",
       "2                                      glückwunsch erfolg  \n",
       "3       steuern sozialabgaben rente senkung renteneint...  \n",
       "4                                             glückwunsch  \n",
       "...                                                   ...  \n",
       "707236                             klima verkehr pöstchen  \n",
       "707237  gruppierungen querdenker linke bürger mitte sy...  \n",
       "707238                                             erfolg  \n",
       "707239                                              paris  \n",
       "707240                  wünsche gelingen bernd linkspower  \n",
       "\n",
       "[707241 rows x 7 columns]"
      ]
     },
     "execution_count": 4,
     "metadata": {},
     "output_type": "execute_result"
    }
   ],
   "source": [
    "df_mentions = pd.read_csv(FILTERED_DATASET_MENTIONS_PATH)\n",
    "df_mentions"
   ]
  },
  {
   "cell_type": "code",
   "execution_count": 5,
   "id": "7fb50e41-70bd-4c45-9280-1297451ab8c5",
   "metadata": {
    "tags": []
   },
   "outputs": [
    {
     "data": {
      "text/html": [
       "<div>\n",
       "<style scoped>\n",
       "    .dataframe tbody tr th:only-of-type {\n",
       "        vertical-align: middle;\n",
       "    }\n",
       "\n",
       "    .dataframe tbody tr th {\n",
       "        vertical-align: top;\n",
       "    }\n",
       "\n",
       "    .dataframe thead th {\n",
       "        text-align: right;\n",
       "    }\n",
       "</style>\n",
       "<table border=\"1\" class=\"dataframe\">\n",
       "  <thead>\n",
       "    <tr style=\"text-align: right;\">\n",
       "      <th></th>\n",
       "      <th>Unnamed: 0</th>\n",
       "      <th>UserScreenName</th>\n",
       "      <th>source_account</th>\n",
       "      <th>date</th>\n",
       "      <th>Text</th>\n",
       "      <th>text</th>\n",
       "      <th>Emojis</th>\n",
       "      <th>Comments</th>\n",
       "      <th>Likes</th>\n",
       "      <th>Retweets</th>\n",
       "      <th>Image link</th>\n",
       "      <th>Tweet URL</th>\n",
       "      <th>id</th>\n",
       "      <th>source_party</th>\n",
       "      <th>sentiment</th>\n",
       "      <th>clean_text</th>\n",
       "    </tr>\n",
       "  </thead>\n",
       "  <tbody>\n",
       "    <tr>\n",
       "      <th>0</th>\n",
       "      <td>0</td>\n",
       "      <td>AfD Berlin</td>\n",
       "      <td>AfDBerlin</td>\n",
       "      <td>2021-03-26 21:07:22</td>\n",
       "      <td>AfD Berlin\\n@AfDBerlin\\n·\\n26. März</td>\n",
       "      <td>AfD wirkt.\\n\\nSchluss mit dem #Gendergaga\\nMDR...</td>\n",
       "      <td>NaN</td>\n",
       "      <td>4.0</td>\n",
       "      <td>28.0</td>\n",
       "      <td>132.0</td>\n",
       "      <td>['https://pbs.twimg.com/profile_images/1037343...</td>\n",
       "      <td>https://twitter.com/AfDBerlin/status/137555499...</td>\n",
       "      <td>1</td>\n",
       "      <td>AfD</td>\n",
       "      <td>2</td>\n",
       "      <td>afd schluss gendergaga mdr aktuell märz gender...</td>\n",
       "    </tr>\n",
       "    <tr>\n",
       "      <th>1</th>\n",
       "      <td>1</td>\n",
       "      <td>AfD Berlin</td>\n",
       "      <td>AfDBerlin</td>\n",
       "      <td>2021-03-27 07:20:27</td>\n",
       "      <td>AfD Berlin\\n@AfDBerlin\\n·\\n27. März</td>\n",
       "      <td>Im Herbst wird gewählt.\\nSchluss mit den Recht...</td>\n",
       "      <td>NaN</td>\n",
       "      <td>10.0</td>\n",
       "      <td>20.0</td>\n",
       "      <td>112.0</td>\n",
       "      <td>['https://pbs.twimg.com/card_img/1471780757332...</td>\n",
       "      <td>https://twitter.com/AfDBerlin/status/137570928...</td>\n",
       "      <td>2</td>\n",
       "      <td>AfD</td>\n",
       "      <td>2</td>\n",
       "      <td>herbst schluss rechtsbrüchen regierung bild pr...</td>\n",
       "    </tr>\n",
       "    <tr>\n",
       "      <th>2</th>\n",
       "      <td>2</td>\n",
       "      <td>AfD Berlin</td>\n",
       "      <td>AfDBerlin</td>\n",
       "      <td>2021-03-31 07:14:04</td>\n",
       "      <td>AfD Berlin\\n@AfDBerlin\\n·\\n31. März</td>\n",
       "      <td>Behördenwillkür\\nFlüchtlingsheime durchgedrück...</td>\n",
       "      <td>NaN</td>\n",
       "      <td>3.0</td>\n",
       "      <td>13.0</td>\n",
       "      <td>34.0</td>\n",
       "      <td>['https://pbs.twimg.com/media/ExylKvEU8AgowSU?...</td>\n",
       "      <td>https://twitter.com/AfDBerlin/status/137715723...</td>\n",
       "      <td>3</td>\n",
       "      <td>AfD</td>\n",
       "      <td>1</td>\n",
       "      <td>behördenwillkür flüchtlingsheime vorwürfen sen...</td>\n",
       "    </tr>\n",
       "    <tr>\n",
       "      <th>3</th>\n",
       "      <td>3</td>\n",
       "      <td>AfD Berlin</td>\n",
       "      <td>AfDBerlin</td>\n",
       "      <td>2021-04-01 14:29:00</td>\n",
       "      <td>AfD Berlin\\n@AfDBerlin\\n·\\n1. Apr.</td>\n",
       "      <td>Aus Raider wird jetzt Twix \\n\\nLeider kein #Ap...</td>\n",
       "      <td>NaN</td>\n",
       "      <td>1.0</td>\n",
       "      <td>4.0</td>\n",
       "      <td>17.0</td>\n",
       "      <td>['https://pbs.twimg.com/card_img/1472910546907...</td>\n",
       "      <td>https://twitter.com/AfDBerlin/status/137762907...</td>\n",
       "      <td>4</td>\n",
       "      <td>AfD</td>\n",
       "      <td>2</td>\n",
       "      <td>raider twix aprilscherz bz berlin name astraze...</td>\n",
       "    </tr>\n",
       "    <tr>\n",
       "      <th>4</th>\n",
       "      <td>4</td>\n",
       "      <td>AfD Berlin</td>\n",
       "      <td>AfDBerlin</td>\n",
       "      <td>2021-04-01 05:02:10</td>\n",
       "      <td>AfD Berlin\\n@AfDBerlin\\n·\\n1. Apr.</td>\n",
       "      <td>Gendern geht („*innen“)\\nImpfen geht nicht.\\nD...</td>\n",
       "      <td>NaN</td>\n",
       "      <td>1.0</td>\n",
       "      <td>3.0</td>\n",
       "      <td>16.0</td>\n",
       "      <td>['https://pbs.twimg.com/profile_images/9706413...</td>\n",
       "      <td>https://twitter.com/AfDBerlin/status/137748642...</td>\n",
       "      <td>5</td>\n",
       "      <td>AfD</td>\n",
       "      <td>1</td>\n",
       "      <td>gendern impfen regierung deutschland welt abwä...</td>\n",
       "    </tr>\n",
       "    <tr>\n",
       "      <th>...</th>\n",
       "      <td>...</td>\n",
       "      <td>...</td>\n",
       "      <td>...</td>\n",
       "      <td>...</td>\n",
       "      <td>...</td>\n",
       "      <td>...</td>\n",
       "      <td>...</td>\n",
       "      <td>...</td>\n",
       "      <td>...</td>\n",
       "      <td>...</td>\n",
       "      <td>...</td>\n",
       "      <td>...</td>\n",
       "      <td>...</td>\n",
       "      <td>...</td>\n",
       "      <td>...</td>\n",
       "      <td>...</td>\n",
       "    </tr>\n",
       "    <tr>\n",
       "      <th>58859</th>\n",
       "      <td>58859</td>\n",
       "      <td>Tino Chrupalla</td>\n",
       "      <td>Tino_Chrupalla</td>\n",
       "      <td>2021-12-04 17:26:46</td>\n",
       "      <td>Tino Chrupalla\\n@Tino_Chrupalla\\n·\\n4. Dez. 2021</td>\n",
       "      <td>Friedlicher Protest gegen einen #Impfzwang ist...</td>\n",
       "      <td>NaN</td>\n",
       "      <td>265.0</td>\n",
       "      <td>122.0</td>\n",
       "      <td>578.0</td>\n",
       "      <td>[]</td>\n",
       "      <td>https://twitter.com/Tino_Chrupalla/status/1467...</td>\n",
       "      <td>61802</td>\n",
       "      <td>AfD</td>\n",
       "      <td>1</td>\n",
       "      <td>protest impfzwang grundrecht schutz privatsphä...</td>\n",
       "    </tr>\n",
       "    <tr>\n",
       "      <th>58860</th>\n",
       "      <td>58860</td>\n",
       "      <td>Tino Chrupalla</td>\n",
       "      <td>Tino_Chrupalla</td>\n",
       "      <td>2021-12-13 16:30:19</td>\n",
       "      <td>Tino Chrupalla\\n@Tino_Chrupalla\\n·\\n13. Dez. 2021</td>\n",
       "      <td>@OlafScholz\\n muss sich endlich klar zu Nord S...</td>\n",
       "      <td>NaN</td>\n",
       "      <td>4.0</td>\n",
       "      <td>2.0</td>\n",
       "      <td>11.0</td>\n",
       "      <td>[]</td>\n",
       "      <td>https://twitter.com/Tino_Chrupalla/status/1470...</td>\n",
       "      <td>61803</td>\n",
       "      <td>AfD</td>\n",
       "      <td>0</td>\n",
       "      <td>nord stream interessen energieversorgung</td>\n",
       "    </tr>\n",
       "    <tr>\n",
       "      <th>58861</th>\n",
       "      <td>58861</td>\n",
       "      <td>Tino Chrupalla</td>\n",
       "      <td>Tino_Chrupalla</td>\n",
       "      <td>2021-12-17 14:02:24</td>\n",
       "      <td>Tino Chrupalla\\n@Tino_Chrupalla\\n·\\n17. Dez. 2021</td>\n",
       "      <td>Mit \\n@_FriedrichMerz\\n gibt es keine konserva...</td>\n",
       "      <td>NaN</td>\n",
       "      <td>188.0</td>\n",
       "      <td>227.0</td>\n",
       "      <td>1.008</td>\n",
       "      <td>[]</td>\n",
       "      <td>https://twitter.com/Tino_Chrupalla/status/1471...</td>\n",
       "      <td>61804</td>\n",
       "      <td>AfD</td>\n",
       "      <td>1</td>\n",
       "      <td>erneuerung ausgrenzung bürger kälte management...</td>\n",
       "    </tr>\n",
       "    <tr>\n",
       "      <th>58862</th>\n",
       "      <td>58862</td>\n",
       "      <td>Tino Chrupalla</td>\n",
       "      <td>Tino_Chrupalla</td>\n",
       "      <td>2021-12-19 09:27:23</td>\n",
       "      <td>Tino Chrupalla\\n@Tino_Chrupalla\\n·\\n19. Dez. 2021</td>\n",
       "      <td>Wir wünschen Ihnen und Ihrer Familie einen bes...</td>\n",
       "      <td>NaN</td>\n",
       "      <td>449.0</td>\n",
       "      <td>346.0</td>\n",
       "      <td>2.648</td>\n",
       "      <td>['https://pbs.twimg.com/media/FG9dwrcXIAUF5BP?...</td>\n",
       "      <td>https://twitter.com/Tino_Chrupalla/status/1472...</td>\n",
       "      <td>61805</td>\n",
       "      <td>AfD</td>\n",
       "      <td>0</td>\n",
       "      <td>familie advent</td>\n",
       "    </tr>\n",
       "    <tr>\n",
       "      <th>58863</th>\n",
       "      <td>58863</td>\n",
       "      <td>Tino Chrupalla</td>\n",
       "      <td>Tino_Chrupalla</td>\n",
       "      <td>2021-12-23 13:40:49</td>\n",
       "      <td>Tino Chrupalla\\n@Tino_Chrupalla\\n·\\n23. Dez. 2021</td>\n",
       "      <td>@_FriedrichMerz\\n will parlamentarische Zusamm...</td>\n",
       "      <td>NaN</td>\n",
       "      <td>9.0</td>\n",
       "      <td>4.0</td>\n",
       "      <td>11.0</td>\n",
       "      <td>['https://pbs.twimg.com/card_img/1481535392549...</td>\n",
       "      <td>https://twitter.com/Tino_Chrupalla/status/1474...</td>\n",
       "      <td>61806</td>\n",
       "      <td>AfD</td>\n",
       "      <td>1</td>\n",
       "      <td>zusammenarbeit afd brandmauern cdu abgeordnete...</td>\n",
       "    </tr>\n",
       "  </tbody>\n",
       "</table>\n",
       "<p>58864 rows × 16 columns</p>\n",
       "</div>"
      ],
      "text/plain": [
       "       Unnamed: 0  UserScreenName  source_account                 date   \n",
       "0               0      AfD Berlin       AfDBerlin  2021-03-26 21:07:22  \\\n",
       "1               1      AfD Berlin       AfDBerlin  2021-03-27 07:20:27   \n",
       "2               2      AfD Berlin       AfDBerlin  2021-03-31 07:14:04   \n",
       "3               3      AfD Berlin       AfDBerlin  2021-04-01 14:29:00   \n",
       "4               4      AfD Berlin       AfDBerlin  2021-04-01 05:02:10   \n",
       "...           ...             ...             ...                  ...   \n",
       "58859       58859  Tino Chrupalla  Tino_Chrupalla  2021-12-04 17:26:46   \n",
       "58860       58860  Tino Chrupalla  Tino_Chrupalla  2021-12-13 16:30:19   \n",
       "58861       58861  Tino Chrupalla  Tino_Chrupalla  2021-12-17 14:02:24   \n",
       "58862       58862  Tino Chrupalla  Tino_Chrupalla  2021-12-19 09:27:23   \n",
       "58863       58863  Tino Chrupalla  Tino_Chrupalla  2021-12-23 13:40:49   \n",
       "\n",
       "                                                    Text   \n",
       "0                    AfD Berlin\\n@AfDBerlin\\n·\\n26. März  \\\n",
       "1                    AfD Berlin\\n@AfDBerlin\\n·\\n27. März   \n",
       "2                    AfD Berlin\\n@AfDBerlin\\n·\\n31. März   \n",
       "3                     AfD Berlin\\n@AfDBerlin\\n·\\n1. Apr.   \n",
       "4                     AfD Berlin\\n@AfDBerlin\\n·\\n1. Apr.   \n",
       "...                                                  ...   \n",
       "58859   Tino Chrupalla\\n@Tino_Chrupalla\\n·\\n4. Dez. 2021   \n",
       "58860  Tino Chrupalla\\n@Tino_Chrupalla\\n·\\n13. Dez. 2021   \n",
       "58861  Tino Chrupalla\\n@Tino_Chrupalla\\n·\\n17. Dez. 2021   \n",
       "58862  Tino Chrupalla\\n@Tino_Chrupalla\\n·\\n19. Dez. 2021   \n",
       "58863  Tino Chrupalla\\n@Tino_Chrupalla\\n·\\n23. Dez. 2021   \n",
       "\n",
       "                                                    text Emojis Comments   \n",
       "0      AfD wirkt.\\n\\nSchluss mit dem #Gendergaga\\nMDR...    NaN      4.0  \\\n",
       "1      Im Herbst wird gewählt.\\nSchluss mit den Recht...    NaN     10.0   \n",
       "2      Behördenwillkür\\nFlüchtlingsheime durchgedrück...    NaN      3.0   \n",
       "3      Aus Raider wird jetzt Twix \\n\\nLeider kein #Ap...    NaN      1.0   \n",
       "4      Gendern geht („*innen“)\\nImpfen geht nicht.\\nD...    NaN      1.0   \n",
       "...                                                  ...    ...      ...   \n",
       "58859  Friedlicher Protest gegen einen #Impfzwang ist...    NaN    265.0   \n",
       "58860  @OlafScholz\\n muss sich endlich klar zu Nord S...    NaN      4.0   \n",
       "58861  Mit \\n@_FriedrichMerz\\n gibt es keine konserva...    NaN    188.0   \n",
       "58862  Wir wünschen Ihnen und Ihrer Familie einen bes...    NaN    449.0   \n",
       "58863  @_FriedrichMerz\\n will parlamentarische Zusamm...    NaN      9.0   \n",
       "\n",
       "       Likes Retweets                                         Image link   \n",
       "0       28.0    132.0  ['https://pbs.twimg.com/profile_images/1037343...  \\\n",
       "1       20.0    112.0  ['https://pbs.twimg.com/card_img/1471780757332...   \n",
       "2       13.0     34.0  ['https://pbs.twimg.com/media/ExylKvEU8AgowSU?...   \n",
       "3        4.0     17.0  ['https://pbs.twimg.com/card_img/1472910546907...   \n",
       "4        3.0     16.0  ['https://pbs.twimg.com/profile_images/9706413...   \n",
       "...      ...      ...                                                ...   \n",
       "58859  122.0    578.0                                                 []   \n",
       "58860    2.0     11.0                                                 []   \n",
       "58861  227.0    1.008                                                 []   \n",
       "58862  346.0    2.648  ['https://pbs.twimg.com/media/FG9dwrcXIAUF5BP?...   \n",
       "58863    4.0     11.0  ['https://pbs.twimg.com/card_img/1481535392549...   \n",
       "\n",
       "                                               Tweet URL     id source_party   \n",
       "0      https://twitter.com/AfDBerlin/status/137555499...      1          AfD  \\\n",
       "1      https://twitter.com/AfDBerlin/status/137570928...      2          AfD   \n",
       "2      https://twitter.com/AfDBerlin/status/137715723...      3          AfD   \n",
       "3      https://twitter.com/AfDBerlin/status/137762907...      4          AfD   \n",
       "4      https://twitter.com/AfDBerlin/status/137748642...      5          AfD   \n",
       "...                                                  ...    ...          ...   \n",
       "58859  https://twitter.com/Tino_Chrupalla/status/1467...  61802          AfD   \n",
       "58860  https://twitter.com/Tino_Chrupalla/status/1470...  61803          AfD   \n",
       "58861  https://twitter.com/Tino_Chrupalla/status/1471...  61804          AfD   \n",
       "58862  https://twitter.com/Tino_Chrupalla/status/1472...  61805          AfD   \n",
       "58863  https://twitter.com/Tino_Chrupalla/status/1474...  61806          AfD   \n",
       "\n",
       "       sentiment                                         clean_text  \n",
       "0              2  afd schluss gendergaga mdr aktuell märz gender...  \n",
       "1              2  herbst schluss rechtsbrüchen regierung bild pr...  \n",
       "2              1  behördenwillkür flüchtlingsheime vorwürfen sen...  \n",
       "3              2  raider twix aprilscherz bz berlin name astraze...  \n",
       "4              1  gendern impfen regierung deutschland welt abwä...  \n",
       "...          ...                                                ...  \n",
       "58859          1  protest impfzwang grundrecht schutz privatsphä...  \n",
       "58860          0           nord stream interessen energieversorgung  \n",
       "58861          1  erneuerung ausgrenzung bürger kälte management...  \n",
       "58862          0                                     familie advent  \n",
       "58863          1  zusammenarbeit afd brandmauern cdu abgeordnete...  \n",
       "\n",
       "[58864 rows x 16 columns]"
      ]
     },
     "execution_count": 5,
     "metadata": {},
     "output_type": "execute_result"
    }
   ],
   "source": [
    "df_politicians = pd.read_csv(FILTERED_DATASET_POLITICIANS_PATH)\n",
    "df_politicians"
   ]
  },
  {
   "cell_type": "markdown",
   "id": "97d2a4b5-802c-4af1-b3e6-3f92220d51a2",
   "metadata": {},
   "source": [
    "## 4. Code"
   ]
  },
  {
   "cell_type": "code",
   "execution_count": 6,
   "id": "7e2edfef-49c6-4f2d-9a80-7dff17ea65fc",
   "metadata": {
    "tags": []
   },
   "outputs": [],
   "source": [
    "text_data = []\n",
    "for text in df_mentions['clean_text'].astype(str):\n",
    "    tokens = word_tokenize(text)\n",
    "    text_data.append(tokens)"
   ]
  },
  {
   "cell_type": "code",
   "execution_count": 7,
   "id": "f2ba9555-f6c8-4928-a8f8-d3133318ab40",
   "metadata": {
    "tags": []
   },
   "outputs": [],
   "source": [
    "dictionary = corpora.Dictionary(text_data)\n",
    "corpus = [dictionary.doc2bow(text) for text in text_data]"
   ]
  },
  {
   "cell_type": "code",
   "execution_count": 8,
   "id": "c714c2bc-4b0e-466e-9403-9f23e003313d",
   "metadata": {
    "tags": []
   },
   "outputs": [],
   "source": [
    "lda_model = LdaModel(corpus=corpus, id2word=dictionary, num_topics=N_TOPICS, passes=10, alpha='auto', per_word_topics=True)"
   ]
  },
  {
   "cell_type": "code",
   "execution_count": 9,
   "id": "3a09be8f-1eee-4c28-94d0-d68c003c4600",
   "metadata": {},
   "outputs": [],
   "source": [
    "lda_model.save(\"model/model_mentions.model\")"
   ]
  },
  {
   "cell_type": "code",
   "execution_count": 10,
   "id": "8d55e028-7642-481e-853c-221791dd3bb4",
   "metadata": {
    "tags": []
   },
   "outputs": [
    {
     "name": "stdout",
     "output_type": "stream",
     "text": [
      "Topic #1:\n",
      "\n",
      "deutschland (0.17) demokratie (0.07) staat (0.05) antwort (0.04) nazis (0.04) freiheit (0.04) oh (0.03) volk (0.03) nazi (0.03) art (0.02) usa (0.02) schutz (0.02) osten (0.01) gesetz (0.01) westen (0.01) vorsitzende (0.01) tat (0.01) antifa (0.01) gg (0.01) klasse (0.01) Topic #2:\n",
      "\n",
      "afd (0.24) corona (0.07) wahl (0.06) wähler (0.05) tweet (0.04) macht (0.03) weidel (0.03) steuern (0.03) maßnahmen (0.03) zahlen (0.02) erfolg (0.02) unterschied (0.02) sinn (0.02) reichen (0.01) prozent (0.01) rolle (0.01) bahn (0.01) mindestlohn (0.01) familie (0.01) video (0.01) Topic #3:\n",
      "\n",
      "herr (0.12) jahre (0.08) wahlkampf (0.03) twitter (0.03) hartz (0.03) idee (0.03) gott (0.02) grün (0.02) mitglied (0.02) rot (0.02) amt (0.02) deutschen (0.02) argumente (0.02) frieden (0.02) positionen (0.02) zeiten (0.02) vergangenheit (0.01) migranten (0.01) abgeordneten (0.01) arsch (0.01) Topic #4:\n",
      "\n",
      "linke (0.2) geld (0.07) parteien (0.07) berlin (0.05) recht (0.05) millionen (0.03) interview (0.02) länder (0.02) artikel (0.02) programm (0.02) tja (0.02) bildung (0.01) tage (0.01) unterstützung (0.01) kompetenz (0.01) regeln (0.01) arbeiter (0.01) verfassungsschutz (0.01) rechten (0.01) abgeordnete (0.01) Topic #5:\n",
      "\n",
      "ja (0.1) problem (0.09) bundeswehr (0.05) grund (0.04) beispiel (0.04) angst (0.03) fakten (0.03) probleme (0.03) wahrheit (0.03) themen (0.03) bundesregierung (0.02) realität (0.02) ländern (0.02) ne (0.02) tweets (0.02) argument (0.02) ca (0.02) spahn (0.01) boden (0.01) mund (0.01) Topic #6:\n",
      "\n",
      "spd (0.13) jahren (0.1) btw (0.06) union (0.04) grüne (0.03) opposition (0.03) ergebnis (0.03) mitglieder (0.03) entscheidung (0.02) einkommen (0.02) bund (0.02) reiche (0.02) ernst (0.02) augen (0.02) deutschlands (0.02) ideen (0.01) un (0.01) bge (0.01) eltern (0.01) propaganda (0.01) Topic #7:\n",
      "\n",
      "ddr (0.1) sozialismus (0.06) bitte (0.05) stimmen (0.04) geschichte (0.03) system (0.03) ziel (0.03) kosten (0.03) faschisten (0.02) position (0.02) kampf (0.02) super (0.02) faschismus (0.02) stasi (0.02) plan (0.02) ordnung (0.01) rechts (0.01) tipp (0.01) tagen (0.01) lager (0.01) Topic #8:\n",
      "\n",
      "jahr (0.08) fall (0.06) aussagen (0.03) virus (0.03) glück (0.03) verantwortung (0.03) platz (0.03) lockdown (0.03) worte (0.03) wochen (0.02) schuld (0.02) monaten (0.02) bt (0.02) wohlstand (0.01) zusammenhang (0.01) dreck (0.01) werte (0.01) the (0.01) gegner (0.01) kommentare (0.01) Topic #9:\n",
      "\n",
      "partei (0.23) menschen (0.2) arbeit (0.04) laschet (0.03) wirtschaft (0.02) sache (0.02) europa (0.02) diktatur (0.02) wahlen (0.02) scholz (0.02) chance (0.02) hilfe (0.02) uhr (0.01) parlament (0.01) sachsen (0.01) grenzen (0.01) kanzler (0.01) dummheit (0.01) buch (0.01) geimpften (0.01) Topic #10:\n",
      "\n",
      "welt (0.07) nein (0.07) eu (0.05) naja (0.04) stimme (0.04) kopf (0.03) diskussion (0.02) personen (0.02) masken (0.02) maske (0.02) gute (0.02) antworten (0.02) kommunisten (0.02) rechte (0.02) hoffnung (0.01) foto (0.01) wissenschaft (0.01) meinungen (0.01) studie (0.01) witz (0.01) Topic #11:\n",
      "\n",
      "meinung (0.1) kinder (0.07) tag (0.05) mehrheit (0.04) seite (0.03) bundestagswahl (0.03) sicherheit (0.02) mio (0.02) schulen (0.02) impfungen (0.02) woche (0.02) schule (0.02) grundgesetz (0.02) tests (0.02) blick (0.02) risiko (0.02) hr (0.01) brd (0.01) inzidenz (0.01) hause (0.01) Topic #12:\n",
      "\n",
      "frau (0.16) leute (0.1) impfung (0.08) fragen (0.04) frauen (0.03) thüringen (0.02) liebe (0.02) dank (0.02) ampel (0.02) herrn (0.02) situation (0.02) gegenteil (0.02) dinge (0.02) quelle (0.02) daten (0.02) linkspartei (0.02) satz (0.02) denken (0.01) strom (0.01) einstellung (0.01) Topic #13:\n",
      "\n",
      "amp (0.12) zukunft (0.04) mann (0.04) unternehmen (0.03) rede (0.03) beitrag (0.02) test (0.02) steuer (0.02) tote (0.02) bayern (0.02) renten (0.01) gesicht (0.01) autos (0.01) familien (0.01) örr (0.01) pflicht (0.01) blöd (0.01) entwicklung (0.01) infektion (0.01) israel (0.01) Topic #14:\n",
      "\n",
      "linken (0.14) sed (0.1) thema (0.07) nato (0.04) impfstoff (0.03) bzw (0.03) russland (0.03) fehler (0.03) medien (0.02) leuten (0.02) putin (0.02) quatsch (0.02) niveau (0.02) auto (0.01) markt (0.01) sicht (0.01) rassismus (0.01) haltung (0.01) politikern (0.01) möglichkeit (0.01) Topic #15:\n",
      "\n",
      "land (0.13) bundestag (0.1) mal (0.05) noafd (0.03) hetze (0.03) hass (0.03) wohnungen (0.02) ungeimpfte (0.02) fake (0.02) mist (0.02) männer (0.02) gegensatz (0.02) vertrauen (0.01) grenze (0.01) interessen (0.01) sozialisten (0.01) okay (0.01) landes (0.01) folgen (0.01) skandal (0.01) Topic #16:\n",
      "\n",
      "grünen (0.11) pandemie (0.07) bild (0.04) sorry (0.04) afghanistan (0.04) unsinn (0.03) hand (0.02) trump (0.02) richtung (0.02) vergleich (0.02) china (0.02) schade (0.02) gesundheit (0.02) gründen (0.01) debatte (0.01) folge (0.01) spiel (0.01) aufgabe (0.01) toten (0.01) groko (0.01) Topic #17:\n",
      "\n",
      "frage (0.08) zeit (0.08) regierung (0.07) aussage (0.03) teil (0.03) punkt (0.03) na (0.03) covid (0.03) person (0.02) lage (0.02) lösung (0.02) opfer (0.02) gerechtigkeit (0.02) rest (0.02) blödsinn (0.01) wissen (0.01) geimpfte (0.01) fraktion (0.01) gewalt (0.01) mietendeckel (0.01) Topic #18:\n",
      "\n",
      "cdu (0.12) fdp (0.11) politik (0.11) leben (0.05) merkel (0.05) ende (0.04) csu (0.03) bevölkerung (0.03) koalition (0.02) mitte (0.02) alternative (0.02) lügen (0.01) stelle (0.01) schande (0.01) sprache (0.01) basis (0.01) moment (0.01) sowas (0.01) krise (0.01) freund (0.01) Topic #19:\n",
      "\n",
      "ahnung (0.08) bürger (0.07) gesellschaft (0.06) mensch (0.05) glückwunsch (0.03) vermögen (0.03) solidarität (0.02) schwachsinn (0.02) hauptsache (0.02) respekt (0.02) polizei (0.02) kind (0.02) gedanken (0.02) september (0.02) kubicki (0.01) personal (0.01) staaten (0.01) verstand (0.01) rechtsstaat (0.01) nix (0.01) Topic #20:\n",
      "\n",
      "danke (0.1) politiker (0.1) rente (0.04) ach (0.04) ok (0.03) wort (0.03) krieg (0.03) kritik (0.03) impfen (0.03) namen (0.02) wieso (0.02) baerbock (0.02) soldaten (0.02) altparteien (0.02) kanzlerin (0.02) gefahr (0.02) verhalten (0.02) spaß (0.01) wert (0.01) korruption (0.01) "
     ]
    }
   ],
   "source": [
    "topics = lda_model.show_topics(num_topics=N_TOPICS, num_words=20, formatted=False)\n",
    "for topic in topics:\n",
    "    topic_num = topic[0] + 1\n",
    "    words = [word[0] for word in topic[1]]\n",
    "    scores = [round(word[1], 4) for word in topic[1]]\n",
    "    print(f\"Topic #{topic_num}:\\n\")\n",
    "    for i in range(len(words)):\n",
    "        score = str(round(scores[i], 2))\n",
    "        print(f\"{words[i]} ({score}) \", end=\"\")"
   ]
  },
  {
   "cell_type": "code",
   "execution_count": 11,
   "id": "7184fbd0-2137-4492-87d8-7ef89cb37b67",
   "metadata": {
    "tags": []
   },
   "outputs": [],
   "source": [
    "dictionary.save('model/dictionary.dict')\n",
    "corpora.MmCorpus.serialize('model/corpus.mm', corpus)"
   ]
  },
  {
   "cell_type": "code",
   "execution_count": 12,
   "id": "490a340f-46f8-437d-9304-20d93fc43faa",
   "metadata": {
    "tags": []
   },
   "outputs": [],
   "source": [
    "import pyLDAvis\n",
    "import pyLDAvis.gensim"
   ]
  },
  {
   "cell_type": "code",
   "execution_count": 13,
   "id": "6532ea7d-4af9-4d73-8f0c-dc4e39b89498",
   "metadata": {
    "tags": []
   },
   "outputs": [],
   "source": [
    "load_dictionary = corpora.Dictionary.load('model/dictionary.dict')\n",
    "load_corpus = corpora.MmCorpus('model/corpus.mm')\n",
    "load_lda_model = LdaModel.load(\"model/model_mentions.model\")"
   ]
  },
  {
   "cell_type": "code",
   "execution_count": 14,
   "id": "0d887b4b-13a9-48cd-a0ee-9740b1a15184",
   "metadata": {
    "tags": []
   },
   "outputs": [
    {
     "data": {
      "text/html": [
       "\n",
       "<link rel=\"stylesheet\" type=\"text/css\" href=\"https://cdn.jsdelivr.net/gh/bmabey/pyLDAvis@3.4.0/pyLDAvis/js/ldavis.v1.0.0.css\">\n",
       "\n",
       "\n",
       "<div id=\"ldavis_el87321128215984329838814087\" style=\"background-color:white;\"></div>\n",
       "<script type=\"text/javascript\">\n",
       "\n",
       "var ldavis_el87321128215984329838814087_data = {\"mdsDat\": {\"x\": [-0.058011414259774775, -0.13233812075422371, -0.044648264083590614, -0.18836625011522734, -0.3111491022593334, 0.02362639480549368, 0.050265198495134125, 0.06040199054190307, 0.04834190469214152, 0.04496470452651942, 0.02535160753209938, 0.050934504525142754, 0.06027763341268595, 0.057065631438943915, 0.0653669510673983, -0.008234778582129102, 0.06441043773017388, 0.06414301797490612, 0.06366159910039597, 0.06393635421134045], \"y\": [0.024124230428064327, 0.0976677590967201, 0.017157158758205244, 0.32290064405466257, -0.2775515646201694, -0.006942573565379525, -0.012992032075263726, -0.014896313098450043, -0.012600416696829762, -0.01190098457560272, -0.007372880362921164, -0.013120243067660695, -0.014874406892090058, -0.01429902071567525, -0.01570532412285034, 0.0024056067103725674, -0.015561558447814053, -0.015517552670376845, -0.015438240355928435, -0.015482287781012863], \"topics\": [1, 2, 3, 4, 5, 6, 7, 8, 9, 10, 11, 12, 13, 14, 15, 16, 17, 18, 19, 20], \"cluster\": [1, 1, 1, 1, 1, 1, 1, 1, 1, 1, 1, 1, 1, 1, 1, 1, 1, 1, 1, 1], \"Freq\": [7.9958673524912705, 6.70717241951074, 6.284106044530785, 6.026674524603752, 5.451959404411281, 5.378850939008928, 5.295496609927621, 5.1289595346575085, 5.119190531735249, 4.8633127459555645, 4.733670173478029, 4.617728913729604, 4.5764944079327226, 4.568723768194139, 4.539009443254181, 4.30878686855556, 4.282669815577559, 3.497985388690863, 3.451349575213616, 3.1719915385410267]}, \"tinfo\": {\"Term\": [\"partei\", \"afd\", \"menschen\", \"linke\", \"frau\", \"deutschland\", \"cdu\", \"fdp\", \"politik\", \"spd\", \"linken\", \"herr\", \"amp\", \"gr\\u00fcnen\", \"leute\", \"jahren\", \"land\", \"meinung\", \"ja\", \"frage\", \"danke\", \"sed\", \"zeit\", \"politiker\", \"problem\", \"regierung\", \"impfung\", \"corona\", \"geld\", \"jahre\", \"cdu\", \"fdp\", \"politik\", \"leben\", \"merkel\", \"ende\", \"csu\", \"bev\\u00f6lkerung\", \"koalition\", \"mitte\", \"alternative\", \"l\\u00fcgen\", \"stelle\", \"schande\", \"sprache\", \"basis\", \"moment\", \"sowas\", \"krise\", \"freund\", \"n\\u00f6\", \"gruppen\", \"bereich\", \"kandidaten\", \"leistung\", \"merz\", \"angebot\", \"vernunft\", \"statistik\", \"gewerkschaften\", \"partei\", \"menschen\", \"arbeit\", \"laschet\", \"wirtschaft\", \"sache\", \"europa\", \"diktatur\", \"wahlen\", \"scholz\", \"chance\", \"hilfe\", \"uhr\", \"parlament\", \"sachsen\", \"grenzen\", \"kanzler\", \"dummheit\", \"buch\", \"geimpften\", \"zustimmung\", \"wohnung\", \"logik\", \"kohle\", \"versuch\", \"menschenrechte\", \"w\\u00e4hlern\", \"mdb\", \"terroristen\", \"unf\\u00e4higkeit\", \"frage\", \"zeit\", \"regierung\", \"aussage\", \"teil\", \"punkt\", \"na\", \"covid\", \"person\", \"lage\", \"l\\u00f6sung\", \"opfer\", \"gerechtigkeit\", \"rest\", \"bl\\u00f6dsinn\", \"wissen\", \"geimpfte\", \"fraktion\", \"gewalt\", \"mietendeckel\", \"hallo\", \"deutsche\", \"kommentar\", \"klimawandel\", \"anfang\", \"tod\", \"l\\u00f6hne\", \"hinweis\", \"abstimmung\", \"agenda\", \"afd\", \"corona\", \"wahl\", \"w\\u00e4hler\", \"tweet\", \"macht\", \"weidel\", \"steuern\", \"ma\\u00dfnahmen\", \"zahlen\", \"erfolg\", \"unterschied\", \"sinn\", \"reichen\", \"prozent\", \"rolle\", \"bahn\", \"mindestlohn\", \"familie\", \"video\", \"kindern\", \"spitze\", \"ah\", \"inhalte\", \"eindruck\", \"umfragen\", \"bezug\", \"reich\", \"konzerne\", \"tisch\", \"linke\", \"geld\", \"parteien\", \"berlin\", \"recht\", \"millionen\", \"interview\", \"l\\u00e4nder\", \"artikel\", \"programm\", \"tja\", \"bildung\", \"tage\", \"unterst\\u00fctzung\", \"kompetenz\", \"regeln\", \"arbeiter\", \"verfassungsschutz\", \"rechten\", \"abgeordnete\", \"lauterbach\", \"hirn\", \"steuerzahler\", \"\\u00f6pnv\", \"inflation\", \"genossen\", \"typen\", \"gewinn\", \"lass\", \"st\\u00fcck\", \"frau\", \"leute\", \"impfung\", \"fragen\", \"frauen\", \"th\\u00fcringen\", \"liebe\", \"dank\", \"ampel\", \"herrn\", \"situation\", \"gegenteil\", \"dinge\", \"quelle\", \"daten\", \"linkspartei\", \"satz\", \"denken\", \"strom\", \"einstellung\", \"spaltung\", \"typ\", \"ding\", \"bilder\", \"anzahl\", \"april\", \"sorge\", \"republik\", \"unrecht\", \"mord\", \"spd\", \"jahren\", \"btw\", \"union\", \"gr\\u00fcne\", \"opposition\", \"ergebnis\", \"mitglieder\", \"entscheidung\", \"einkommen\", \"bund\", \"reiche\", \"ernst\", \"augen\", \"deutschlands\", \"ideen\", \"un\", \"bge\", \"eltern\", \"propaganda\", \"sinne\", \"hetzer\", \"grippe\", \"pcr\", \"\\u00f6ffentlichkeit\", \"infrastruktur\", \"mutter\", \"immobilien\", \"fortschritt\", \"mitgliedern\", \"meinung\", \"kinder\", \"tag\", \"mehrheit\", \"seite\", \"bundestagswahl\", \"sicherheit\", \"mio\", \"schulen\", \"impfungen\", \"woche\", \"schule\", \"grundgesetz\", \"tests\", \"blick\", \"risiko\", \"hr\", \"brd\", \"inzidenz\", \"hause\", \"aha\", \"regierungsverantwortung\", \"us\", \"\\u00e4rzte\", \"kurs\", \"neid\", \"f\\u00e4lle\", \"its\", \"profil\", \"kampagne\", \"herr\", \"jahre\", \"wahlkampf\", \"twitter\", \"hartz\", \"idee\", \"gott\", \"gr\\u00fcn\", \"mitglied\", \"rot\", \"amt\", \"deutschen\", \"argumente\", \"frieden\", \"positionen\", \"zeiten\", \"vergangenheit\", \"migranten\", \"abgeordneten\", \"arsch\", \"vorsitzenden\", \"haus\", \"seiten\", \"weise\", \"links\", \"leid\", \"posten\", \"experten\", \"ost\", \"anstand\", \"ja\", \"problem\", \"bundeswehr\", \"grund\", \"beispiel\", \"angst\", \"fakten\", \"probleme\", \"wahrheit\", \"themen\", \"bundesregierung\", \"realit\\u00e4t\", \"l\\u00e4ndern\", \"ne\", \"tweets\", \"argument\", \"ca\", \"spahn\", \"boden\", \"mund\", \"verst\\u00e4ndnis\", \"populismus\", \"mp\", \"anspruch\", \"erfahrung\", \"f\\u00fc\\u00dfe\", \"idioten\", \"f\\u00fchrung\", \"gewissen\", \"definition\", \"deutschland\", \"demokratie\", \"staat\", \"antwort\", \"nazis\", \"freiheit\", \"oh\", \"volk\", \"nazi\", \"art\", \"usa\", \"schutz\", \"osten\", \"gesetz\", \"westen\", \"vorsitzende\", \"tat\", \"antifa\", \"gg\", \"klasse\", \"anh\\u00e4nger\", \"konsequenzen\", \"reden\", \"demokraten\", \"entscheidungen\", \"liste\", \"wunder\", \"teile\", \"energie\", \"gut\", \"danke\", \"politiker\", \"rente\", \"ach\", \"ok\", \"wort\", \"krieg\", \"kritik\", \"impfen\", \"namen\", \"wieso\", \"baerbock\", \"soldaten\", \"altparteien\", \"kanzlerin\", \"gefahr\", \"verhalten\", \"spa\\u00df\", \"wert\", \"korruption\", \"monate\", \"dr\", \"gruppe\", \"schaden\", \"habeck\", \"schei\\u00dfe\", \"haufen\", \"zeug\", \"m\\u00fcll\", \"reihen\", \"gr\\u00fcnen\", \"pandemie\", \"bild\", \"sorry\", \"afghanistan\", \"unsinn\", \"hand\", \"trump\", \"richtung\", \"vergleich\", \"china\", \"schade\", \"gesundheit\", \"gr\\u00fcnden\", \"debatte\", \"folge\", \"spiel\", \"aufgabe\", \"toten\", \"groko\", \"verbrechen\", \"zahl\", \"tv\", \"arzt\", \"gro\\u00dfteil\", \"verh\\u00e4ltnis\", \"gr\\u00fc\\u00dfe\", \"wind\", \"deppen\", \"begr\\u00fcndung\", \"welt\", \"nein\", \"eu\", \"naja\", \"stimme\", \"kopf\", \"diskussion\", \"personen\", \"masken\", \"maske\", \"gute\", \"antworten\", \"kommunisten\", \"rechte\", \"hoffnung\", \"foto\", \"wissenschaft\", \"meinungen\", \"studie\", \"witz\", \"linie\", \"stunden\", \"freunde\", \"sagt\", \"stra\\u00dfe\", \"vorschl\\u00e4ge\", \"faschist\", \"nacht\", \"kultur\", \"abstand\", \"jahr\", \"fall\", \"aussagen\", \"virus\", \"gl\\u00fcck\", \"verantwortung\", \"platz\", \"lockdown\", \"worte\", \"wochen\", \"schuld\", \"monaten\", \"bt\", \"wohlstand\", \"zusammenhang\", \"dreck\", \"werte\", \"the\", \"gegner\", \"kommentare\", \"fan\", \"aufkl\\u00e4rung\", \"ansichten\", \"rahmen\", \"verein\", \"welle\", \"l\\u00f6sungen\", \"chef\", \"reihe\", \"ergebnisse\", \"linken\", \"sed\", \"thema\", \"nato\", \"impfstoff\", \"bzw\", \"russland\", \"fehler\", \"medien\", \"leuten\", \"putin\", \"quatsch\", \"niveau\", \"auto\", \"markt\", \"sicht\", \"rassismus\", \"haltung\", \"politikern\", \"m\\u00f6glichkeit\", \"ort\", \"begriff\", \"wasser\", \"rentner\", \"menge\", \"tatsache\", \"klappe\", \"hey\", \"inhalt\", \"ziele\", \"amp\", \"zukunft\", \"mann\", \"unternehmen\", \"rede\", \"beitrag\", \"test\", \"steuer\", \"tote\", \"bayern\", \"renten\", \"gesicht\", \"autos\", \"familien\", \"\\u00f6rr\", \"pflicht\", \"bl\\u00f6d\", \"entwicklung\", \"infektion\", \"israel\", \"sorgen\", \"hitler\", \"polen\", \"s\\u00f6der\", \"kollegen\", \"reaktion\", \"passt\", \"weltbild\", \"arbeitnehmer\", \"mandat\", \"ahnung\", \"b\\u00fcrger\", \"gesellschaft\", \"mensch\", \"gl\\u00fcckwunsch\", \"verm\\u00f6gen\", \"solidarit\\u00e4t\", \"schwachsinn\", \"hauptsache\", \"respekt\", \"polizei\", \"kind\", \"gedanken\", \"september\", \"kubicki\", \"personal\", \"staaten\", \"verstand\", \"rechtsstaat\", \"nix\", \"strategie\", \"lol\", \"mach\", \"fresse\", \"peinlich\", \"kontext\", \"parteiprogramm\", \"halt\", \"auge\", \"minderheiten\", \"land\", \"bundestag\", \"mal\", \"noafd\", \"hetze\", \"hass\", \"wohnungen\", \"ungeimpfte\", \"fake\", \"mist\", \"m\\u00e4nner\", \"gegensatz\", \"vertrauen\", \"grenze\", \"interessen\", \"sozialisten\", \"okay\", \"landes\", \"folgen\", \"skandal\", \"morgen\", \"luft\", \"ecke\", \"versagen\", \"schwarz\", \"intelligenz\", \"internet\", \"extremisten\", \"verlauf\", \"satire\", \"ddr\", \"sozialismus\", \"bitte\", \"stimmen\", \"geschichte\", \"system\", \"ziel\", \"kosten\", \"faschisten\", \"position\", \"kampf\", \"super\", \"faschismus\", \"stasi\", \"plan\", \"ordnung\", \"rechts\", \"tipp\", \"tagen\", \"lager\", \"querdenker\", \"wahnsinn\", \"schau\", \"b\\u00fcrgern\", \"gef\\u00fchl\", \"antisemitismus\", \"rum\", \"nadel\", \"arbeiten\", \"krankenh\\u00e4user\"], \"Freq\": [53790.0, 49240.0, 47206.0, 38448.0, 29567.0, 28000.0, 33531.0, 31396.0, 29724.0, 23350.0, 20844.0, 21082.0, 18301.0, 17962.0, 18624.0, 18396.0, 15834.0, 17622.0, 16875.0, 18409.0, 16544.0, 15092.0, 16956.0, 15202.0, 14722.0, 15693.0, 14301.0, 14871.0, 14114.0, 13715.0, 33529.80252560788, 31395.24616505544, 29723.173446583158, 14775.852789543806, 13645.069288243707, 11859.2712021679, 8452.8420963833, 8343.445794609484, 5568.570197611582, 4551.019902310392, 4483.0073900225, 3865.1878155528548, 3444.544345032345, 3334.080062872786, 3259.3289006648083, 3197.357208741504, 2859.6370482445063, 2762.744019369513, 2561.4097676374577, 2379.110741146638, 2365.3603328009776, 2235.6031612965126, 2226.322362837111, 2155.551995197838, 1951.5059639131605, 1703.666816458884, 1481.6383533235955, 1478.8886062831696, 1477.7248706061496, 1306.8308913415099, 53788.90506660773, 47204.86937535662, 8816.732372334398, 6111.813829314536, 5506.1224823617395, 4913.061184906533, 3857.787664701831, 3675.6695799625168, 3613.8802789303327, 3577.802566507637, 3524.2661760628102, 3468.1197394880064, 2923.7631810670964, 2721.4470358394847, 2626.4109551121137, 2618.779031674808, 2569.2259412800972, 2265.8016010574765, 2256.436052506208, 2089.833146019342, 2053.8441768924295, 2016.4983637978812, 1947.8738857065857, 1903.7784000422932, 1892.2039855157047, 1555.30593322839, 1510.4544021865236, 1490.6882905138298, 1320.0281312303623, 1075.2749851435826, 18408.11747880893, 16955.237893280315, 15691.831691044272, 6922.413958955157, 6829.6323029873065, 6727.5282179907135, 6166.437428898356, 5914.581333269568, 5100.108695331662, 4858.593815949808, 4091.09867854006, 3680.677132257675, 3535.6031271126685, 3404.7852647925292, 3210.645811764527, 3139.2754783515384, 3092.632178872716, 3036.6953793906073, 3012.023775896828, 2956.0991144673585, 2885.675549160236, 2365.4871652500633, 2352.176172124044, 2319.474437605853, 2254.6096958057788, 1915.4138378090972, 1866.4590485059957, 1632.7356862637535, 1526.931214769629, 1497.2518553586256, 49238.60472286927, 14869.931992904932, 12350.754885398537, 10755.093005353996, 7788.420606114813, 6765.597617498757, 6671.491746885067, 5938.642143671494, 5225.593172442985, 5185.731930353941, 4687.628211517896, 3649.7749953852995, 3626.6932067233306, 2874.2090470991607, 2867.214859646324, 2716.790743989377, 2679.1014832743836, 2580.4747095809157, 2322.3618366647006, 2206.180137498417, 2009.051728832898, 1799.3460056041326, 1683.5108145873844, 1574.8357895911818, 1497.0565448452066, 1307.8514543873548, 1258.4015790281917, 1216.322762387528, 1194.8600165631158, 1070.971227258962, 38446.39747322773, 14112.792669522527, 12389.087678145885, 10089.932817918036, 9927.418512407312, 4904.536781422788, 4111.698070722646, 4019.554609169335, 3692.733669359242, 3267.6730333557202, 2893.2927228539133, 2727.304332340988, 2291.679803127526, 2148.3749376148353, 2041.9818303484901, 1973.0596626368178, 1885.6822300940562, 1845.592651141947, 1659.4900561474924, 1635.8643826026578, 1573.52356476532, 1539.6866016666747, 1449.761963120227, 1402.9669472928456, 1388.6132229496045, 1377.0830482917697, 1265.170526652041, 1113.795706033825, 1086.8410959306002, 1028.9386261550842, 29565.503123497965, 18622.99526988513, 14300.225365029644, 6747.429861885798, 5963.454141602992, 4519.716899211595, 4452.4119288092, 4152.733123883554, 4114.146487735288, 3934.5652112307203, 3328.3647244843146, 3265.6193632322347, 3069.2396360634434, 2958.652664112511, 2921.18740229424, 2900.0636259059656, 2818.4597475282726, 1922.7398371587474, 1883.9152812560935, 1767.3172857579934, 1614.863363374139, 1450.0298216304388, 1361.9226301410047, 1353.1264389887085, 1133.767195979116, 1044.6207938594368, 1016.7663472724405, 1015.2071417204882, 994.3251811524477, 979.9141530599985, 23348.733468716917, 18394.78978048557, 10733.226210346686, 6530.854052373578, 5389.040809406614, 5276.969796380089, 5015.9267300539, 4677.480467156629, 4189.978959110608, 3800.630535928961, 3162.7590787584604, 3106.1668005666797, 2938.0118660983244, 2817.4856290328676, 2751.686672558766, 2642.8952595173396, 2640.852285911901, 2522.9029504669224, 2408.1924714580027, 2406.8240678255884, 2043.0359993256054, 1790.512255676169, 1525.1391217950616, 1497.4140742861387, 1439.7861598582895, 1437.735173923123, 1385.8067535332107, 1106.8526355262618, 1066.3733228917956, 920.5908587241219, 17620.61444188985, 11676.449390816802, 8877.79057695469, 6418.46452438752, 5958.423623676419, 5396.347640347305, 4150.727019827934, 3946.9966589183914, 3623.9295943243546, 3603.0146215179575, 3414.2805619439177, 3362.2185103485513, 2901.9900402910534, 2835.407545508348, 2784.8572764267205, 2779.043617371591, 2429.401972148588, 2408.9621970349103, 2213.817261569547, 2133.273234019884, 1838.7700418553309, 1755.2453788821176, 1662.495969593908, 1541.273830727633, 1435.7011836320241, 1430.6376368486203, 1404.4873988431038, 1390.7221864571898, 1371.878319369566, 1357.9794473129584, 21080.592610201067, 13713.895839554147, 5914.920425673003, 5910.288904095359, 4587.168792800682, 4491.086803180547, 4365.522864935512, 4213.113438434178, 4057.681261834027, 3973.762454734515, 3913.3852380622175, 3762.474497058574, 3682.275541405496, 3537.8737164362465, 3246.219366944301, 2860.056532245234, 2535.5456373683037, 2239.972029188644, 2234.107643501892, 2093.053552994935, 2006.6238626490176, 2000.3425345486796, 1983.9278578044566, 1852.8378669853555, 1753.4432451693688, 1742.8601590366782, 1653.1320092409833, 1649.9983491641651, 1423.5107805208286, 1382.586976230748, 16874.21613319318, 14721.023465516315, 8107.589444962177, 6644.442071106529, 6165.4831076048495, 5754.200275924365, 5101.1565405081, 5063.0919258804115, 4748.55848293572, 4357.662220178313, 3966.3889560388216, 3738.503519283371, 3615.504939633827, 3458.9231770678853, 3183.425346496602, 3010.1493740586975, 2754.420318617424, 2506.9909298152998, 1939.3096697127364, 1780.4710654014666, 1667.399458190651, 1664.2699396580556, 1471.1855818950971, 1284.9179351686691, 1274.7191710358793, 1145.6953014405178, 1118.029067541199, 1114.8059249112255, 1100.9342937007716, 1042.6736461475125, 27998.56980847773, 11269.22381680908, 8064.6011008331325, 6668.165721054373, 6482.831410765701, 6239.21336743771, 5129.056892802548, 4532.446383059556, 4415.441257147183, 4061.294904847418, 3944.9331632727985, 2954.2215547791516, 2402.4987603163786, 2370.320400117401, 2337.483111951477, 2320.669476820799, 2295.9159425546436, 2257.878548481209, 2223.4478859345286, 2049.5582583872074, 1762.6048816474715, 1713.6328492141315, 1505.5624762953826, 1442.4658565816728, 1442.4608277604634, 1388.2641548676522, 1384.5547134774101, 1227.7522584568517, 1170.6157824016109, 1101.8705773616298, 16543.24845871857, 15200.992221049477, 6064.937012219072, 6030.310252724758, 5262.569354154363, 5197.526964778477, 4927.131652410446, 4849.645559362458, 4190.998308221587, 3475.8302291959594, 3112.460346148217, 2890.558433004675, 2763.188709013108, 2519.198582630415, 2483.6459930306173, 2430.9493429659606, 2390.839849696686, 2359.238241558602, 2280.5084916926185, 2205.020336444519, 2186.30319727442, 2079.5058404099914, 1865.8341228284296, 1738.2821464750575, 1714.1054638794603, 1680.2020649010885, 1664.3468527044604, 1617.3165266813467, 1606.4873767625625, 1188.9229105965487, 17960.763316566874, 10450.414510753437, 6983.018919687175, 6182.710857480382, 5874.441577578105, 4015.1820596658044, 3492.2033777654397, 3414.198458287818, 3351.653912246142, 3315.08134386298, 3086.828314111174, 2874.327368514055, 2868.442767742375, 2353.784618443817, 2267.4696266982423, 2030.5824016576607, 2018.3644370591076, 1819.715920057362, 1817.897737239193, 1781.3441742513428, 1744.541920509334, 1655.2262862341709, 1461.7425222405873, 1397.6673788973997, 1382.7608138411233, 1321.528818705133, 1312.6235387080326, 1285.5723787188253, 1196.688122718648, 1164.3260597046171, 11667.433022977819, 11092.247878231987, 7782.482379990018, 6169.245493559679, 6058.140049136092, 4543.6340113145525, 3569.5943582591076, 3557.6077555003185, 2885.289917015462, 2763.128582516313, 2625.164546762958, 2617.414981137291, 2595.522936249874, 2422.047387456952, 2199.4399750013754, 1957.9282700994484, 1856.078916272182, 1796.4075551115266, 1786.4093064558574, 1751.0050136353289, 1745.0933408177534, 1739.0770951939555, 1722.7559422633308, 1643.0186627441683, 1596.741445489344, 1496.8335277269628, 1438.958730318775, 1437.484121380401, 1421.2566574477555, 1372.9609349994096, 11762.694707480192, 9248.442762500634, 5400.78862230482, 5321.121786724526, 5248.901323796818, 5190.975675309011, 4817.2735604136615, 4417.636559541811, 4140.744010738063, 3564.1627258310205, 3467.484377216695, 3342.186298608629, 3274.138200765733, 2265.605930805448, 2251.0228178325115, 2148.770648872171, 1951.344310263081, 1879.7806653313194, 1859.118442439513, 1769.670498291344, 1601.944899583449, 1510.477696728724, 1505.62177333801, 1487.3686624148695, 1446.75159280887, 1394.9903894367362, 1350.2031465746106, 1271.8613444953694, 1197.6509933654854, 1170.8318506364913, 20842.902998555932, 15090.587174642951, 10532.709510491359, 5363.5885821230395, 4725.6280149971135, 4394.599061749506, 4369.498290770321, 3811.2296684214243, 3502.1044870176875, 2864.588070847649, 2558.342241580794, 2430.62734163901, 2292.533707477265, 2087.1319227420067, 2011.5101595697822, 1885.6036281513882, 1790.2824800781261, 1773.9092337689713, 1744.3928920906158, 1582.4307908510277, 1551.5353895838446, 1527.2757589533467, 1302.2999835906676, 1301.1294058527762, 1266.3097464053958, 1098.419436685893, 1056.242573397091, 1043.0437164150653, 1026.9757025164126, 996.7882795374389, 18299.54220659671, 5993.411804340799, 5947.315894924922, 5069.817120382541, 4193.899711382835, 3552.015027558927, 3070.545884264102, 2607.3384109187587, 2546.9608542635947, 2482.146926167089, 2212.437518964828, 2116.3856240682244, 2032.3385960646358, 2017.6790479576537, 1952.6890602449319, 1905.7557302269438, 1870.9622415454126, 1826.7011021942185, 1690.1287488447517, 1667.525975421669, 1665.1172537655161, 1561.1102767579846, 1493.587760391959, 1444.634914901512, 1435.374620271621, 1415.239300999999, 1402.0919078426296, 1388.9282460597994, 1310.6317635474898, 1147.8665095969757, 9578.076687101191, 8113.586895310548, 7412.064827555012, 5593.2497087924885, 3994.9631197843514, 3376.799025526796, 3007.796720647857, 2850.251857885773, 2517.3267034023643, 2492.0120245150065, 2416.854222352589, 2383.8116533516036, 2146.7005799205845, 1923.653442200101, 1762.220761319913, 1733.0070034364844, 1639.8936187469187, 1528.5240986972653, 1399.5568668222545, 1385.8484370291367, 1282.7482301057644, 1250.1478757825425, 1102.0838840072083, 1067.992814658716, 960.7201146222342, 949.5471841121644, 924.1804236642095, 782.1108787526541, 780.2367308326077, 771.4858462600682, 15832.930062721203, 12026.784990684933, 6191.335533270904, 4092.9578635422404, 3812.5168625248753, 3284.198456430392, 2463.550773551303, 2210.8573046093757, 2140.7698313838787, 2005.2396210978015, 1948.2766052147742, 1798.3293134224477, 1776.026046778091, 1709.4111260379616, 1682.1126903068593, 1642.2556675157464, 1531.9328506054053, 1521.8871809179407, 1470.6328662155042, 1388.2029099353733, 1336.0178480591373, 1331.8204305192316, 1204.244069813048, 1168.3125846126602, 1148.4052391878104, 1114.2096969077327, 1106.0200773024358, 1074.47911440357, 929.0849506772229, 914.4877639819169, 10546.829380951427, 6172.253989886129, 4965.696715894127, 4160.380575164703, 3527.4087529347025, 3307.4904342541545, 3225.6342351917306, 3052.7983387729023, 2620.5669652841575, 2399.821725541842, 2232.6991204796295, 1997.142211188124, 1919.1724798474665, 1676.5823506189045, 1654.3145039780716, 1547.0752593576337, 1488.227541470619, 1335.2023168952283, 1322.0202883962656, 1319.8918193160637, 1310.0500495046126, 1093.9823564499204, 1087.7603319826937, 1014.7484509002386, 955.4372365079928, 944.5849442431894, 905.1996886638473, 853.3314786271405, 822.9472353188614, 807.6898371410451], \"Total\": [53790.0, 49240.0, 47206.0, 38448.0, 29567.0, 28000.0, 33531.0, 31396.0, 29724.0, 23350.0, 20844.0, 21082.0, 18301.0, 17962.0, 18624.0, 18396.0, 15834.0, 17622.0, 16875.0, 18409.0, 16544.0, 15092.0, 16956.0, 15202.0, 14722.0, 15693.0, 14301.0, 14871.0, 14114.0, 13715.0, 33531.460012341355, 31396.903651788896, 29724.830933316614, 14777.510276277264, 13646.726774977165, 11860.928688901358, 8454.499583116758, 8345.103281342943, 5570.22768434504, 4552.67738904385, 4484.664876755957, 3866.8453022863146, 3446.201831765805, 3335.737549606246, 3260.986387398268, 3199.014695474964, 2861.294534977966, 2764.4015061029727, 2563.0672543709175, 2380.7682278800976, 2367.0178195344374, 2237.2606480299723, 2227.979849570571, 2157.209481931298, 1953.16345064662, 1705.3243031923437, 1483.295840057055, 1480.5460930166291, 1479.3823573396091, 1308.4883780853743, 53790.584868661324, 47206.54917741021, 8818.412174387977, 6113.493631368114, 5507.802284415317, 4914.740986960111, 3859.467466755412, 3677.3493820160975, 3615.5600809839134, 3579.4823685612178, 3525.945978116391, 3469.799541541587, 2925.442983120677, 2723.1268378930654, 2628.0907571656944, 2620.4588337283885, 2570.905743333678, 2267.4814031110573, 2258.1158545597887, 2091.512948072923, 2055.52397894601, 2018.1781658514615, 1949.553687760166, 1905.4582020958735, 1893.883787569285, 1556.9857352819702, 1512.1342042401038, 1492.36809256741, 1321.7079332839426, 1076.954787197163, 18409.798721818126, 16956.91913628951, 15693.512934053468, 6924.095201964353, 6831.313545996502, 6729.209460999909, 6168.118671907552, 5916.262576278764, 5101.789938340858, 4860.275058959004, 4092.7799215492573, 3682.3583752668724, 3537.284370121866, 3406.4665078017265, 3212.3270547737243, 3140.9567213607356, 3094.313421881913, 3038.3766223998045, 3013.705018906025, 2957.7803574765558, 2887.3567921694334, 2367.1684082592606, 2353.8574151332414, 2321.15568061505, 2256.290938814976, 1917.095080818294, 1868.1402915151925, 1634.4169292729503, 1528.6124577788257, 1498.9330983678224, 49240.29534971608, 14871.622619751728, 12352.445512245333, 10756.783632200792, 7790.111232961609, 6767.288244345553, 6673.182373731863, 5940.332770518289, 5227.28379928978, 5187.422557200736, 4689.318838364691, 3651.465622232097, 3628.383833570128, 2875.899673945958, 2868.9054864931213, 2718.4813708361744, 2680.792110121181, 2582.165336427713, 2324.052463511498, 2207.8707643452144, 2010.7423556796953, 1801.0366324509298, 1685.2014414341816, 1576.526416437979, 1498.7471716920038, 1309.542081234152, 1260.0922058749888, 1218.0133892343251, 1196.550643409913, 1072.6618541057592, 38448.09764967854, 14114.492845973322, 12390.78785459668, 10091.63299436883, 9929.118688858107, 4906.2369578735825, 4113.39824717344, 4021.2547856201313, 3694.4338458100383, 3269.3732098065166, 2894.9928993047097, 2729.0045087917842, 2293.3799795783225, 2150.0751140656316, 2043.682006799286, 1974.7598390876137, 1887.382406544852, 1847.292827592743, 1661.1902325982883, 1637.5645590534536, 1575.223741216116, 1541.3867781174706, 1451.4621395710228, 1404.6671237436415, 1390.3133994004004, 1378.7832247425656, 1266.8707031028368, 1115.4958824846208, 1088.541272381396, 1030.63880260588, 29567.188014154257, 18624.680160541422, 14301.91025568594, 6749.114752542091, 5965.139032259285, 4521.401789867888, 4454.096819465492, 4154.418014539847, 4115.831378391581, 3936.2501018870153, 3330.0496151406096, 3267.3042538885297, 3070.9245267197384, 2960.337554768806, 2922.872292950535, 2901.7485165622606, 2820.1446381845676, 1924.4247278150422, 1885.6001719123883, 1769.0021764142882, 1616.5482540304338, 1451.7147122867336, 1363.6075207972995, 1354.8113296450033, 1135.4520866354108, 1046.3056845157316, 1018.4512379287354, 1016.892032376783, 996.0100718087426, 981.5990437162934, 23350.407668602413, 18396.463980371067, 10734.900410232183, 6532.528252259074, 5390.71500929211, 5278.643996265585, 5017.600929939396, 4679.154667042125, 4191.653158996104, 3802.3047358144577, 3164.4332786439572, 3107.8410004521766, 2939.686065983821, 2819.1598289183644, 2753.360872444263, 2644.5694594028364, 2642.526485797398, 2524.5771503524193, 2409.8666713434995, 2408.498267711085, 2044.7101992111025, 1792.186455561666, 1526.8133216805586, 1499.0882741716357, 1441.4603597437865, 1439.40937380862, 1387.4809534187077, 1108.5268354117588, 1068.0475227772927, 922.2650586096189, 17622.28051236148, 11678.115461288433, 8879.456647426321, 6420.13059485915, 5960.089694148049, 5398.013710818935, 4152.3930902995635, 3948.6627293900224, 3625.5956647959856, 3604.6806919895885, 3415.9466324155487, 3363.8845808201822, 2903.6561107626844, 2837.073615979979, 2786.5233468983515, 2780.709687843222, 2431.068042620219, 2410.6282675065413, 2215.483332041178, 2134.939304491515, 1840.436112326962, 1756.9114493537488, 1664.1620400655393, 1542.939901199264, 1437.3672541036553, 1432.3037073202515, 1406.153469314735, 1392.388256928821, 1373.5443898411972, 1359.6455177845896, 21082.271381627008, 13715.57461098009, 5916.599197098944, 5911.9676755213, 4588.847564226624, 4492.765574606488, 4367.201636361454, 4214.792209860119, 4059.36003325997, 3975.441226160458, 3915.0640094881605, 3764.153268484517, 3683.954312831439, 3539.5524878621895, 3247.898138370244, 2861.735303671177, 2537.2244087942468, 2241.650800614587, 2235.7864149278353, 2094.7323244208783, 2008.3026340749605, 2002.0213059746225, 1985.6066292303994, 1854.5166384112983, 1755.1220165953116, 1744.538930462621, 1654.8107806669261, 1651.677120590108, 1425.1895519467714, 1384.2657476566908, 16875.901647260835, 14722.70897958397, 8109.274959029834, 6646.127585174185, 6167.168621672506, 5755.885789992021, 5102.842054575756, 5064.777439948068, 4750.2439970033765, 4359.347734245969, 3968.0744701064777, 3740.1890333510273, 3617.190453701483, 3460.6086911355414, 3185.110860564258, 3011.8348881263537, 2756.1058326850803, 2508.676443882956, 1940.995183780393, 1782.1565794691232, 1669.0849722583077, 1665.9554537257122, 1472.8710959627538, 1286.6034492363258, 1276.404685103536, 1147.3808155081745, 1119.7145816088557, 1116.4914389788821, 1102.6198077684282, 1044.3591602151691, 28000.26471481088, 11270.918723142233, 8066.296007166286, 6669.860627387526, 6484.526317098854, 6240.908273770863, 5130.751799135701, 4534.141289392709, 4417.136163480336, 4062.9898111805715, 3946.628069605952, 2955.916461112305, 2404.193666649532, 2372.0153064505544, 2339.1780182846305, 2322.3643831539525, 2297.610848887797, 2259.5734548143623, 2225.142792267682, 2051.253164720361, 1764.299787980625, 1715.327755547285, 1507.257382628536, 1444.1607629148264, 1444.155734093617, 1389.9590612008058, 1386.2496198105637, 1229.4471647900052, 1172.3106887347644, 1103.5654836947833, 16544.934676065826, 15202.678438396726, 6066.623229566323, 6031.996470072009, 5264.255571501614, 5199.213182125728, 4928.817869757697, 4851.331776709709, 4192.684525568838, 3477.5164465432103, 3114.146563495468, 2892.244650351926, 2764.874926360359, 2520.884799977666, 2485.3322103778683, 2432.6355603132115, 2392.526067043937, 2360.924458905853, 2282.1947090398694, 2206.70655379177, 2187.989414621671, 2081.1920577572423, 1867.5203401756808, 1739.9683638223087, 1715.7916812267115, 1681.8882822483397, 1666.0330700517115, 1619.0027440285978, 1608.1735941098136, 1190.6091279437999, 17962.44106299812, 10452.092257184682, 6984.6966661184215, 6184.388603911629, 5876.119324009352, 4016.8598060970503, 3493.8811241966855, 3415.876204719064, 3353.331658677388, 3316.7590902942256, 3088.50606054242, 2876.0051149453006, 2870.120514173621, 2355.462364875063, 2269.147373129488, 2032.2601480889068, 2020.0421834903536, 1821.393666488608, 1819.575483670439, 1783.0219206825889, 1746.21966694058, 1656.904032665417, 1463.4202686718334, 1399.3451253286457, 1384.4385602723694, 1323.2065651363791, 1314.3012851392787, 1287.2501251500714, 1198.365869149894, 1166.0038061358632, 11669.114970817198, 11093.929826071366, 7784.164327829397, 6170.927441399058, 6059.821996975471, 4545.3159591539315, 3571.2763060984876, 3559.2897033396985, 2886.971864854842, 2764.810530355693, 2626.8464946023378, 2619.096928976671, 2597.204884089254, 2423.729335296332, 2201.1219228407554, 1959.6102179388286, 1857.7608641115621, 1798.0895029509068, 1788.0912542952376, 1752.686961474709, 1746.7752886571336, 1740.7590430333357, 1724.437890102711, 1644.7006105835485, 1598.4233933287242, 1498.515475566343, 1440.6406781581552, 1439.166069219781, 1422.9386052871357, 1374.6428828387898, 11764.36280971064, 9250.110864731081, 5402.456724535266, 5322.789888954972, 5250.569426027265, 5192.643777539458, 4818.941662644108, 4419.3046617722575, 4142.412112968509, 3565.8308280614674, 3469.152479447142, 3343.854400839076, 3275.80630299618, 2267.274033035895, 2252.6909200629584, 2150.438751102618, 1953.0124124935282, 1881.4487675617665, 1860.7865446699602, 1771.3386005217912, 1603.613001813896, 1512.145798959171, 1507.289875568457, 1489.0367646453167, 1448.4196950393173, 1396.6584916671834, 1351.8712488050578, 1273.5294467258166, 1199.3190955959326, 1172.4999528669384, 20844.61015130364, 15092.294327390657, 10534.416663239064, 5365.295734870745, 4727.335167744819, 4396.306214497212, 4371.205443518026, 3812.936821169131, 3503.811639765394, 2866.2952235953553, 2560.0493943285005, 2432.3344943867164, 2294.2408602249716, 2088.839075489713, 2013.217312317489, 1887.3107808990949, 1791.9896328258328, 1775.616386516678, 1746.1000448383224, 1584.1379435987344, 1553.2425423315512, 1528.9829117010534, 1304.0071363383743, 1302.836558600483, 1268.0168991531025, 1100.1265894335997, 1057.9497261447978, 1044.750869162772, 1028.6828552641193, 998.4954322851454, 18301.21879305588, 5995.088390799964, 5948.992481384087, 5071.493706841707, 4195.576297842001, 3553.691614018094, 3072.2224707232685, 2609.0149973779253, 2548.6374407227613, 2483.8235126262557, 2214.1141054239947, 2118.062210527391, 2034.0151825238024, 2019.3556344168203, 1954.3656467040985, 1907.4323166861104, 1872.6388280045792, 1828.3776886533851, 1691.8053353039184, 1669.2025618808357, 1666.7938402246828, 1562.7868632171512, 1495.2643468511255, 1446.3115013606787, 1437.0512067307877, 1416.9158874591656, 1403.7684943017962, 1390.604832518966, 1312.3083500066564, 1149.5430960561423, 9579.77132505943, 8115.281533268787, 7413.759465513251, 5594.944346750727, 3996.65775774259, 3378.4936634850346, 3009.4913586060957, 2851.9464958440117, 2519.021341360603, 2493.706662473245, 2418.548860310828, 2385.5062913098423, 2148.395217878823, 1925.3480801583398, 1763.9153992781519, 1734.7016413947233, 1641.5882567051576, 1530.2187366555042, 1401.2515047804934, 1387.5430749873756, 1284.4428680640033, 1251.8425137407814, 1103.7785219654472, 1069.687452616955, 962.4147525804731, 951.2418220704033, 925.8750616224484, 783.805516710893, 781.9313687908466, 773.1804842183071, 15834.62646761474, 12028.48139557847, 6193.03193816444, 4094.6542684357764, 3814.2132674184113, 3285.894861323928, 2465.247178444839, 2212.5537095029117, 2142.4662362774147, 2006.9360259913378, 1949.9730101083105, 1800.025718315984, 1777.7224516716274, 1711.1075309314979, 1683.8090952003956, 1643.9520724092827, 1533.6292554989416, 1523.583585811477, 1472.3292711090405, 1389.8993148289096, 1337.7142529526736, 1333.516835412768, 1205.9404747065844, 1170.0089895061965, 1150.1016440813466, 1115.906101801269, 1107.716482195972, 1076.1755192971063, 930.7813555707592, 916.1841688754532, 10548.531547263457, 6173.956156198158, 4967.3988822061565, 4162.082741476733, 3529.1109192467325, 3309.1926005661844, 3227.3364015037605, 3054.5005050849322, 2622.2691315961874, 2401.523891853872, 2234.4012867916595, 1998.844377500154, 1920.8746461594965, 1678.2845169309344, 1656.0166702901015, 1548.7774256696637, 1489.9297077826488, 1336.9044832072582, 1323.7224547082956, 1321.5939856280936, 1311.7522158166425, 1095.6845227619503, 1089.4624982947237, 1016.4506172122685, 957.1394028200227, 946.2871105552193, 906.9018549758772, 855.0336450993018, 824.6494016308914, 809.3920034530751], \"Category\": [\"Default\", \"Default\", \"Default\", \"Default\", \"Default\", \"Default\", \"Default\", \"Default\", \"Default\", \"Default\", \"Default\", \"Default\", \"Default\", \"Default\", \"Default\", \"Default\", \"Default\", \"Default\", \"Default\", \"Default\", \"Default\", \"Default\", \"Default\", \"Default\", \"Default\", \"Default\", \"Default\", \"Default\", \"Default\", \"Default\", \"Topic1\", \"Topic1\", \"Topic1\", \"Topic1\", \"Topic1\", \"Topic1\", \"Topic1\", \"Topic1\", \"Topic1\", \"Topic1\", \"Topic1\", \"Topic1\", \"Topic1\", \"Topic1\", \"Topic1\", \"Topic1\", \"Topic1\", \"Topic1\", \"Topic1\", \"Topic1\", \"Topic1\", \"Topic1\", \"Topic1\", \"Topic1\", \"Topic1\", \"Topic1\", \"Topic1\", \"Topic1\", \"Topic1\", \"Topic1\", \"Topic2\", \"Topic2\", \"Topic2\", \"Topic2\", \"Topic2\", \"Topic2\", \"Topic2\", \"Topic2\", \"Topic2\", \"Topic2\", \"Topic2\", \"Topic2\", \"Topic2\", \"Topic2\", \"Topic2\", \"Topic2\", \"Topic2\", \"Topic2\", \"Topic2\", \"Topic2\", \"Topic2\", \"Topic2\", \"Topic2\", \"Topic2\", \"Topic2\", \"Topic2\", \"Topic2\", \"Topic2\", \"Topic2\", \"Topic2\", \"Topic3\", \"Topic3\", \"Topic3\", \"Topic3\", \"Topic3\", \"Topic3\", \"Topic3\", \"Topic3\", \"Topic3\", \"Topic3\", \"Topic3\", \"Topic3\", \"Topic3\", \"Topic3\", \"Topic3\", \"Topic3\", \"Topic3\", \"Topic3\", \"Topic3\", \"Topic3\", \"Topic3\", \"Topic3\", \"Topic3\", \"Topic3\", \"Topic3\", \"Topic3\", \"Topic3\", \"Topic3\", \"Topic3\", \"Topic3\", \"Topic4\", \"Topic4\", \"Topic4\", \"Topic4\", \"Topic4\", \"Topic4\", \"Topic4\", \"Topic4\", \"Topic4\", \"Topic4\", \"Topic4\", \"Topic4\", \"Topic4\", \"Topic4\", \"Topic4\", \"Topic4\", \"Topic4\", \"Topic4\", \"Topic4\", \"Topic4\", \"Topic4\", \"Topic4\", \"Topic4\", \"Topic4\", \"Topic4\", \"Topic4\", \"Topic4\", \"Topic4\", \"Topic4\", \"Topic4\", \"Topic5\", \"Topic5\", \"Topic5\", \"Topic5\", \"Topic5\", \"Topic5\", \"Topic5\", \"Topic5\", \"Topic5\", \"Topic5\", \"Topic5\", \"Topic5\", \"Topic5\", \"Topic5\", \"Topic5\", \"Topic5\", \"Topic5\", \"Topic5\", \"Topic5\", \"Topic5\", \"Topic5\", \"Topic5\", \"Topic5\", \"Topic5\", \"Topic5\", \"Topic5\", \"Topic5\", \"Topic5\", \"Topic5\", \"Topic5\", \"Topic6\", \"Topic6\", \"Topic6\", \"Topic6\", \"Topic6\", \"Topic6\", \"Topic6\", \"Topic6\", \"Topic6\", \"Topic6\", \"Topic6\", \"Topic6\", \"Topic6\", \"Topic6\", \"Topic6\", \"Topic6\", \"Topic6\", \"Topic6\", \"Topic6\", \"Topic6\", \"Topic6\", \"Topic6\", \"Topic6\", \"Topic6\", \"Topic6\", \"Topic6\", \"Topic6\", \"Topic6\", \"Topic6\", \"Topic6\", \"Topic7\", \"Topic7\", \"Topic7\", \"Topic7\", \"Topic7\", \"Topic7\", \"Topic7\", \"Topic7\", \"Topic7\", \"Topic7\", \"Topic7\", \"Topic7\", \"Topic7\", \"Topic7\", \"Topic7\", \"Topic7\", \"Topic7\", \"Topic7\", \"Topic7\", \"Topic7\", \"Topic7\", \"Topic7\", \"Topic7\", \"Topic7\", \"Topic7\", \"Topic7\", \"Topic7\", \"Topic7\", \"Topic7\", \"Topic7\", \"Topic8\", \"Topic8\", \"Topic8\", \"Topic8\", \"Topic8\", \"Topic8\", \"Topic8\", \"Topic8\", \"Topic8\", \"Topic8\", \"Topic8\", \"Topic8\", \"Topic8\", \"Topic8\", \"Topic8\", \"Topic8\", \"Topic8\", \"Topic8\", \"Topic8\", \"Topic8\", \"Topic8\", \"Topic8\", \"Topic8\", \"Topic8\", \"Topic8\", \"Topic8\", \"Topic8\", \"Topic8\", \"Topic8\", \"Topic8\", \"Topic9\", \"Topic9\", \"Topic9\", \"Topic9\", \"Topic9\", \"Topic9\", \"Topic9\", \"Topic9\", \"Topic9\", \"Topic9\", \"Topic9\", \"Topic9\", \"Topic9\", \"Topic9\", \"Topic9\", \"Topic9\", \"Topic9\", \"Topic9\", \"Topic9\", \"Topic9\", \"Topic9\", \"Topic9\", \"Topic9\", \"Topic9\", \"Topic9\", \"Topic9\", \"Topic9\", \"Topic9\", \"Topic9\", \"Topic9\", \"Topic10\", \"Topic10\", \"Topic10\", \"Topic10\", \"Topic10\", \"Topic10\", \"Topic10\", \"Topic10\", \"Topic10\", \"Topic10\", \"Topic10\", \"Topic10\", \"Topic10\", \"Topic10\", \"Topic10\", \"Topic10\", \"Topic10\", \"Topic10\", \"Topic10\", \"Topic10\", \"Topic10\", \"Topic10\", \"Topic10\", \"Topic10\", \"Topic10\", \"Topic10\", \"Topic10\", \"Topic10\", \"Topic10\", \"Topic10\", \"Topic11\", \"Topic11\", \"Topic11\", \"Topic11\", \"Topic11\", \"Topic11\", \"Topic11\", \"Topic11\", \"Topic11\", \"Topic11\", \"Topic11\", \"Topic11\", \"Topic11\", \"Topic11\", \"Topic11\", \"Topic11\", \"Topic11\", \"Topic11\", \"Topic11\", \"Topic11\", \"Topic11\", \"Topic11\", \"Topic11\", \"Topic11\", \"Topic11\", \"Topic11\", \"Topic11\", \"Topic11\", \"Topic11\", \"Topic11\", \"Topic12\", \"Topic12\", \"Topic12\", \"Topic12\", \"Topic12\", \"Topic12\", \"Topic12\", \"Topic12\", \"Topic12\", \"Topic12\", \"Topic12\", \"Topic12\", \"Topic12\", \"Topic12\", \"Topic12\", \"Topic12\", \"Topic12\", \"Topic12\", \"Topic12\", \"Topic12\", \"Topic12\", \"Topic12\", \"Topic12\", \"Topic12\", \"Topic12\", \"Topic12\", \"Topic12\", \"Topic12\", \"Topic12\", \"Topic12\", \"Topic13\", \"Topic13\", \"Topic13\", \"Topic13\", \"Topic13\", \"Topic13\", \"Topic13\", \"Topic13\", \"Topic13\", \"Topic13\", \"Topic13\", \"Topic13\", \"Topic13\", \"Topic13\", \"Topic13\", \"Topic13\", \"Topic13\", \"Topic13\", \"Topic13\", \"Topic13\", \"Topic13\", \"Topic13\", \"Topic13\", \"Topic13\", \"Topic13\", \"Topic13\", \"Topic13\", \"Topic13\", \"Topic13\", \"Topic13\", \"Topic14\", \"Topic14\", \"Topic14\", \"Topic14\", \"Topic14\", \"Topic14\", \"Topic14\", \"Topic14\", \"Topic14\", \"Topic14\", \"Topic14\", \"Topic14\", \"Topic14\", \"Topic14\", \"Topic14\", \"Topic14\", \"Topic14\", \"Topic14\", \"Topic14\", \"Topic14\", \"Topic14\", \"Topic14\", \"Topic14\", \"Topic14\", \"Topic14\", \"Topic14\", \"Topic14\", \"Topic14\", \"Topic14\", \"Topic14\", \"Topic15\", \"Topic15\", \"Topic15\", \"Topic15\", \"Topic15\", \"Topic15\", \"Topic15\", \"Topic15\", \"Topic15\", \"Topic15\", \"Topic15\", \"Topic15\", \"Topic15\", \"Topic15\", \"Topic15\", \"Topic15\", \"Topic15\", \"Topic15\", \"Topic15\", \"Topic15\", \"Topic15\", \"Topic15\", \"Topic15\", \"Topic15\", \"Topic15\", \"Topic15\", \"Topic15\", \"Topic15\", \"Topic15\", \"Topic15\", \"Topic16\", \"Topic16\", \"Topic16\", \"Topic16\", \"Topic16\", \"Topic16\", \"Topic16\", \"Topic16\", \"Topic16\", \"Topic16\", \"Topic16\", \"Topic16\", \"Topic16\", \"Topic16\", \"Topic16\", \"Topic16\", \"Topic16\", \"Topic16\", \"Topic16\", \"Topic16\", \"Topic16\", \"Topic16\", \"Topic16\", \"Topic16\", \"Topic16\", \"Topic16\", \"Topic16\", \"Topic16\", \"Topic16\", \"Topic16\", \"Topic17\", \"Topic17\", \"Topic17\", \"Topic17\", \"Topic17\", \"Topic17\", \"Topic17\", \"Topic17\", \"Topic17\", \"Topic17\", \"Topic17\", \"Topic17\", \"Topic17\", \"Topic17\", \"Topic17\", \"Topic17\", \"Topic17\", \"Topic17\", \"Topic17\", \"Topic17\", \"Topic17\", \"Topic17\", \"Topic17\", \"Topic17\", \"Topic17\", \"Topic17\", \"Topic17\", \"Topic17\", \"Topic17\", \"Topic17\", \"Topic18\", \"Topic18\", \"Topic18\", \"Topic18\", \"Topic18\", \"Topic18\", \"Topic18\", \"Topic18\", \"Topic18\", \"Topic18\", \"Topic18\", \"Topic18\", \"Topic18\", \"Topic18\", \"Topic18\", \"Topic18\", \"Topic18\", \"Topic18\", \"Topic18\", \"Topic18\", \"Topic18\", \"Topic18\", \"Topic18\", \"Topic18\", \"Topic18\", \"Topic18\", \"Topic18\", \"Topic18\", \"Topic18\", \"Topic18\", \"Topic19\", \"Topic19\", \"Topic19\", \"Topic19\", \"Topic19\", \"Topic19\", \"Topic19\", \"Topic19\", \"Topic19\", \"Topic19\", \"Topic19\", \"Topic19\", \"Topic19\", \"Topic19\", \"Topic19\", \"Topic19\", \"Topic19\", \"Topic19\", \"Topic19\", \"Topic19\", \"Topic19\", \"Topic19\", \"Topic19\", \"Topic19\", \"Topic19\", \"Topic19\", \"Topic19\", \"Topic19\", \"Topic19\", \"Topic19\", \"Topic20\", \"Topic20\", \"Topic20\", \"Topic20\", \"Topic20\", \"Topic20\", \"Topic20\", \"Topic20\", \"Topic20\", \"Topic20\", \"Topic20\", \"Topic20\", \"Topic20\", \"Topic20\", \"Topic20\", \"Topic20\", \"Topic20\", \"Topic20\", \"Topic20\", \"Topic20\", \"Topic20\", \"Topic20\", \"Topic20\", \"Topic20\", \"Topic20\", \"Topic20\", \"Topic20\", \"Topic20\", \"Topic20\", \"Topic20\"], \"logprob\": [30.0, 29.0, 28.0, 27.0, 26.0, 25.0, 24.0, 23.0, 22.0, 21.0, 20.0, 19.0, 18.0, 17.0, 16.0, 15.0, 14.0, 13.0, 12.0, 11.0, 10.0, 9.0, 8.0, 7.0, 6.0, 5.0, 4.0, 3.0, 2.0, 1.0, -2.1094, -2.1752, -2.2299, -2.9288, -3.0084, -3.1487, -3.4873, -3.5003, -3.9047, -4.1065, -4.1215, -4.2698, -4.385, -4.4176, -4.4403, -4.4595, -4.5711, -4.6056, -4.6812, -4.7551, -4.7609, -4.8173, -4.8215, -4.8538, -4.9532, -5.089, -5.2287, -5.2305, -5.2313, -5.3542, -1.461, -1.5916, -3.2694, -3.6358, -3.7402, -3.8542, -4.096, -4.1443, -4.1613, -4.1713, -4.1864, -4.2024, -4.3732, -4.4449, -4.4804, -4.4834, -4.5025, -4.6281, -4.6323, -4.709, -4.7263, -4.7447, -4.7793, -4.8022, -4.8083, -5.0044, -5.0336, -5.0468, -5.1684, -5.3735, -2.4681, -2.5503, -2.6278, -3.4461, -3.4596, -3.4747, -3.5618, -3.6035, -3.7516, -3.8002, -3.9721, -4.0778, -4.118, -4.1557, -4.2144, -4.2369, -4.2519, -4.2701, -4.2783, -4.297, -4.3211, -4.5199, -4.5256, -4.5396, -4.5679, -4.731, -4.7569, -4.8906, -4.9576, -4.9773, -1.4424, -2.6397, -2.8254, -2.9637, -3.2864, -3.4272, -3.4412, -3.5576, -3.6855, -3.6932, -3.7942, -4.0444, -4.0508, -4.2833, -4.2857, -4.3396, -4.3536, -4.3911, -4.4965, -4.5478, -4.6414, -4.7517, -4.8182, -4.8849, -4.9356, -5.0707, -5.1092, -5.1432, -5.161, -5.2705, -1.5896, -2.5918, -2.722, -2.9273, -2.9436, -3.6487, -3.825, -3.8477, -3.9325, -4.0548, -4.1765, -4.2355, -4.4096, -4.4741, -4.5249, -4.5593, -4.6046, -4.6261, -4.7323, -4.7467, -4.7855, -4.8073, -4.8675, -4.9003, -4.9106, -4.9189, -5.0037, -5.1311, -5.1556, -5.2103, -1.8387, -2.301, -2.5651, -3.3162, -3.4397, -3.7169, -3.7319, -3.8016, -3.8109, -3.8556, -4.0229, -4.0419, -4.1039, -4.1406, -4.1534, -4.1606, -4.1892, -4.5716, -4.592, -4.6559, -4.7461, -4.8538, -4.9165, -4.9229, -5.0998, -5.1817, -5.2087, -5.2103, -5.231, -5.2456, -2.0592, -2.2977, -2.8364, -3.3332, -3.5254, -3.5464, -3.5971, -3.667, -3.777, -3.8746, -4.0583, -4.0763, -4.132, -4.1739, -4.1975, -4.2379, -4.2386, -4.2843, -4.3309, -4.3314, -4.4953, -4.6272, -4.7877, -4.806, -4.8452, -4.8467, -4.8835, -5.1082, -5.1455, -5.2925, -2.3087, -2.7202, -2.9942, -3.3186, -3.393, -3.4921, -3.7545, -3.8048, -3.8902, -3.896, -3.9498, -3.9652, -4.1124, -4.1356, -4.1536, -4.1557, -4.2901, -4.2986, -4.3831, -4.4201, -4.5687, -4.6152, -4.6695, -4.7452, -4.8161, -4.8197, -4.8381, -4.848, -4.8616, -4.8718, -2.1275, -2.5575, -3.3984, -3.3992, -3.6526, -3.6738, -3.7021, -3.7377, -3.7753, -3.7962, -3.8115, -3.8508, -3.8723, -3.9124, -3.9984, -4.125, -4.2455, -4.3694, -4.372, -4.4373, -4.4794, -4.4826, -4.4908, -4.5592, -4.6143, -4.6204, -4.6732, -4.6751, -4.8228, -4.8519, -2.2988, -2.4353, -3.0318, -3.2308, -3.3056, -3.3747, -3.4951, -3.5026, -3.5668, -3.6527, -3.7467, -3.8059, -3.8394, -3.8836, -3.9666, -4.0226, -4.1114, -4.2055, -4.4623, -4.5477, -4.6133, -4.6152, -4.7385, -4.8739, -4.8819, -4.9886, -5.013, -5.0159, -5.0284, -5.0828, -1.7654, -2.6755, -3.0101, -3.2002, -3.2284, -3.2667, -3.4627, -3.5863, -3.6125, -3.6961, -3.7252, -4.0143, -4.2211, -4.2346, -4.2485, -4.2557, -4.2665, -4.2832, -4.2985, -4.38, -4.5308, -4.559, -4.6884, -4.7312, -4.7312, -4.7695, -4.7722, -4.8924, -4.9401, -5.0006, -2.2668, -2.3514, -3.2703, -3.276, -3.4122, -3.4246, -3.478, -3.4939, -3.6398, -3.827, -3.9374, -4.0113, -4.0564, -4.1488, -4.1631, -4.1845, -4.2011, -4.2144, -4.2484, -4.282, -4.2906, -4.3407, -4.4491, -4.5199, -4.5339, -4.5539, -4.5634, -4.592, -4.5987, -4.8997, -2.1756, -2.7172, -3.1203, -3.2421, -3.2932, -3.6737, -3.8133, -3.8359, -3.8544, -3.8653, -3.9367, -4.008, -4.01, -4.2078, -4.2452, -4.3555, -4.3615, -4.4651, -4.4661, -4.4864, -4.5073, -4.5599, -4.6842, -4.729, -4.7397, -4.785, -4.7918, -4.8126, -4.8843, -4.9117, -2.6053, -2.6559, -3.0102, -3.2425, -3.2607, -3.5484, -3.7897, -3.793, -4.0025, -4.0458, -4.097, -4.0999, -4.1083, -4.1775, -4.2739, -4.3902, -4.4436, -4.4763, -4.4819, -4.5019, -4.5053, -4.5088, -4.5182, -4.5656, -4.5942, -4.6588, -4.6982, -4.6992, -4.7106, -4.7451, -2.5907, -2.8311, -3.369, -3.3839, -3.3976, -3.4087, -3.4834, -3.57, -3.6347, -3.7847, -3.8122, -3.849, -3.8695, -4.2377, -4.2442, -4.2907, -4.3871, -4.4244, -4.4355, -4.4848, -4.5844, -4.6432, -4.6464, -4.6586, -4.6863, -4.7227, -4.7553, -4.8151, -4.8752, -4.8979, -1.9665, -2.2895, -2.6491, -3.3239, -3.4505, -3.5232, -3.5289, -3.6656, -3.7502, -3.9511, -4.0642, -4.1154, -4.1739, -4.2677, -4.3047, -4.3693, -4.4212, -4.4304, -4.4471, -4.5446, -4.5643, -4.5801, -4.7394, -4.7403, -4.7674, -4.9097, -4.9488, -4.9614, -4.9769, -5.0068, -2.0906, -3.2068, -3.2145, -3.3742, -3.5638, -3.7299, -3.8756, -4.0391, -4.0626, -4.0883, -4.2034, -4.2477, -4.2883, -4.2955, -4.3283, -4.3526, -4.371, -4.3949, -4.4727, -4.4861, -4.4876, -4.5521, -4.5963, -4.6296, -4.636, -4.6502, -4.6595, -4.6689, -4.7269, -4.8596, -2.5356, -2.7015, -2.792, -3.0735, -3.41, -3.5781, -3.6939, -3.7477, -3.8719, -3.882, -3.9126, -3.9264, -4.0311, -4.1408, -4.2285, -4.2452, -4.3004, -4.3708, -4.4589, -4.4688, -4.5461, -4.5718, -4.6979, -4.7293, -4.8351, -4.8468, -4.8739, -5.0408, -5.0432, -5.0545, -2.0196, -2.2945, -2.9585, -3.3724, -3.4434, -3.5925, -3.88, -3.9883, -4.0205, -4.0859, -4.1147, -4.1948, -4.2073, -4.2455, -4.2616, -4.2856, -4.3551, -4.3617, -4.396, -4.4536, -4.492, -4.4951, -4.5958, -4.6261, -4.6433, -4.6735, -4.6809, -4.7098, -4.8552, -4.871, -2.3414, -2.8772, -3.0947, -3.2716, -3.4367, -3.5011, -3.5261, -3.5812, -3.7339, -3.8218, -3.894, -4.0055, -4.0453, -4.1805, -4.1939, -4.2609, -4.2997, -4.4082, -4.4181, -4.4197, -4.4272, -4.6074, -4.6131, -4.6826, -4.7428, -4.7543, -4.7968, -4.8558, -4.8921, -4.9108], \"loglift\": [30.0, 29.0, 28.0, 27.0, 26.0, 25.0, 24.0, 23.0, 22.0, 21.0, 20.0, 19.0, 18.0, 17.0, 16.0, 15.0, 14.0, 13.0, 12.0, 11.0, 10.0, 9.0, 8.0, 7.0, 6.0, 5.0, 4.0, 3.0, 2.0, 1.0, 2.5262, 2.5262, 2.5262, 2.5261, 2.5261, 2.5261, 2.526, 2.526, 2.5259, 2.5259, 2.5259, 2.5258, 2.5258, 2.5257, 2.5257, 2.5257, 2.5257, 2.5256, 2.5256, 2.5255, 2.5255, 2.5255, 2.5255, 2.5255, 2.5254, 2.5253, 2.5251, 2.5251, 2.5251, 2.525, 2.702, 2.702, 2.7018, 2.7017, 2.7017, 2.7017, 2.7016, 2.7015, 2.7015, 2.7015, 2.7015, 2.7015, 2.7014, 2.7014, 2.7014, 2.7014, 2.7013, 2.7013, 2.7012, 2.7012, 2.7012, 2.7012, 2.7011, 2.7011, 2.7011, 2.7009, 2.7009, 2.7009, 2.7007, 2.7004, 2.7671, 2.767, 2.767, 2.7669, 2.7669, 2.7669, 2.7669, 2.7669, 2.7668, 2.7668, 2.7667, 2.7667, 2.7667, 2.7667, 2.7666, 2.7666, 2.7666, 2.7666, 2.7666, 2.7666, 2.7666, 2.7664, 2.7664, 2.7664, 2.7664, 2.7663, 2.7662, 2.7661, 2.766, 2.766, 2.8089, 2.8089, 2.8088, 2.8088, 2.8088, 2.8087, 2.8087, 2.8087, 2.8087, 2.8086, 2.8086, 2.8085, 2.8085, 2.8084, 2.8084, 2.8084, 2.8083, 2.8083, 2.8082, 2.8082, 2.8081, 2.808, 2.808, 2.8079, 2.8078, 2.8077, 2.8076, 2.8076, 2.8076, 2.8074, 2.9092, 2.9091, 2.9091, 2.909, 2.909, 2.9088, 2.9088, 2.9088, 2.9087, 2.9087, 2.9086, 2.9086, 2.9085, 2.9084, 2.9084, 2.9083, 2.9083, 2.9083, 2.9082, 2.9082, 2.9081, 2.9081, 2.908, 2.908, 2.908, 2.908, 2.9079, 2.9077, 2.9076, 2.9075, 2.9226, 2.9226, 2.9226, 2.9224, 2.9224, 2.9223, 2.9223, 2.9223, 2.9223, 2.9223, 2.9222, 2.9222, 2.9221, 2.9221, 2.9221, 2.9221, 2.9221, 2.9218, 2.9218, 2.9217, 2.9217, 2.9215, 2.9215, 2.9215, 2.9212, 2.9211, 2.921, 2.921, 2.921, 2.921, 2.9382, 2.9382, 2.9382, 2.9381, 2.938, 2.938, 2.938, 2.938, 2.9379, 2.9379, 2.9378, 2.9378, 2.9377, 2.9377, 2.9377, 2.9377, 2.9377, 2.9376, 2.9376, 2.9376, 2.9375, 2.9374, 2.9372, 2.9372, 2.9372, 2.9371, 2.9371, 2.9368, 2.9367, 2.9365, 2.9702, 2.9701, 2.9701, 2.97, 2.97, 2.97, 2.9699, 2.9698, 2.9698, 2.9698, 2.9698, 2.9698, 2.9697, 2.9697, 2.9697, 2.9697, 2.9696, 2.9696, 2.9695, 2.9695, 2.9694, 2.9693, 2.9693, 2.9692, 2.9691, 2.9691, 2.9691, 2.9691, 2.9691, 2.969, 2.9721, 2.9721, 2.9719, 2.9719, 2.9718, 2.9718, 2.9718, 2.9718, 2.9718, 2.9718, 2.9717, 2.9717, 2.9717, 2.9717, 2.9717, 2.9716, 2.9715, 2.9714, 2.9714, 2.9714, 2.9713, 2.9713, 2.9713, 2.9713, 2.9712, 2.9712, 2.9712, 2.9712, 2.971, 2.971, 3.0234, 3.0233, 3.0232, 3.0232, 3.0232, 3.0232, 3.0231, 3.0231, 3.0231, 3.0231, 3.023, 3.023, 3.023, 3.023, 3.0229, 3.0229, 3.0228, 3.0228, 3.0226, 3.0225, 3.0224, 3.0224, 3.0223, 3.0221, 3.0221, 3.022, 3.0219, 3.0219, 3.0219, 3.0218, 3.0504, 3.0503, 3.0503, 3.0502, 3.0502, 3.0502, 3.0501, 3.0501, 3.0501, 3.0501, 3.05, 3.0499, 3.0498, 3.0498, 3.0497, 3.0497, 3.0497, 3.0497, 3.0497, 3.0496, 3.0495, 3.0495, 3.0493, 3.0493, 3.0493, 3.0492, 3.0492, 3.0491, 3.049, 3.0489, 3.0752, 3.0752, 3.075, 3.075, 3.0749, 3.0749, 3.0749, 3.0749, 3.0749, 3.0748, 3.0747, 3.0747, 3.0747, 3.0746, 3.0746, 3.0746, 3.0746, 3.0746, 3.0745, 3.0745, 3.0745, 3.0745, 3.0744, 3.0743, 3.0743, 3.0743, 3.0743, 3.0742, 3.0742, 3.0738, 3.0841, 3.0841, 3.084, 3.084, 3.084, 3.0838, 3.0838, 3.0837, 3.0837, 3.0837, 3.0837, 3.0837, 3.0837, 3.0835, 3.0835, 3.0834, 3.0834, 3.0833, 3.0833, 3.0833, 3.0833, 3.0832, 3.0831, 3.083, 3.083, 3.083, 3.083, 3.0829, 3.0828, 3.0828, 3.0858, 3.0858, 3.0857, 3.0857, 3.0857, 3.0856, 3.0855, 3.0855, 3.0854, 3.0853, 3.0853, 3.0853, 3.0853, 3.0852, 3.0852, 3.0851, 3.085, 3.085, 3.085, 3.085, 3.085, 3.085, 3.085, 3.0849, 3.0849, 3.0848, 3.0848, 3.0848, 3.0848, 3.0847, 3.0923, 3.0923, 3.0922, 3.0921, 3.0921, 3.0921, 3.0921, 3.0921, 3.0921, 3.092, 3.092, 3.092, 3.092, 3.0917, 3.0917, 3.0917, 3.0916, 3.0916, 3.0916, 3.0915, 3.0914, 3.0914, 3.0914, 3.0913, 3.0913, 3.0913, 3.0912, 3.0912, 3.0911, 3.091, 3.1444, 3.1444, 3.1444, 3.1442, 3.1442, 3.1441, 3.1441, 3.1441, 3.144, 3.1439, 3.1438, 3.1438, 3.1438, 3.1437, 3.1437, 3.1436, 3.1436, 3.1436, 3.1435, 3.1434, 3.1434, 3.1434, 3.1432, 3.1432, 3.1432, 3.143, 3.1429, 3.1429, 3.1429, 3.1428, 3.1505, 3.1503, 3.1503, 3.1503, 3.1502, 3.1501, 3.15, 3.15, 3.1499, 3.1499, 3.1498, 3.1498, 3.1498, 3.1498, 3.1497, 3.1497, 3.1497, 3.1497, 3.1496, 3.1496, 3.1496, 3.1495, 3.1495, 3.1494, 3.1494, 3.1494, 3.1494, 3.1494, 3.1493, 3.1491, 3.3528, 3.3528, 3.3528, 3.3527, 3.3526, 3.3525, 3.3524, 3.3524, 3.3523, 3.3523, 3.3523, 3.3523, 3.3522, 3.3521, 3.352, 3.352, 3.3519, 3.3519, 3.3518, 3.3518, 3.3517, 3.3516, 3.3514, 3.3514, 3.3512, 3.3512, 3.3512, 3.3508, 3.3508, 3.3508, 3.3663, 3.3663, 3.3661, 3.366, 3.366, 3.3659, 3.3657, 3.3656, 3.3656, 3.3656, 3.3655, 3.3655, 3.3654, 3.3654, 3.3654, 3.3654, 3.3653, 3.3653, 3.3653, 3.3652, 3.3651, 3.3651, 3.365, 3.365, 3.3649, 3.3649, 3.3649, 3.3648, 3.3646, 3.3646, 3.4506, 3.4505, 3.4505, 3.4504, 3.4503, 3.4503, 3.4503, 3.4503, 3.4502, 3.4501, 3.45, 3.45, 3.4499, 3.4498, 3.4498, 3.4497, 3.4497, 3.4495, 3.4495, 3.4495, 3.4495, 3.4493, 3.4492, 3.4491, 3.449, 3.449, 3.4489, 3.4488, 3.4487, 3.4487]}, \"token.table\": {\"Topic\": [5, 9, 14, 3, 12, 4, 13, 3, 4, 8, 18, 1, 12, 17, 6, 9, 3, 1, 10, 11, 15, 10, 9, 11, 20, 11, 14, 6, 6, 2, 20, 5, 17, 10, 9, 9, 11, 5, 13, 13, 15, 18, 7, 3, 15, 16, 17, 12, 4, 1, 17, 16, 13, 10, 17, 1, 5, 1, 4, 7, 13, 6, 5, 20, 8, 17, 3, 10, 8, 15, 7, 2, 7, 10, 19, 8, 10, 16, 18, 20, 10, 1, 2, 15, 13, 4, 3, 1, 6, 12, 6, 20, 13, 10, 11, 11, 6, 13, 3, 9, 11, 7, 2, 6, 6, 14, 12, 15, 2, 19, 4, 7, 6, 7, 1, 11, 7, 11, 17, 10, 4, 7, 15, 7, 14, 2, 9, 19, 19, 10, 15, 4, 17, 15, 20, 14, 20, 1, 16, 13, 19, 7, 14, 3, 6, 3, 6, 6, 11, 18, 1, 14, 9, 8, 10, 10, 18, 12, 20, 19, 6, 15, 3, 2, 5, 5, 3, 20, 18, 11, 17, 13, 3, 1, 5, 10, 11, 15, 18, 9, 19, 2, 7, 13, 13, 10, 8, 12, 1, 9, 13, 7, 13, 13, 11, 14, 12, 3, 18, 16, 13, 9, 19, 12, 18, 9, 8, 9, 6, 19, 7, 16, 2, 3, 5, 17, 14, 8, 9, 7, 10, 7, 12, 16, 6, 8, 17, 5, 7, 16, 4, 19, 19, 19, 5, 8, 17, 8, 10, 15, 9, 7, 8, 20, 1, 2, 12, 18, 8, 4, 16, 11, 3, 1, 2, 17, 3, 15, 14, 5, 11, 18, 4, 14, 12, 20, 20, 12, 1, 12, 18, 14, 8, 3, 20, 19, 19, 2, 5, 5, 1, 9, 1, 6, 16, 6, 14, 5, 16, 9, 6, 11, 15, 2, 18, 19, 5, 10, 3, 3, 15, 1, 18, 4, 19, 17, 17, 16, 14, 14, 4, 2, 16, 8, 8, 14, 16, 18, 2, 2, 1, 1, 3, 9, 5, 18, 4, 8, 19, 9, 7, 7, 1, 1, 12, 15, 6, 19, 10, 10, 7, 19, 16, 12, 3, 14, 20, 14, 12, 16, 11, 11, 10, 8, 14, 16, 18, 19, 1, 11, 12, 19, 3, 7, 20, 16, 9, 11, 13, 2, 2, 5, 18, 17, 7, 18, 3, 18, 14, 17, 20, 15, 17, 1, 12, 16, 18, 10, 20, 9, 9, 10, 10, 8, 5, 7, 4, 3, 16, 16, 6, 20, 15, 16, 17, 10, 5, 14, 5, 20, 18, 17, 11, 5, 3, 8, 4, 7, 4, 15, 12, 12, 17, 16, 6, 18, 3, 13, 8, 4, 9, 20, 16, 2, 2, 14, 19, 6, 13, 12, 1, 20, 12, 2, 15, 8, 8, 11, 18, 19, 16, 8, 9, 18, 8, 16, 4, 7, 6, 19, 12, 18, 6, 17, 13, 1, 20, 19, 10, 6, 12, 7, 13, 4, 1, 11, 18, 20, 1, 1, 17, 4, 5, 14, 20, 18, 14, 6, 14, 14, 5, 20, 20, 17, 8, 5, 20, 11, 16, 3, 11, 2, 17, 8, 15, 16, 10, 6, 20, 4, 5, 3, 17, 13, 13, 13, 4, 10, 9, 6, 5, 2, 4, 7, 2, 19, 7, 6, 13, 17, 4, 5, 8, 11, 15, 13, 15, 5, 9, 13, 12, 13, 19, 18, 1, 19, 18, 10, 2, 19, 4, 15, 11, 14, 11, 9, 4, 2, 9, 20, 10, 16, 4, 9, 15, 14, 17, 12, 15, 11, 12, 13, 2, 3, 14, 14, 8, 15, 15, 2, 19, 12, 15, 11, 4, 2, 13, 4, 3, 9, 12, 20, 16, 17, 15, 2, 8, 7, 5, 17], \"Freq\": [0.9990445817572176, 0.9992009903468829, 0.9988048657150889, 0.9989451493930851, 0.9996690200198367, 0.9999736932992201, 0.9996393327139066, 0.9987103504686585, 0.9992870636087523, 0.9992196891175177, 0.999815097354694, 0.9996287622817512, 0.9992523260175623, 0.9999334037219236, 0.999555040470998, 0.9994728031308917, 0.9994278491338293, 0.9991263778795434, 0.9996723718883894, 0.9992632839444407, 0.9991442418678951, 0.9987537346979153, 0.9990856180189147, 0.9993036496286457, 0.9986398308284427, 0.9997210395401839, 0.999199369464539, 0.9987211379040101, 0.9987521003325754, 0.9998398606960017, 0.9979998753074587, 0.9992675535492658, 0.9990030163210881, 0.9993907739984063, 0.9994695067675969, 0.9991730091712996, 0.9995102593722741, 0.9996118902462784, 0.9990387465505839, 0.9992348351077256, 0.9985809576294508, 0.9975300021614004, 0.9992338749665027, 0.9996974042234777, 0.9997303588701321, 0.9991195705254211, 0.9990092588584801, 0.999569659381417, 0.99933149977784, 0.9993702137480601, 0.9992658445268007, 0.9987031171598594, 0.9982814754760503, 0.999648360243486, 0.9995239840138573, 0.9991113700732291, 0.999838183337648, 0.9997479622154414, 0.9983396406507125, 0.999375281380409, 0.999757088074182, 0.9986630391956658, 0.9992654798534314, 0.9997183873815394, 0.9994533162982298, 0.9991248563363788, 0.9995868867798651, 0.9989720820550894, 0.9993245464145223, 0.9994485928565044, 0.9998229689927657, 0.9990629999981994, 0.99954706624607, 0.9994772098855236, 0.9998768426761657, 0.9996269533708485, 0.9998427776791051, 0.9997028836406108, 0.9998420839420625, 0.9985728601196121, 0.9992359391065079, 0.9999564584321465, 0.999448097580488, 0.9987990487932975, 0.9995123660070929, 0.9998908915460527, 0.9997865922510224, 0.9998226289915784, 0.9996586731198247, 0.9998830653548227, 0.9993594338845899, 0.9998548094342236, 0.9990536651982517, 0.9986985701213277, 0.9985037933654525, 0.9998297633769381, 0.9992596604094462, 0.9988602235885916, 0.9990839653605993, 0.9994279540892914, 0.9999548320409195, 0.9995057413440125, 0.9996330558029932, 0.9988211264804703, 0.9993733070601399, 0.9996426190557398, 0.9994272235698771, 0.9993309499738692, 0.9993466746368792, 0.9983909034091782, 0.998834245211598, 0.999656856589592, 0.998868188834936, 0.999225404722304, 0.9998373914090586, 0.9988819612860658, 0.9996056069208503, 0.9985072703429939, 0.99924649668286, 0.9988994986308578, 0.9997187569431404, 0.999680937172615, 0.9987207224501197, 0.9994264469246117, 0.9997219575874499, 0.9996197748088169, 0.998984595373272, 0.9979784716729784, 0.9993156315592808, 0.9996390139933677, 0.9997718011424999, 0.9991168600779361, 0.9993286797066769, 0.9989941452132955, 0.9990240663734905, 0.9988611468612334, 0.9995160177950861, 0.9999393681679567, 0.999492039532788, 0.9993799277665845, 0.9990971645167122, 0.9980829291453545, 0.999178296824497, 0.9999022954109762, 0.9996866622335479, 0.9995469217378598, 0.9999598198464565, 0.9996414111644812, 0.9996942314023612, 0.9984224806855249, 0.9992572868457371, 0.9991661688072596, 0.9995613886592971, 0.9984685389171749, 0.9986641733856498, 0.9987965499426946, 0.9993505767154888, 0.9993276591282745, 0.9977647949570152, 0.998874617014984, 0.9996008165180891, 0.9990398981145486, 0.9995755368953173, 0.9992766250506281, 0.9998942331127577, 0.9987066677991396, 0.999636905041417, 0.9994018552278365, 0.999762675667934, 0.9991503821897465, 0.9990263692363986, 0.9992611759112033, 0.9994342449259868, 0.9988625209743536, 0.9986589977532783, 0.9985309462454638, 0.999037009096617, 0.999701094129051, 0.9995852139855161, 0.9997248498096701, 0.9987683235019423, 0.9994432907284742, 0.9988123487954882, 0.9988660146803945, 0.9989609071044031, 0.9996798759658284, 0.9994296463839, 0.9991859043551099, 0.9994365216091016, 0.9995747809688158, 0.9993791601611344, 0.9996818586608356, 0.9999197735434139, 0.9990099034719115, 0.9985814310814234, 0.9992970679458689, 0.9989557699537099, 0.9995300919605388, 0.9976964735863693, 0.9990896758280943, 0.9994615946765739, 0.9995973794725658, 0.9994233347675754, 0.9987796940599454, 0.9991975687829976, 0.9989903674008912, 0.9990916348359716, 0.9999396942765799, 0.9996824129934183, 0.9996819088673475, 0.9993379843051575, 0.9983241275844307, 0.9994813701713766, 0.9991330674275501, 0.999100304909087, 0.9988566174574358, 0.9990359812335989, 0.9991493275449461, 0.9996070183103993, 0.9994065350043062, 0.9984687333388191, 0.9986226446099595, 0.9995982226760528, 0.9997175643999332, 0.9998664335286833, 0.9995337473320942, 0.998932894189275, 0.9990553213390831, 0.9990208665899605, 0.9983640679384248, 0.9990317850547485, 0.9982918797574526, 0.998925593640305, 0.998450431835618, 0.9996600749333229, 0.9993304702320592, 0.9992795590491542, 0.9990029670805447, 0.9998873158127736, 0.999884157796501, 0.9998851954056064, 0.9999204205562205, 0.9987897450011303, 0.9993728580448181, 0.999439330328636, 0.9992587268752969, 0.9994639709040484, 0.9993685653585029, 0.999818852511311, 0.9991334764124435, 0.9981570710813428, 0.999389073595637, 0.9990712899470495, 0.9997795988935083, 0.9992347236511042, 0.9985726279472991, 0.999210905842767, 0.9992443000330954, 0.9995360843125488, 0.9991769723500574, 0.9992259464449338, 0.998694525365064, 0.9987040720604237, 0.9997104801589687, 0.9992266512333333, 0.9995087559872934, 0.998280186303872, 0.999631175302936, 0.9991934451320417, 0.999725482244669, 0.9989141206664811, 0.9986376044054659, 0.9990487788700126, 0.9997376570371972, 0.9987938915843839, 0.9998972841185697, 0.9989606177001221, 0.9997556828454928, 0.9985840937587748, 0.9992231318103604, 0.9998977990034161, 0.9991178583431136, 0.9994043249958241, 0.9999097884888793, 0.9995481192639568, 0.9995292380137925, 0.9989836765675232, 0.9999454420424737, 0.9999227545494037, 0.9987909577936763, 0.999397426568057, 0.9985905619413615, 0.9997047812105956, 0.999203054642752, 0.9985281585178989, 0.9988625299865086, 0.9996879616719094, 0.9996708899581815, 0.9988543197077256, 0.9995651069484861, 0.9986158084161404, 0.9995227886967126, 0.9983886967085749, 0.9998096365487861, 0.9996718992918608, 0.9986576440140119, 0.9996650724655777, 0.9993953398323961, 0.9993451521050666, 0.999316978153183, 0.9997544041343317, 0.9990832740432982, 0.9994829517246779, 0.9996681383925654, 0.9999273356044591, 0.9988379316227153, 0.9984094067244297, 0.9996524814850292, 0.9999671829981812, 0.9987246284683459, 0.9998734659962321, 0.9992234302942469, 0.999398076509618, 0.9992635781567164, 0.99974788052754, 0.9971798509367297, 0.9991614261111921, 0.9995789132919237, 0.9990353324838137, 0.9996649636275604, 0.9995395178840099, 0.9986283134140135, 0.999631559871146, 0.9995475701777147, 0.9990907567429822, 0.9994454301483311, 0.9983709807721088, 0.9987185208284282, 0.9987296268031313, 0.9987899046054833, 0.9989326315326645, 0.998988185939968, 0.9986504056623519, 0.9986484082826788, 0.9996565124602415, 0.9984949136405394, 0.9976215613140398, 0.9996876577439353, 0.9995639282900537, 0.9997584970270467, 0.9995163917521952, 0.9997646216509556, 0.9995351421443106, 0.9990897829045694, 0.999826046666815, 0.9994591412582331, 0.998887908407896, 0.9995959931346271, 0.9991475266819773, 0.999658568723594, 0.99976149115776, 0.9989376470922814, 0.9996311126923452, 0.9996885570864888, 0.9988523685584485, 0.999200033286697, 0.9991653377298855, 0.9990875665800296, 0.9997998240798875, 0.9992189721523544, 0.9999705363184804, 0.9998557109832191, 0.9979748221977568, 0.9987401809422459, 0.9986069705116001, 0.9985299969927937, 0.9996491548334034, 0.9990190581745486, 0.999637651484652, 0.9992490864951901, 0.998782216190041, 0.9995970769558886, 0.9991544325564987, 0.9999384039115068, 0.9998895958759157, 0.9987972940928955, 0.9993595910604722, 0.9988262268829943, 0.9993654479728304, 0.9994155794642019, 0.9989057476008246, 0.9998839222057341, 0.9996490586271277, 0.9988756170877188, 0.999579977653699, 0.9993779245220263, 0.99933581412769, 0.9998202670006159, 0.9991994707863682, 0.999451352439479, 0.9995481749144953, 0.998664217376182, 0.9986321595989593, 0.998889707401546, 0.9986478467239145, 0.9996820927123136, 0.9997866186391261, 0.9992864981781802, 0.9986815281264552, 0.9987048330048264, 0.9991068664146131, 0.9996242952743318, 0.99916578107825, 0.9991088338679063, 0.9999035949401626, 0.9989120400151915, 0.9983469892432046, 0.9994076272074701, 0.9993394505506683, 0.9989001295812128, 0.9986484834476459, 0.9997324327710987, 0.9990451687115782, 0.9985903384516199, 0.9981393969895105, 0.9993156121772749, 0.9995694929633484, 0.9996028848879466, 0.9993851613310456, 0.9994550741262874, 0.9996374676222166, 0.9979029098182539, 0.9994954610240759, 0.9996457622151951, 0.9992044577760514, 0.9989660059875912, 0.9976160154806711, 0.9992395290101332, 0.999302812455068, 0.9988687358556424, 0.9994791108172011, 0.998657596478068, 0.9988772843783563, 0.9995858706906234, 0.9993795373769546, 0.9994397605580978, 0.9995598889276377, 0.9993516524781678, 0.9993174851467767, 0.9981726449204189, 0.9999142391897097, 0.9996493854530242, 0.9991908622751616, 0.9992998252252502, 0.9996645090507404, 0.9993054769186077, 0.9996186088259669, 0.9991635982391234, 0.9993845091282452, 0.9986334874701744, 0.999321876609143, 0.9995044482843153, 0.9985750540873348, 0.99892377798538, 0.9997754662585805, 0.999493016445014, 0.9996831600113981, 0.9988125734064608, 0.9993317416891111, 0.9990422469440219, 0.999184870613461, 0.9999397154592592, 0.9989890391858921, 0.998869188769271, 0.9993908630204823, 0.9998393305719088, 0.9990324877759875, 0.9992346250483897, 0.9990655848146688, 0.9996512590311087, 0.9992276788826625, 0.9997756404279398, 0.9989926436720872, 0.9996993316014265, 0.999499591525181, 0.998876658433101, 0.9991095016910633, 0.9991513726312586, 0.9988304543796553, 0.9989894965415371, 0.9984099156739136, 0.9990772780908234, 0.9993374212894682, 0.9990932096167079, 0.9998359530899064, 0.9993982769577607, 0.9986987795650296, 0.9992989026455125, 0.9980669593353847, 0.9998077169218397, 0.9988229142077428, 0.9987077831335256, 0.9996020891276859, 0.999269100396867, 0.9992299723560136, 0.9998655204854382, 0.9996908403898634, 0.9996899656493636, 0.9985754530475586, 0.9984507194887203, 0.9993116047693283, 0.9989071586280427, 0.9993575230840613, 0.9991341476709386, 0.9994507398375644, 0.9990294868109745, 0.9997289855178607, 0.9993372724979864, 0.9996671707916388, 0.9988188365990777, 0.9985233669874478, 0.9995067471391502, 0.9988224271245268, 0.9994223385061219, 0.9981848939060383, 0.9992977754636019, 0.9997660550096288, 0.9979818760215021, 0.9995369999983004, 0.9997054700393907, 0.9995986208323657, 0.9990348643858736, 0.9987008235895982, 0.9995874783290348, 0.999683441112104, 0.9993015386530855, 0.9990198317213032, 0.9993001501584199, 0.9995174219552663, 0.9994696357961682, 0.9993621523857324, 0.9990881505819503, 0.9980861718382114, 0.9995578906951408, 0.9989557278737071, 0.9982829281448133, 0.999203553958457, 0.9987508291710956, 0.999005330959772, 0.9990310907813491, 0.9991526839453535, 0.9996637310522651, 0.9995277409202667, 0.9989886820716548, 0.9994125025496217, 0.9993513756080091, 0.9998829776464992, 0.9995685091800525, 0.9997297100841767, 0.9984625841408218, 0.9997381193462564, 0.9984607934401262, 0.999672963571256, 0.9991821920710307, 0.9988125288486209, 0.9998187548222391, 0.9988459463958147, 0.999476508715432, 0.9989695854052669, 0.9990688958823973, 0.9993107056936144, 0.9990288405293993, 0.9996727761233519, 0.9993770301426222, 0.9990521578177372, 0.9990374998435033, 0.9994301338325733, 0.9994865633986167, 0.9994380771722643, 0.9989207266789835, 0.9994940959852855, 0.9997666604381796, 0.9996591085266268, 0.9990985607550721, 0.9998341853604407, 0.9985886145329433, 0.9988508491572962, 0.9997257680119462, 0.9998868228199895, 0.9993936183863857, 0.9987629767546815, 0.9995859119293737, 0.9985023143453716, 0.9996516497065883, 0.9992493776896338, 0.9992585934478898, 0.9987427240699678, 0.9989868887244002, 0.998813153867232, 0.9993012327522224], \"Term\": [\"abgeordnete\", \"abgeordneten\", \"abstand\", \"abstimmung\", \"ach\", \"afd\", \"afghanistan\", \"agenda\", \"ah\", \"aha\", \"ahnung\", \"alternative\", \"altparteien\", \"amp\", \"ampel\", \"amt\", \"anfang\", \"angebot\", \"angst\", \"anh\\u00e4nger\", \"ansichten\", \"anspruch\", \"anstand\", \"antifa\", \"antisemitismus\", \"antwort\", \"antworten\", \"anzahl\", \"april\", \"arbeit\", \"arbeiten\", \"arbeiter\", \"arbeitnehmer\", \"argument\", \"argumente\", \"arsch\", \"art\", \"artikel\", \"arzt\", \"aufgabe\", \"aufkl\\u00e4rung\", \"auge\", \"augen\", \"aussage\", \"aussagen\", \"auto\", \"autos\", \"baerbock\", \"bahn\", \"basis\", \"bayern\", \"begriff\", \"begr\\u00fcndung\", \"beispiel\", \"beitrag\", \"bereich\", \"berlin\", \"bev\\u00f6lkerung\", \"bezug\", \"bge\", \"bild\", \"bilder\", \"bildung\", \"bitte\", \"blick\", \"bl\\u00f6d\", \"bl\\u00f6dsinn\", \"boden\", \"brd\", \"bt\", \"btw\", \"buch\", \"bund\", \"bundesregierung\", \"bundestag\", \"bundestagswahl\", \"bundeswehr\", \"bzw\", \"b\\u00fcrger\", \"b\\u00fcrgern\", \"ca\", \"cdu\", \"chance\", \"chef\", \"china\", \"corona\", \"covid\", \"csu\", \"dank\", \"danke\", \"daten\", \"ddr\", \"debatte\", \"definition\", \"demokraten\", \"demokratie\", \"denken\", \"deppen\", \"deutsche\", \"deutschen\", \"deutschland\", \"deutschlands\", \"diktatur\", \"ding\", \"dinge\", \"diskussion\", \"dr\", \"dreck\", \"dummheit\", \"ecke\", \"eindruck\", \"einkommen\", \"einstellung\", \"eltern\", \"ende\", \"energie\", \"entscheidung\", \"entscheidungen\", \"entwicklung\", \"erfahrung\", \"erfolg\", \"ergebnis\", \"ergebnisse\", \"ernst\", \"eu\", \"europa\", \"experten\", \"extremisten\", \"fake\", \"fakten\", \"fall\", \"familie\", \"familien\", \"fan\", \"faschismus\", \"faschist\", \"faschisten\", \"fdp\", \"fehler\", \"folge\", \"folgen\", \"fortschritt\", \"foto\", \"frage\", \"fragen\", \"fraktion\", \"frau\", \"frauen\", \"freiheit\", \"fresse\", \"freund\", \"freunde\", \"frieden\", \"f\\u00e4lle\", \"f\\u00fchrung\", \"f\\u00fc\\u00dfe\", \"gedanken\", \"gefahr\", \"gef\\u00fchl\", \"gegensatz\", \"gegenteil\", \"gegner\", \"geimpfte\", \"geimpften\", \"geld\", \"genossen\", \"gerechtigkeit\", \"geschichte\", \"gesellschaft\", \"gesetz\", \"gesicht\", \"gesundheit\", \"gewalt\", \"gewerkschaften\", \"gewinn\", \"gewissen\", \"gg\", \"gl\\u00fcck\", \"gl\\u00fcckwunsch\", \"gott\", \"grenze\", \"grenzen\", \"grippe\", \"groko\", \"gro\\u00dfteil\", \"grund\", \"grundgesetz\", \"gruppe\", \"gruppen\", \"gr\\u00fcn\", \"gr\\u00fcnden\", \"gr\\u00fcne\", \"gr\\u00fcnen\", \"gr\\u00fc\\u00dfe\", \"gut\", \"gute\", \"habeck\", \"hallo\", \"halt\", \"haltung\", \"hand\", \"hartz\", \"hass\", \"haufen\", \"hauptsache\", \"haus\", \"hause\", \"herr\", \"herrn\", \"hetze\", \"hetzer\", \"hey\", \"hilfe\", \"hinweis\", \"hirn\", \"hitler\", \"hoffnung\", \"hr\", \"idee\", \"ideen\", \"idioten\", \"immobilien\", \"impfen\", \"impfstoff\", \"impfung\", \"impfungen\", \"infektion\", \"inflation\", \"infrastruktur\", \"inhalt\", \"inhalte\", \"intelligenz\", \"interessen\", \"internet\", \"interview\", \"inzidenz\", \"israel\", \"its\", \"ja\", \"jahr\", \"jahre\", \"jahren\", \"kampagne\", \"kampf\", \"kandidaten\", \"kanzler\", \"kanzlerin\", \"kind\", \"kinder\", \"kindern\", \"klappe\", \"klasse\", \"klimawandel\", \"koalition\", \"kohle\", \"kollegen\", \"kommentar\", \"kommentare\", \"kommunisten\", \"kompetenz\", \"konsequenzen\", \"kontext\", \"konzerne\", \"kopf\", \"korruption\", \"kosten\", \"krankenh\\u00e4user\", \"krieg\", \"krise\", \"kritik\", \"kubicki\", \"kultur\", \"kurs\", \"lage\", \"lager\", \"land\", \"landes\", \"laschet\", \"lass\", \"lauterbach\", \"leben\", \"leid\", \"leistung\", \"leute\", \"leuten\", \"liebe\", \"linie\", \"linke\", \"linken\", \"links\", \"linkspartei\", \"liste\", \"lockdown\", \"logik\", \"lol\", \"luft\", \"l\\u00e4nder\", \"l\\u00e4ndern\", \"l\\u00f6hne\", \"l\\u00f6sung\", \"l\\u00f6sungen\", \"l\\u00fcgen\", \"mach\", \"macht\", \"mal\", \"mandat\", \"mann\", \"markt\", \"maske\", \"masken\", \"ma\\u00dfnahmen\", \"mdb\", \"medien\", \"mehrheit\", \"meinung\", \"meinungen\", \"menge\", \"mensch\", \"menschen\", \"menschenrechte\", \"merkel\", \"merz\", \"mietendeckel\", \"migranten\", \"millionen\", \"minderheiten\", \"mindestlohn\", \"mio\", \"mist\", \"mitglied\", \"mitglieder\", \"mitgliedern\", \"mitte\", \"moment\", \"monate\", \"monaten\", \"mord\", \"morgen\", \"mp\", \"mund\", \"mutter\", \"m\\u00e4nner\", \"m\\u00f6glichkeit\", \"m\\u00fcll\", \"na\", \"nacht\", \"nadel\", \"naja\", \"namen\", \"nato\", \"nazi\", \"nazis\", \"ne\", \"neid\", \"nein\", \"niveau\", \"nix\", \"noafd\", \"n\\u00f6\", \"oh\", \"ok\", \"okay\", \"opfer\", \"opposition\", \"ordnung\", \"ort\", \"ost\", \"osten\", \"pandemie\", \"parlament\", \"partei\", \"parteien\", \"parteiprogramm\", \"passt\", \"pcr\", \"peinlich\", \"person\", \"personal\", \"personen\", \"pflicht\", \"plan\", \"platz\", \"polen\", \"politik\", \"politiker\", \"politikern\", \"polizei\", \"populismus\", \"position\", \"positionen\", \"posten\", \"problem\", \"probleme\", \"profil\", \"programm\", \"propaganda\", \"prozent\", \"punkt\", \"putin\", \"quatsch\", \"quelle\", \"querdenker\", \"rahmen\", \"rassismus\", \"reaktion\", \"realit\\u00e4t\", \"recht\", \"rechte\", \"rechten\", \"rechts\", \"rechtsstaat\", \"rede\", \"reden\", \"regeln\", \"regierung\", \"regierungsverantwortung\", \"reich\", \"reiche\", \"reichen\", \"reihe\", \"reihen\", \"rente\", \"renten\", \"rentner\", \"republik\", \"respekt\", \"rest\", \"richtung\", \"risiko\", \"rolle\", \"rot\", \"rum\", \"russland\", \"sache\", \"sachsen\", \"sagt\", \"satire\", \"satz\", \"schade\", \"schaden\", \"schande\", \"schau\", \"schei\\u00dfe\", \"scholz\", \"schuld\", \"schule\", \"schulen\", \"schutz\", \"schwachsinn\", \"schwarz\", \"sed\", \"seite\", \"seiten\", \"september\", \"sicherheit\", \"sicht\", \"sinn\", \"sinne\", \"situation\", \"skandal\", \"soldaten\", \"solidarit\\u00e4t\", \"sorge\", \"sorgen\", \"sorry\", \"sowas\", \"sozialismus\", \"sozialisten\", \"spahn\", \"spaltung\", \"spa\\u00df\", \"spd\", \"spiel\", \"spitze\", \"sprache\", \"staat\", \"staaten\", \"stasi\", \"statistik\", \"stelle\", \"steuer\", \"steuern\", \"steuerzahler\", \"stimme\", \"stimmen\", \"strategie\", \"stra\\u00dfe\", \"strom\", \"studie\", \"stunden\", \"st\\u00fcck\", \"super\", \"system\", \"s\\u00f6der\", \"tag\", \"tage\", \"tagen\", \"tat\", \"tatsache\", \"teil\", \"teile\", \"terroristen\", \"test\", \"tests\", \"the\", \"thema\", \"themen\", \"th\\u00fcringen\", \"tipp\", \"tisch\", \"tja\", \"tod\", \"tote\", \"toten\", \"trump\", \"tv\", \"tweet\", \"tweets\", \"twitter\", \"typ\", \"typen\", \"uhr\", \"umfragen\", \"un\", \"unf\\u00e4higkeit\", \"ungeimpfte\", \"union\", \"unrecht\", \"unsinn\", \"unternehmen\", \"unterschied\", \"unterst\\u00fctzung\", \"us\", \"usa\", \"verantwortung\", \"verbrechen\", \"verein\", \"verfassungsschutz\", \"vergangenheit\", \"vergleich\", \"verhalten\", \"verh\\u00e4ltnis\", \"verlauf\", \"verm\\u00f6gen\", \"vernunft\", \"versagen\", \"verstand\", \"verst\\u00e4ndnis\", \"versuch\", \"vertrauen\", \"video\", \"virus\", \"volk\", \"vorschl\\u00e4ge\", \"vorsitzende\", \"vorsitzenden\", \"wahl\", \"wahlen\", \"wahlkampf\", \"wahnsinn\", \"wahrheit\", \"wasser\", \"weidel\", \"weise\", \"welle\", \"welt\", \"weltbild\", \"wert\", \"werte\", \"westen\", \"wieso\", \"wind\", \"wirtschaft\", \"wissen\", \"wissenschaft\", \"witz\", \"woche\", \"wochen\", \"wohlstand\", \"wohnung\", \"wohnungen\", \"wort\", \"worte\", \"wunder\", \"w\\u00e4hler\", \"w\\u00e4hlern\", \"zahl\", \"zahlen\", \"zeit\", \"zeiten\", \"zeug\", \"ziel\", \"ziele\", \"zukunft\", \"zusammenhang\", \"zustimmung\", \"\\u00e4rzte\", \"\\u00f6ffentlichkeit\", \"\\u00f6pnv\", \"\\u00f6rr\"]}, \"R\": 30, \"lambda.step\": 0.01, \"plot.opts\": {\"xlab\": \"PC1\", \"ylab\": \"PC2\"}, \"topic.order\": [18, 9, 17, 2, 4, 12, 6, 11, 3, 5, 1, 20, 16, 10, 8, 14, 13, 19, 15, 7]};\n",
       "\n",
       "function LDAvis_load_lib(url, callback){\n",
       "  var s = document.createElement('script');\n",
       "  s.src = url;\n",
       "  s.async = true;\n",
       "  s.onreadystatechange = s.onload = callback;\n",
       "  s.onerror = function(){console.warn(\"failed to load library \" + url);};\n",
       "  document.getElementsByTagName(\"head\")[0].appendChild(s);\n",
       "}\n",
       "\n",
       "if(typeof(LDAvis) !== \"undefined\"){\n",
       "   // already loaded: just create the visualization\n",
       "   !function(LDAvis){\n",
       "       new LDAvis(\"#\" + \"ldavis_el87321128215984329838814087\", ldavis_el87321128215984329838814087_data);\n",
       "   }(LDAvis);\n",
       "}else if(typeof define === \"function\" && define.amd){\n",
       "   // require.js is available: use it to load d3/LDAvis\n",
       "   require.config({paths: {d3: \"https://d3js.org/d3.v5\"}});\n",
       "   require([\"d3\"], function(d3){\n",
       "      window.d3 = d3;\n",
       "      LDAvis_load_lib(\"https://cdn.jsdelivr.net/gh/bmabey/pyLDAvis@3.4.0/pyLDAvis/js/ldavis.v3.0.0.js\", function(){\n",
       "        new LDAvis(\"#\" + \"ldavis_el87321128215984329838814087\", ldavis_el87321128215984329838814087_data);\n",
       "      });\n",
       "    });\n",
       "}else{\n",
       "    // require.js not available: dynamically load d3 & LDAvis\n",
       "    LDAvis_load_lib(\"https://d3js.org/d3.v5.js\", function(){\n",
       "         LDAvis_load_lib(\"https://cdn.jsdelivr.net/gh/bmabey/pyLDAvis@3.4.0/pyLDAvis/js/ldavis.v3.0.0.js\", function(){\n",
       "                 new LDAvis(\"#\" + \"ldavis_el87321128215984329838814087\", ldavis_el87321128215984329838814087_data);\n",
       "            })\n",
       "         });\n",
       "}\n",
       "</script>"
      ],
      "text/plain": [
       "<IPython.core.display.HTML object>"
      ]
     },
     "execution_count": 14,
     "metadata": {},
     "output_type": "execute_result"
    }
   ],
   "source": [
    "data = pyLDAvis.gensim.prepare(load_lda_model, load_corpus, load_dictionary)\n",
    "pyLDAvis.display(data)"
   ]
  },
  {
   "cell_type": "markdown",
   "id": "03bca462-6292-4228-b4c7-e4cb594bcbeb",
   "metadata": {
    "tags": []
   },
   "source": [
    "## 5. Topics"
   ]
  },
  {
   "cell_type": "code",
   "execution_count": 15,
   "id": "a6f8b014-8ece-4490-9761-1484266e6292",
   "metadata": {
    "tags": []
   },
   "outputs": [],
   "source": [
    "topic_tokens = [word[0] for word in topics[8][1]]"
   ]
  },
  {
   "cell_type": "code",
   "execution_count": 16,
   "id": "62a75a93-2bdb-4ea1-aa09-295f5ad25293",
   "metadata": {
    "tags": []
   },
   "outputs": [],
   "source": [
    "df_mentions['date'] = pd.to_datetime(df_mentions['date'])"
   ]
  },
  {
   "cell_type": "code",
   "execution_count": 17,
   "id": "5eb5edcc-8949-4276-b9f1-20a52a1bece6",
   "metadata": {
    "tags": []
   },
   "outputs": [
    {
     "ename": "AttributeError",
     "evalue": "'str' object has no attribute 'astype'",
     "output_type": "error",
     "traceback": [
      "\u001b[0;31m---------------------------------------------------------------------------\u001b[0m",
      "\u001b[0;31mAttributeError\u001b[0m                            Traceback (most recent call last)",
      "Cell \u001b[0;32mIn[17], line 7\u001b[0m\n\u001b[1;32m      5\u001b[0m month \u001b[38;5;241m=\u001b[39m row[\u001b[38;5;124m'\u001b[39m\u001b[38;5;124mdate\u001b[39m\u001b[38;5;124m'\u001b[39m]\u001b[38;5;241m.\u001b[39mmonth\n\u001b[1;32m      6\u001b[0m \u001b[38;5;28;01mfor\u001b[39;00m token \u001b[38;5;129;01min\u001b[39;00m topic_tokens:\n\u001b[0;32m----> 7\u001b[0m     \u001b[38;5;28;01mif\u001b[39;00m token \u001b[38;5;129;01min\u001b[39;00m \u001b[43mrow\u001b[49m\u001b[43m[\u001b[49m\u001b[38;5;124;43m'\u001b[39;49m\u001b[38;5;124;43mclean_text\u001b[39;49m\u001b[38;5;124;43m'\u001b[39;49m\u001b[43m]\u001b[49m\u001b[38;5;241;43m.\u001b[39;49m\u001b[43mastype\u001b[49m(\u001b[38;5;28mstr\u001b[39m):\n\u001b[1;32m      8\u001b[0m         df_mentions\u001b[38;5;241m.\u001b[39mat[index, token] \u001b[38;5;241m+\u001b[39m\u001b[38;5;241m=\u001b[39m \u001b[38;5;241m1\u001b[39m\n",
      "\u001b[0;31mAttributeError\u001b[0m: 'str' object has no attribute 'astype'"
     ]
    }
   ],
   "source": [
    "for token in topic_tokens:\n",
    "    df_mentions[token] = 0\n",
    "\n",
    "for index, row in df_mentions.iterrows():\n",
    "    month = row['date'].month\n",
    "    for token in topic_tokens:\n",
    "        if token in row['clean_text'].astype(str):\n",
    "            df_mentions.at[index, token] += 1"
   ]
  },
  {
   "cell_type": "code",
   "execution_count": null,
   "id": "7f994b9f-e674-47f3-9e3f-451f03fa6c68",
   "metadata": {
    "tags": []
   },
   "outputs": [],
   "source": [
    "grouped_mentions_df = df_mentions.groupby(df_mentions['date'].dt.month).sum()"
   ]
  },
  {
   "cell_type": "code",
   "execution_count": null,
   "id": "16417e18-0079-4b0e-94f3-edc3f2590a80",
   "metadata": {
    "tags": []
   },
   "outputs": [],
   "source": [
    "for token in topic_tokens:\n",
    "    total_count = grouped_mentions_df[token].sum()\n",
    "    grouped_mentions_df[token] = grouped_mentions_df[token] / total_count"
   ]
  },
  {
   "cell_type": "code",
   "execution_count": null,
   "id": "4edac972-cbc7-43b7-b342-0f7247339a0a",
   "metadata": {
    "tags": []
   },
   "outputs": [],
   "source": [
    "import seaborn as sns\n",
    "import matplotlib.pyplot as plt\n",
    "\n",
    "plt.figure(figsize=(10,5))\n",
    "sns.heatmap(grouped_mentions_df[topic_tokens].transpose(), cmap='Blues')\n",
    "plt.title('Topic 1 Token Heatmap')\n",
    "plt.xlabel('Month')\n",
    "plt.ylabel('Token')\n",
    "plt.show()"
   ]
  },
  {
   "cell_type": "code",
   "execution_count": null,
   "id": "b4e48e2e-2bf1-45d7-a74d-c746bfbb5c4a",
   "metadata": {
    "tags": []
   },
   "outputs": [],
   "source": [
    "grouped_mentions_df[topic_tokens].transpose()"
   ]
  },
  {
   "cell_type": "code",
   "execution_count": null,
   "id": "23cc76bb-ecf4-42f9-b036-156f76e396fe",
   "metadata": {
    "tags": []
   },
   "outputs": [],
   "source": [
    "df_mentions[df_mentions['text'].str.contains('katjakipping')]"
   ]
  }
 ],
 "metadata": {
  "kernelspec": {
   "display_name": "Python 3 (ipykernel)",
   "language": "python",
   "name": "python3"
  },
  "language_info": {
   "codemirror_mode": {
    "name": "ipython",
    "version": 3
   },
   "file_extension": ".py",
   "mimetype": "text/x-python",
   "name": "python",
   "nbconvert_exporter": "python",
   "pygments_lexer": "ipython3",
   "version": "3.10.9"
  }
 },
 "nbformat": 4,
 "nbformat_minor": 5
}
