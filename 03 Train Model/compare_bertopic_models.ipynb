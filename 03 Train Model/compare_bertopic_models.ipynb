{
 "cells": [
  {
   "cell_type": "markdown",
   "id": "8343a08c-50f3-438e-9106-f0d6f69be2ef",
   "metadata": {},
   "source": [
    "# Notebook"
   ]
  },
  {
   "cell_type": "markdown",
   "id": "08bb30f4-d679-43a4-82a6-0219f9eeeb69",
   "metadata": {},
   "source": [
    "## 1. Load Packages"
   ]
  },
  {
   "cell_type": "code",
   "execution_count": 1,
   "id": "d7f419eb-08ae-47ce-aa06-7250074572bf",
   "metadata": {},
   "outputs": [],
   "source": [
    "from sklearn.metrics.pairwise import cosine_similarity\n",
    "from bertopic import BERTopic\n",
    "import pandas as pd\n",
    "import numpy as np"
   ]
  },
  {
   "cell_type": "markdown",
   "id": "514a61c9-a88e-43d2-a889-53a17be53e7b",
   "metadata": {},
   "source": [
    "## 2. Settings / Setup"
   ]
  },
  {
   "cell_type": "code",
   "execution_count": 2,
   "id": "7e24d8d5-7b33-4d72-af5d-2f477c3cb350",
   "metadata": {},
   "outputs": [],
   "source": [
    "comparison_title = \"Mentions (Text) vs Political Party Accounts (Text)\"\n",
    "comparison_path = \"mentions_text_vs_political_party_accounts_text\""
   ]
  },
  {
   "cell_type": "code",
   "execution_count": 3,
   "id": "4d5597cd-f95d-451c-94bf-6948166e17d6",
   "metadata": {},
   "outputs": [],
   "source": [
    "model_A_path = \"results_mentions_text/model\"\n",
    "model_B_path = \"results_political_party_accounts_text/model\""
   ]
  },
  {
   "cell_type": "code",
   "execution_count": 4,
   "id": "a5e41e9c-bf4e-4795-ab32-08ed14dc9948",
   "metadata": {},
   "outputs": [],
   "source": [
    "model_A = BERTopic.load(model_A_path)\n",
    "model_B = BERTopic.load(model_B_path)\n",
    "model_A_name = \"Mentions (Text)\"\n",
    "model_B_name = \"Political Party Accounts (Text)\""
   ]
  },
  {
   "cell_type": "markdown",
   "id": "c6c0640d-33c8-4052-be51-ec9d49c06fd2",
   "metadata": {},
   "source": [
    "## 3. Code"
   ]
  },
  {
   "cell_type": "markdown",
   "id": "1dc78883-fbe0-4f87-a601-0d11674affbd",
   "metadata": {},
   "source": [
    "We can calculate the similarity between topics of a topic model `model_A` and another topic model `model_B`. To do so, we can simply calculate the cosine similarity between the topic_embedding of both models:"
   ]
  },
  {
   "cell_type": "code",
   "execution_count": 5,
   "id": "c14d2d3a-c799-451d-8a6a-ee82e1a3e96c",
   "metadata": {},
   "outputs": [],
   "source": [
    "model_A_embeddings = model_A.topic_embeddings_[1:]\n",
    "model_B_embeddings = model_B.topic_embeddings_[1:]\n",
    "sim_matrix = cosine_similarity(model_A_embeddings, model_B_embeddings)"
   ]
  },
  {
   "cell_type": "code",
   "execution_count": 6,
   "id": "88dc8395-4112-4a74-8544-7de7fced3b12",
   "metadata": {},
   "outputs": [
    {
     "data": {
      "text/plain": [
       "(25, 24)"
      ]
     },
     "execution_count": 6,
     "metadata": {},
     "output_type": "execute_result"
    }
   ],
   "source": [
    "len(model_A_embeddings), len(model_B_embeddings)"
   ]
  },
  {
   "cell_type": "code",
   "execution_count": 7,
   "id": "21944a65-485f-4e51-b46e-9e8421f6a79f",
   "metadata": {
    "tags": []
   },
   "outputs": [
    {
     "data": {
      "text/html": [
       "<div>\n",
       "<style scoped>\n",
       "    .dataframe tbody tr th:only-of-type {\n",
       "        vertical-align: middle;\n",
       "    }\n",
       "\n",
       "    .dataframe tbody tr th {\n",
       "        vertical-align: top;\n",
       "    }\n",
       "\n",
       "    .dataframe thead th {\n",
       "        text-align: right;\n",
       "    }\n",
       "</style>\n",
       "<table border=\"1\" class=\"dataframe\">\n",
       "  <thead>\n",
       "    <tr style=\"text-align: right;\">\n",
       "      <th></th>\n",
       "      <th>Topic A</th>\n",
       "      <th>Topic A Tokens</th>\n",
       "      <th>Topic B</th>\n",
       "      <th>Topic B Tokens</th>\n",
       "      <th>Similarity</th>\n",
       "    </tr>\n",
       "  </thead>\n",
       "  <tbody>\n",
       "    <tr>\n",
       "      <th>0</th>\n",
       "      <td>1</td>\n",
       "      <td>deutschland, afd, cdu</td>\n",
       "      <td>1</td>\n",
       "      <td>afd, berlin, bundestag</td>\n",
       "      <td>0.966</td>\n",
       "    </tr>\n",
       "    <tr>\n",
       "      <th>1</th>\n",
       "      <td>2</td>\n",
       "      <td>euro, jahr, deutschland</td>\n",
       "      <td>24</td>\n",
       "      <td>türkei, erdogan, türkisch</td>\n",
       "      <td>0.970</td>\n",
       "    </tr>\n",
       "    <tr>\n",
       "      <th>2</th>\n",
       "      <td>3</td>\n",
       "      <td>tweet, twitter, antwort</td>\n",
       "      <td>14</td>\n",
       "      <td>landwirtschaft, wald, landwirt</td>\n",
       "      <td>0.976</td>\n",
       "    </tr>\n",
       "    <tr>\n",
       "      <th>3</th>\n",
       "      <td>4</td>\n",
       "      <td>covid, cases, data</td>\n",
       "      <td>1</td>\n",
       "      <td>afd, berlin, bundestag</td>\n",
       "      <td>0.932</td>\n",
       "    </tr>\n",
       "    <tr>\n",
       "      <th>4</th>\n",
       "      <td>5</td>\n",
       "      <td>impfstoff, impfung, biontech</td>\n",
       "      <td>1</td>\n",
       "      <td>afd, berlin, bundestag</td>\n",
       "      <td>0.969</td>\n",
       "    </tr>\n",
       "    <tr>\n",
       "      <th>5</th>\n",
       "      <td>6</td>\n",
       "      <td>corona, jahr, coronavirus</td>\n",
       "      <td>1</td>\n",
       "      <td>afd, berlin, bundestag</td>\n",
       "      <td>0.984</td>\n",
       "    </tr>\n",
       "    <tr>\n",
       "      <th>6</th>\n",
       "      <td>7</td>\n",
       "      <td>covid, fall, patient</td>\n",
       "      <td>1</td>\n",
       "      <td>afd, berlin, bundestag</td>\n",
       "      <td>0.953</td>\n",
       "    </tr>\n",
       "    <tr>\n",
       "      <th>7</th>\n",
       "      <td>8</td>\n",
       "      <td>politik, partei, politisch</td>\n",
       "      <td>5</td>\n",
       "      <td>euro, rente, steuer</td>\n",
       "      <td>0.978</td>\n",
       "    </tr>\n",
       "    <tr>\n",
       "      <th>8</th>\n",
       "      <td>9</td>\n",
       "      <td>kind, schule, kitas</td>\n",
       "      <td>7</td>\n",
       "      <td>eu, russland, belarus</td>\n",
       "      <td>0.990</td>\n",
       "    </tr>\n",
       "    <tr>\n",
       "      <th>9</th>\n",
       "      <td>10</td>\n",
       "      <td>union, spd, bundestagswahl</td>\n",
       "      <td>5</td>\n",
       "      <td>euro, rente, steuer</td>\n",
       "      <td>0.956</td>\n",
       "    </tr>\n",
       "    <tr>\n",
       "      <th>10</th>\n",
       "      <td>11</td>\n",
       "      <td>cannabis, legalisierung, droge</td>\n",
       "      <td>1</td>\n",
       "      <td>afd, berlin, bundestag</td>\n",
       "      <td>0.862</td>\n",
       "    </tr>\n",
       "    <tr>\n",
       "      <th>11</th>\n",
       "      <td>12</td>\n",
       "      <td>freiheit, recht, grundgesetz</td>\n",
       "      <td>5</td>\n",
       "      <td>euro, rente, steuer</td>\n",
       "      <td>0.971</td>\n",
       "    </tr>\n",
       "    <tr>\n",
       "      <th>12</th>\n",
       "      <td>13</td>\n",
       "      <td>afghanistan, taliban, bundeswehr</td>\n",
       "      <td>10</td>\n",
       "      <td>polizei, bundeswehr, werden</td>\n",
       "      <td>0.979</td>\n",
       "    </tr>\n",
       "    <tr>\n",
       "      <th>13</th>\n",
       "      <td>14</td>\n",
       "      <td>frau, mann, arbeitsförderung</td>\n",
       "      <td>19</td>\n",
       "      <td>bahn, auto, mobilität</td>\n",
       "      <td>0.974</td>\n",
       "    </tr>\n",
       "    <tr>\n",
       "      <th>14</th>\n",
       "      <td>15</td>\n",
       "      <td>flüchtling, deutschland, migration</td>\n",
       "      <td>6</td>\n",
       "      <td>csu, cdu, abgeordneter</td>\n",
       "      <td>0.965</td>\n",
       "    </tr>\n",
       "    <tr>\n",
       "      <th>15</th>\n",
       "      <td>16</td>\n",
       "      <td>idiot, journalist, ideologie</td>\n",
       "      <td>9</td>\n",
       "      <td>youtube, live, orbit</td>\n",
       "      <td>0.964</td>\n",
       "    </tr>\n",
       "    <tr>\n",
       "      <th>16</th>\n",
       "      <td>17</td>\n",
       "      <td>virus, variante, cov</td>\n",
       "      <td>1</td>\n",
       "      <td>afd, berlin, bundestag</td>\n",
       "      <td>0.949</td>\n",
       "    </tr>\n",
       "    <tr>\n",
       "      <th>17</th>\n",
       "      <td>18</td>\n",
       "      <td>maske, ffp, belegung</td>\n",
       "      <td>21</td>\n",
       "      <td>pflege, krankenhaus, gesundheit</td>\n",
       "      <td>0.991</td>\n",
       "    </tr>\n",
       "    <tr>\n",
       "      <th>18</th>\n",
       "      <td>19</td>\n",
       "      <td>israel, jude, antisemitismus</td>\n",
       "      <td>11</td>\n",
       "      <td>afghanistan, taliban, kabul</td>\n",
       "      <td>0.987</td>\n",
       "    </tr>\n",
       "    <tr>\n",
       "      <th>19</th>\n",
       "      <td>20</td>\n",
       "      <td>cdu, csu, maskendeal</td>\n",
       "      <td>5</td>\n",
       "      <td>euro, rente, steuer</td>\n",
       "      <td>0.961</td>\n",
       "    </tr>\n",
       "    <tr>\n",
       "      <th>20</th>\n",
       "      <td>21</td>\n",
       "      <td>scholz, olaf, spd</td>\n",
       "      <td>1</td>\n",
       "      <td>afd, berlin, bundestag</td>\n",
       "      <td>0.946</td>\n",
       "    </tr>\n",
       "    <tr>\n",
       "      <th>21</th>\n",
       "      <td>22</td>\n",
       "      <td>prime, deputy, party</td>\n",
       "      <td>5</td>\n",
       "      <td>euro, rente, steuer</td>\n",
       "      <td>0.943</td>\n",
       "    </tr>\n",
       "    <tr>\n",
       "      <th>22</th>\n",
       "      <td>23</td>\n",
       "      <td>grüne, antrag, grün</td>\n",
       "      <td>5</td>\n",
       "      <td>euro, rente, steuer</td>\n",
       "      <td>0.942</td>\n",
       "    </tr>\n",
       "    <tr>\n",
       "      <th>23</th>\n",
       "      <td>24</td>\n",
       "      <td>digital, digitalisierung, neu</td>\n",
       "      <td>3</td>\n",
       "      <td>klimaschutz, klima, sozial</td>\n",
       "      <td>0.977</td>\n",
       "    </tr>\n",
       "    <tr>\n",
       "      <th>24</th>\n",
       "      <td>25</td>\n",
       "      <td>lauterbach, karl, spd</td>\n",
       "      <td>1</td>\n",
       "      <td>afd, berlin, bundestag</td>\n",
       "      <td>0.951</td>\n",
       "    </tr>\n",
       "  </tbody>\n",
       "</table>\n",
       "</div>"
      ],
      "text/plain": [
       "    Topic A                      Topic A Tokens  Topic B  \\\n",
       "0         1               deutschland, afd, cdu        1   \n",
       "1         2             euro, jahr, deutschland       24   \n",
       "2         3             tweet, twitter, antwort       14   \n",
       "3         4                  covid, cases, data        1   \n",
       "4         5        impfstoff, impfung, biontech        1   \n",
       "5         6           corona, jahr, coronavirus        1   \n",
       "6         7                covid, fall, patient        1   \n",
       "7         8          politik, partei, politisch        5   \n",
       "8         9                 kind, schule, kitas        7   \n",
       "9        10          union, spd, bundestagswahl        5   \n",
       "10       11      cannabis, legalisierung, droge        1   \n",
       "11       12        freiheit, recht, grundgesetz        5   \n",
       "12       13    afghanistan, taliban, bundeswehr       10   \n",
       "13       14        frau, mann, arbeitsförderung       19   \n",
       "14       15  flüchtling, deutschland, migration        6   \n",
       "15       16        idiot, journalist, ideologie        9   \n",
       "16       17                virus, variante, cov        1   \n",
       "17       18                maske, ffp, belegung       21   \n",
       "18       19        israel, jude, antisemitismus       11   \n",
       "19       20                cdu, csu, maskendeal        5   \n",
       "20       21                   scholz, olaf, spd        1   \n",
       "21       22                prime, deputy, party        5   \n",
       "22       23                 grüne, antrag, grün        5   \n",
       "23       24       digital, digitalisierung, neu        3   \n",
       "24       25               lauterbach, karl, spd        1   \n",
       "\n",
       "                     Topic B Tokens  Similarity  \n",
       "0            afd, berlin, bundestag       0.966  \n",
       "1         türkei, erdogan, türkisch       0.970  \n",
       "2    landwirtschaft, wald, landwirt       0.976  \n",
       "3            afd, berlin, bundestag       0.932  \n",
       "4            afd, berlin, bundestag       0.969  \n",
       "5            afd, berlin, bundestag       0.984  \n",
       "6            afd, berlin, bundestag       0.953  \n",
       "7               euro, rente, steuer       0.978  \n",
       "8             eu, russland, belarus       0.990  \n",
       "9               euro, rente, steuer       0.956  \n",
       "10           afd, berlin, bundestag       0.862  \n",
       "11              euro, rente, steuer       0.971  \n",
       "12      polizei, bundeswehr, werden       0.979  \n",
       "13            bahn, auto, mobilität       0.974  \n",
       "14           csu, cdu, abgeordneter       0.965  \n",
       "15             youtube, live, orbit       0.964  \n",
       "16           afd, berlin, bundestag       0.949  \n",
       "17  pflege, krankenhaus, gesundheit       0.991  \n",
       "18      afghanistan, taliban, kabul       0.987  \n",
       "19              euro, rente, steuer       0.961  \n",
       "20           afd, berlin, bundestag       0.946  \n",
       "21              euro, rente, steuer       0.943  \n",
       "22              euro, rente, steuer       0.942  \n",
       "23       klimaschutz, klima, sozial       0.977  \n",
       "24           afd, berlin, bundestag       0.951  "
      ]
     },
     "execution_count": 7,
     "metadata": {},
     "output_type": "execute_result"
    }
   ],
   "source": [
    "import pandas as pd\n",
    "\n",
    "data_similarity = []\n",
    "for topic_of_interest in range(0, len(model_A_embeddings)):\n",
    "    model_A_tokens = model_A.get_topic(topic_of_interest)\n",
    "    most_similar_topic = np.argmax(sim_matrix[topic_of_interest])\n",
    "    model_B_tokens = model_B.get_topic(most_similar_topic)[:20]\n",
    "    \n",
    "    row = {\n",
    "        'Topic A': topic_of_interest + 1,\n",
    "        'Topic A Tokens': ', '.join([token[0] for token in model_A_tokens[:3]]),\n",
    "        'Topic B': most_similar_topic + 1,\n",
    "        'Topic B Tokens': ', '.join([token[0] for token in model_B_tokens[:3]]),\n",
    "        'Similarity': round(sim_matrix[topic_of_interest][most_similar_topic], 3)\n",
    "    }\n",
    "    data_similarity.append(row)\n",
    "\n",
    "df_similarity = pd.DataFrame(data_similarity)\n",
    "df_similarity"
   ]
  },
  {
   "cell_type": "code",
   "execution_count": 8,
   "id": "4ad4effb-dfb7-41b4-b8f5-c97815c0f1a2",
   "metadata": {},
   "outputs": [
    {
     "name": "stdout",
     "output_type": "stream",
     "text": [
      "\\begin{tabular}{rlrlr}\n",
      "\\toprule\n",
      " Topic A &                     Topic A Tokens &  Topic B &                  Topic B Tokens &  Similarity \\\\\n",
      "\\midrule\n",
      "       1 &              deutschland, afd, cdu &        1 &          afd, berlin, bundestag &       0.966 \\\\\n",
      "       2 &            euro, jahr, deutschland &       24 &       türkei, erdogan, türkisch &       0.970 \\\\\n",
      "       3 &            tweet, twitter, antwort &       14 &  landwirtschaft, wald, landwirt &       0.976 \\\\\n",
      "       4 &                 covid, cases, data &        1 &          afd, berlin, bundestag &       0.932 \\\\\n",
      "       5 &       impfstoff, impfung, biontech &        1 &          afd, berlin, bundestag &       0.969 \\\\\n",
      "       6 &          corona, jahr, coronavirus &        1 &          afd, berlin, bundestag &       0.984 \\\\\n",
      "       7 &               covid, fall, patient &        1 &          afd, berlin, bundestag &       0.953 \\\\\n",
      "       8 &         politik, partei, politisch &        5 &             euro, rente, steuer &       0.978 \\\\\n",
      "       9 &                kind, schule, kitas &        7 &           eu, russland, belarus &       0.990 \\\\\n",
      "      10 &         union, spd, bundestagswahl &        5 &             euro, rente, steuer &       0.956 \\\\\n",
      "      11 &     cannabis, legalisierung, droge &        1 &          afd, berlin, bundestag &       0.862 \\\\\n",
      "      12 &       freiheit, recht, grundgesetz &        5 &             euro, rente, steuer &       0.971 \\\\\n",
      "      13 &   afghanistan, taliban, bundeswehr &       10 &     polizei, bundeswehr, werden &       0.979 \\\\\n",
      "      14 &       frau, mann, arbeitsförderung &       19 &           bahn, auto, mobilität &       0.974 \\\\\n",
      "      15 & flüchtling, deutschland, migration &        6 &          csu, cdu, abgeordneter &       0.965 \\\\\n",
      "      16 &       idiot, journalist, ideologie &        9 &            youtube, live, orbit &       0.964 \\\\\n",
      "      17 &               virus, variante, cov &        1 &          afd, berlin, bundestag &       0.949 \\\\\n",
      "      18 &               maske, ffp, belegung &       21 & pflege, krankenhaus, gesundheit &       0.991 \\\\\n",
      "      19 &       israel, jude, antisemitismus &       11 &     afghanistan, taliban, kabul &       0.987 \\\\\n",
      "      20 &               cdu, csu, maskendeal &        5 &             euro, rente, steuer &       0.961 \\\\\n",
      "      21 &                  scholz, olaf, spd &        1 &          afd, berlin, bundestag &       0.946 \\\\\n",
      "      22 &               prime, deputy, party &        5 &             euro, rente, steuer &       0.943 \\\\\n",
      "      23 &                grüne, antrag, grün &        5 &             euro, rente, steuer &       0.942 \\\\\n",
      "      24 &      digital, digitalisierung, neu &        3 &      klimaschutz, klima, sozial &       0.977 \\\\\n",
      "      25 &              lauterbach, karl, spd &        1 &          afd, berlin, bundestag &       0.951 \\\\\n",
      "\\bottomrule\n",
      "\\end{tabular}\n",
      "\n"
     ]
    }
   ],
   "source": [
    "latex_table = df_similarity.to_latex(index=False)\n",
    "print(latex_table)"
   ]
  },
  {
   "cell_type": "code",
   "execution_count": 9,
   "id": "b1f374a3-0f08-400c-bc5d-01c50fcdc061",
   "metadata": {},
   "outputs": [],
   "source": [
    "with open(comparison_path + '.txt', 'w') as file:\n",
    "    file.write(latex_table)"
   ]
  },
  {
   "cell_type": "code",
   "execution_count": 10,
   "id": "3112026b-c3d9-4152-bfea-8f11fe03f00e",
   "metadata": {},
   "outputs": [
    {
     "data": {
      "image/png": "[encoded data removed]",
      "text/plain": [
       "<Figure size 864x720 with 2 Axes>"
      ]
     },
     "metadata": {
      "needs_background": "light"
     },
     "output_type": "display_data"
    },
    {
     "data": {
      "text/plain": [
       "<Figure size 432x288 with 0 Axes>"
      ]
     },
     "metadata": {},
     "output_type": "display_data"
    }
   ],
   "source": [
    "import matplotlib.pyplot as plt\n",
    "import numpy as np\n",
    "\n",
    "fig = plt.figure(figsize=(12, 10)) \n",
    "plt.imshow(sim_matrix, cmap='Blues', interpolation='nearest')\n",
    "\n",
    "highest_similarities = np.argmax(sim_matrix, axis=1)\n",
    "\n",
    "#for topic_of_interest, most_similar_topic in enumerate(highest_similarities):\n",
    "    #plt.gca().add_patch(plt.Rectangle((most_similar_topic - 0.5, topic_of_interest - 0.5), 1, 1, edgecolor='red', facecolor='none'))\n",
    "\n",
    "plt.colorbar()\n",
    "plt.title('Cosine Similarity Matrix - ' + comparison_title)\n",
    "plt.xlabel(f'Model {model_A_name}')\n",
    "plt.ylabel(f'Topics in {model_B_name}')\n",
    "plt.show()\n",
    "plt.savefig(comparison_path + '.png', dpi=300)  # Adjust the file name and DPI as needed"
   ]
  },
  {
   "cell_type": "code",
   "execution_count": 11,
   "id": "9661e685-0af7-461b-ace0-a50789dd1a48",
   "metadata": {},
   "outputs": [],
   "source": [
    "# Topic Tabellen um text_political_accounts mit text_mentions zu vergleichen\n",
    "# Topic Tabellen um img_political_accounts mit img_mentions zu vergleichen"
   ]
  }
 ],
 "metadata": {
  "kernelspec": {
   "display_name": "Python 3 (ipykernel)",
   "language": "python",
   "name": "python3"
  },
  "language_info": {
   "codemirror_mode": {
    "name": "ipython",
    "version": 3
   },
   "file_extension": ".py",
   "mimetype": "text/x-python",
   "name": "python",
   "nbconvert_exporter": "python",
   "pygments_lexer": "ipython3",
   "version": "3.9.13"
  }
 },
 "nbformat": 4,
 "nbformat_minor": 5
}
