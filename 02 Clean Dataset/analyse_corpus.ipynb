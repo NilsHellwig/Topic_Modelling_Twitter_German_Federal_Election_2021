{
 "cells": [
  {
   "cell_type": "markdown",
   "id": "40acee06-7b52-41a6-93c7-1a141fe5d382",
   "metadata": {},
   "source": [
    "# Notebook: Analyse Image Corpus\n",
    "\n",
    "This notebook is used to analyse the crawled cropus of images."
   ]
  },
  {
   "cell_type": "markdown",
   "id": "f716e8d9-d43c-46e2-8969-1e10b0d5efc6",
   "metadata": {},
   "source": [
    "## Packages"
   ]
  },
  {
   "cell_type": "code",
   "execution_count": 1,
   "id": "8e9e2718-093f-4a58-b9da-ff50e5e34573",
   "metadata": {
    "tags": []
   },
   "outputs": [],
   "source": [
    "import pandas as pd\n",
    "import nltk\n",
    "import math\n",
    "import os"
   ]
  },
  {
   "cell_type": "code",
   "execution_count": 2,
   "id": "0ea23353-19d5-4725-8ddf-756e5df44b79",
   "metadata": {
    "tags": []
   },
   "outputs": [
    {
     "name": "stderr",
     "output_type": "stream",
     "text": [
      "[nltk_data] Downloading package punkt to\n",
      "[nltk_data]     /Users/nils_hellwig/nltk_data...\n",
      "[nltk_data]   Package punkt is already up-to-date!\n"
     ]
    },
    {
     "data": {
      "text/plain": [
       "True"
      ]
     },
     "execution_count": 2,
     "metadata": {},
     "output_type": "execute_result"
    }
   ],
   "source": [
    "nltk.download('punkt')"
   ]
  },
  {
   "cell_type": "markdown",
   "id": "0147d957-2993-4159-9efe-a762de470fc2",
   "metadata": {},
   "source": [
    "## Parameters"
   ]
  },
  {
   "cell_type": "markdown",
   "id": "cf16bbcb-c414-4f29-8565-29eae769a334",
   "metadata": {},
   "source": [
    "Exchange `/img_dataset_mentions` with `/img_dataset_politicians`"
   ]
  },
  {
   "cell_type": "code",
   "execution_count": 3,
   "id": "25a40ae2-06bc-4621-91eb-dc0fd94e8580",
   "metadata": {
    "tags": []
   },
   "outputs": [],
   "source": [
    "PHOTOS_POLITICIANS_PATH = \"../Datasets/img_dataset_mentions/\"\n",
    "PARTIES = [\"CDU_CSU\", \"SPD\", \"AFD\", \"FDP\", \"GRUENE\", \"LINKE\"]"
   ]
  },
  {
   "cell_type": "markdown",
   "id": "863a1f58-a847-4957-8ec6-f169bbcf0a65",
   "metadata": {},
   "source": [
    "## Code"
   ]
  },
  {
   "cell_type": "markdown",
   "id": "ac382e9c-6905-4b7d-9f8b-1a6705610f51",
   "metadata": {},
   "source": [
    "### 1. Create Statistic for each Party"
   ]
  },
  {
   "cell_type": "code",
   "execution_count": 4,
   "id": "1fadc2a6-2e53-4a66-aed0-65b0448f1ef0",
   "metadata": {
    "tags": []
   },
   "outputs": [
    {
     "data": {
      "text/plain": [
       "array(['CDU_CSU', 'SPD', 'AFD', 'FDP', 'GRUENE', 'LINKE'], dtype=object)"
      ]
     },
     "execution_count": 4,
     "metadata": {},
     "output_type": "execute_result"
    }
   ],
   "source": [
    "df = pd.read_csv(PHOTOS_POLITICIANS_PATH + \"images_dataset.csv\")\n",
    "df[\"source_party\"].unique()"
   ]
  },
  {
   "cell_type": "code",
   "execution_count": 5,
   "id": "a53b5b30-fd97-46b9-8260-c5b2f92b819d",
   "metadata": {
    "tags": []
   },
   "outputs": [
    {
     "data": {
      "text/html": [
       "<div>\n",
       "<style scoped>\n",
       "    .dataframe tbody tr th:only-of-type {\n",
       "        vertical-align: middle;\n",
       "    }\n",
       "\n",
       "    .dataframe tbody tr th {\n",
       "        vertical-align: top;\n",
       "    }\n",
       "\n",
       "    .dataframe thead th {\n",
       "        text-align: right;\n",
       "    }\n",
       "</style>\n",
       "<table border=\"1\" class=\"dataframe\">\n",
       "  <thead>\n",
       "    <tr style=\"text-align: right;\">\n",
       "      <th></th>\n",
       "      <th>Unnamed: 0</th>\n",
       "      <th>tweet_id</th>\n",
       "      <th>image_index</th>\n",
       "      <th>filename</th>\n",
       "      <th>extracted_text</th>\n",
       "      <th>url</th>\n",
       "      <th>image_path</th>\n",
       "      <th>source_party</th>\n",
       "      <th>source_account</th>\n",
       "      <th>date</th>\n",
       "    </tr>\n",
       "  </thead>\n",
       "  <tbody>\n",
       "    <tr>\n",
       "      <th>0</th>\n",
       "      <td>0</td>\n",
       "      <td>1345866502268985354</td>\n",
       "      <td>0</td>\n",
       "      <td>1345866502268985354_0.jpg</td>\n",
       "      <td>NaN</td>\n",
       "      <td>https://pbs.twimg.com/media/Eq16c2qXYAwa__x.jpg</td>\n",
       "      <td>../Datasets/img_dataset_mentions/CDU_CSU/Armin...</td>\n",
       "      <td>CDU_CSU</td>\n",
       "      <td>ArminLaschet</td>\n",
       "      <td>2021-01-03 22:55:53</td>\n",
       "    </tr>\n",
       "    <tr>\n",
       "      <th>1</th>\n",
       "      <td>1</td>\n",
       "      <td>1345863370579320832</td>\n",
       "      <td>0</td>\n",
       "      <td>1345863370579320832_0.jpg</td>\n",
       "      <td>Asyl- |\\nmißbrauch\\n\\n</td>\n",
       "      <td>https://pbs.twimg.com/media/Eq13meUXEAMWanr.jpg</td>\n",
       "      <td>../Datasets/img_dataset_mentions/CDU_CSU/Armin...</td>\n",
       "      <td>CDU_CSU</td>\n",
       "      <td>ArminLaschet</td>\n",
       "      <td>2021-01-03 22:43:27</td>\n",
       "    </tr>\n",
       "    <tr>\n",
       "      <th>2</th>\n",
       "      <td>2</td>\n",
       "      <td>1345860999602184196</td>\n",
       "      <td>0</td>\n",
       "      <td>1345860999602184196_0.jpg</td>\n",
       "      <td>kann, dass dieses '\\n\\nGesindel\\n\\nwieder vers...</td>\n",
       "      <td>https://pbs.twimg.com/media/Eq11cdkW8AU8leb.jpg</td>\n",
       "      <td>../Datasets/img_dataset_mentions/CDU_CSU/Armin...</td>\n",
       "      <td>CDU_CSU</td>\n",
       "      <td>ArminLaschet</td>\n",
       "      <td>2021-01-03 22:34:01</td>\n",
       "    </tr>\n",
       "    <tr>\n",
       "      <th>3</th>\n",
       "      <td>3</td>\n",
       "      <td>1345841888289550345</td>\n",
       "      <td>0</td>\n",
       "      <td>1345841888289550345_0.jpg</td>\n",
       "      <td>25. Februar 2011, 11:45 Uhr FDPrudert zurück\\n...</td>\n",
       "      <td>https://pbs.twimg.com/media/Eq1kEA2XUAAyW_f.jpg</td>\n",
       "      <td>../Datasets/img_dataset_mentions/CDU_CSU/Armin...</td>\n",
       "      <td>CDU_CSU</td>\n",
       "      <td>ArminLaschet</td>\n",
       "      <td>2021-01-03 21:18:05</td>\n",
       "    </tr>\n",
       "    <tr>\n",
       "      <th>4</th>\n",
       "      <td>4</td>\n",
       "      <td>1345840672113373186</td>\n",
       "      <td>0</td>\n",
       "      <td>1345840672113373186_0.jpg</td>\n",
       "      <td>You can fool some of the people all of the tim...</td>\n",
       "      <td>https://pbs.twimg.com/media/Eq1i03_W4AANqWe.png</td>\n",
       "      <td>../Datasets/img_dataset_mentions/CDU_CSU/Armin...</td>\n",
       "      <td>CDU_CSU</td>\n",
       "      <td>ArminLaschet</td>\n",
       "      <td>2021-01-03 21:13:15</td>\n",
       "    </tr>\n",
       "    <tr>\n",
       "      <th>...</th>\n",
       "      <td>...</td>\n",
       "      <td>...</td>\n",
       "      <td>...</td>\n",
       "      <td>...</td>\n",
       "      <td>...</td>\n",
       "      <td>...</td>\n",
       "      <td>...</td>\n",
       "      <td>...</td>\n",
       "      <td>...</td>\n",
       "      <td>...</td>\n",
       "    </tr>\n",
       "    <tr>\n",
       "      <th>34136</th>\n",
       "      <td>34136</td>\n",
       "      <td>1438112331666530313</td>\n",
       "      <td>1</td>\n",
       "      <td>1438112331666530313_1.jpg</td>\n",
       "      <td>NaN</td>\n",
       "      <td>https://pbs.twimg.com/media/E_UzixMXoAg5Bay.jpg</td>\n",
       "      <td>../Datasets/img_dataset_mentions/LINKE/b_riexi...</td>\n",
       "      <td>LINKE</td>\n",
       "      <td>b_riexinger</td>\n",
       "      <td>2021-09-15 13:07:53</td>\n",
       "    </tr>\n",
       "    <tr>\n",
       "      <th>34137</th>\n",
       "      <td>34137</td>\n",
       "      <td>1438111715409936387</td>\n",
       "      <td>0</td>\n",
       "      <td>1438111715409936387_0.jpg</td>\n",
       "      <td>NaN</td>\n",
       "      <td>https://pbs.twimg.com/media/E_Uy-8FWYAUkFY5.jpg</td>\n",
       "      <td>../Datasets/img_dataset_mentions/LINKE/b_riexi...</td>\n",
       "      <td>LINKE</td>\n",
       "      <td>b_riexinger</td>\n",
       "      <td>2021-09-15 13:05:26</td>\n",
       "    </tr>\n",
       "    <tr>\n",
       "      <th>34138</th>\n",
       "      <td>34138</td>\n",
       "      <td>1444703262951759880</td>\n",
       "      <td>0</td>\n",
       "      <td>1444703262951759880_0.jpg</td>\n",
       "      <td>Zusammenhalten.\\nFür Gerechtigkeit.\\nDIE LINKE.\\n</td>\n",
       "      <td>https://pbs.twimg.com/media/FAyahiCXoAI6Kzy.jpg</td>\n",
       "      <td>../Datasets/img_dataset_mentions/LINKE/b_riexi...</td>\n",
       "      <td>LINKE</td>\n",
       "      <td>b_riexinger</td>\n",
       "      <td>2021-10-03 17:37:53</td>\n",
       "    </tr>\n",
       "    <tr>\n",
       "      <th>34139</th>\n",
       "      <td>34139</td>\n",
       "      <td>1446709991805751297</td>\n",
       "      <td>0</td>\n",
       "      <td>1446709991805751297_0.jpg</td>\n",
       "      <td>Das umgekehrte Bild bei der\\n\\nLinken: Sie ver...</td>\n",
       "      <td>https://pbs.twimg.com/media/FBO-9t7WEAkN-fA.jpg</td>\n",
       "      <td>../Datasets/img_dataset_mentions/LINKE/b_riexi...</td>\n",
       "      <td>LINKE</td>\n",
       "      <td>b_riexinger</td>\n",
       "      <td>2021-10-09 06:31:55</td>\n",
       "    </tr>\n",
       "    <tr>\n",
       "      <th>34140</th>\n",
       "      <td>34140</td>\n",
       "      <td>1471084101285330949</td>\n",
       "      <td>0</td>\n",
       "      <td>1471084101285330949_0.jpg</td>\n",
       "      <td>NaN</td>\n",
       "      <td>https://pbs.twimg.com/media/FGpWnSNXsAMQvSq.png</td>\n",
       "      <td>../Datasets/img_dataset_mentions/LINKE/b_riexi...</td>\n",
       "      <td>LINKE</td>\n",
       "      <td>b_riexinger</td>\n",
       "      <td>2021-12-15 11:45:55</td>\n",
       "    </tr>\n",
       "  </tbody>\n",
       "</table>\n",
       "<p>34141 rows × 10 columns</p>\n",
       "</div>"
      ],
      "text/plain": [
       "       Unnamed: 0             tweet_id  image_index   \n",
       "0               0  1345866502268985354            0  \\\n",
       "1               1  1345863370579320832            0   \n",
       "2               2  1345860999602184196            0   \n",
       "3               3  1345841888289550345            0   \n",
       "4               4  1345840672113373186            0   \n",
       "...           ...                  ...          ...   \n",
       "34136       34136  1438112331666530313            1   \n",
       "34137       34137  1438111715409936387            0   \n",
       "34138       34138  1444703262951759880            0   \n",
       "34139       34139  1446709991805751297            0   \n",
       "34140       34140  1471084101285330949            0   \n",
       "\n",
       "                        filename   \n",
       "0      1345866502268985354_0.jpg  \\\n",
       "1      1345863370579320832_0.jpg   \n",
       "2      1345860999602184196_0.jpg   \n",
       "3      1345841888289550345_0.jpg   \n",
       "4      1345840672113373186_0.jpg   \n",
       "...                          ...   \n",
       "34136  1438112331666530313_1.jpg   \n",
       "34137  1438111715409936387_0.jpg   \n",
       "34138  1444703262951759880_0.jpg   \n",
       "34139  1446709991805751297_0.jpg   \n",
       "34140  1471084101285330949_0.jpg   \n",
       "\n",
       "                                          extracted_text   \n",
       "0                                                    NaN  \\\n",
       "1                                 Asyl- |\\nmißbrauch\\n\\n   \n",
       "2      kann, dass dieses '\\n\\nGesindel\\n\\nwieder vers...   \n",
       "3      25. Februar 2011, 11:45 Uhr FDPrudert zurück\\n...   \n",
       "4      You can fool some of the people all of the tim...   \n",
       "...                                                  ...   \n",
       "34136                                                NaN   \n",
       "34137                                                NaN   \n",
       "34138  Zusammenhalten.\\nFür Gerechtigkeit.\\nDIE LINKE.\\n   \n",
       "34139  Das umgekehrte Bild bei der\\n\\nLinken: Sie ver...   \n",
       "34140                                                NaN   \n",
       "\n",
       "                                                   url   \n",
       "0      https://pbs.twimg.com/media/Eq16c2qXYAwa__x.jpg  \\\n",
       "1      https://pbs.twimg.com/media/Eq13meUXEAMWanr.jpg   \n",
       "2      https://pbs.twimg.com/media/Eq11cdkW8AU8leb.jpg   \n",
       "3      https://pbs.twimg.com/media/Eq1kEA2XUAAyW_f.jpg   \n",
       "4      https://pbs.twimg.com/media/Eq1i03_W4AANqWe.png   \n",
       "...                                                ...   \n",
       "34136  https://pbs.twimg.com/media/E_UzixMXoAg5Bay.jpg   \n",
       "34137  https://pbs.twimg.com/media/E_Uy-8FWYAUkFY5.jpg   \n",
       "34138  https://pbs.twimg.com/media/FAyahiCXoAI6Kzy.jpg   \n",
       "34139  https://pbs.twimg.com/media/FBO-9t7WEAkN-fA.jpg   \n",
       "34140  https://pbs.twimg.com/media/FGpWnSNXsAMQvSq.png   \n",
       "\n",
       "                                              image_path source_party   \n",
       "0      ../Datasets/img_dataset_mentions/CDU_CSU/Armin...      CDU_CSU  \\\n",
       "1      ../Datasets/img_dataset_mentions/CDU_CSU/Armin...      CDU_CSU   \n",
       "2      ../Datasets/img_dataset_mentions/CDU_CSU/Armin...      CDU_CSU   \n",
       "3      ../Datasets/img_dataset_mentions/CDU_CSU/Armin...      CDU_CSU   \n",
       "4      ../Datasets/img_dataset_mentions/CDU_CSU/Armin...      CDU_CSU   \n",
       "...                                                  ...          ...   \n",
       "34136  ../Datasets/img_dataset_mentions/LINKE/b_riexi...        LINKE   \n",
       "34137  ../Datasets/img_dataset_mentions/LINKE/b_riexi...        LINKE   \n",
       "34138  ../Datasets/img_dataset_mentions/LINKE/b_riexi...        LINKE   \n",
       "34139  ../Datasets/img_dataset_mentions/LINKE/b_riexi...        LINKE   \n",
       "34140  ../Datasets/img_dataset_mentions/LINKE/b_riexi...        LINKE   \n",
       "\n",
       "      source_account                 date  \n",
       "0       ArminLaschet  2021-01-03 22:55:53  \n",
       "1       ArminLaschet  2021-01-03 22:43:27  \n",
       "2       ArminLaschet  2021-01-03 22:34:01  \n",
       "3       ArminLaschet  2021-01-03 21:18:05  \n",
       "4       ArminLaschet  2021-01-03 21:13:15  \n",
       "...              ...                  ...  \n",
       "34136    b_riexinger  2021-09-15 13:07:53  \n",
       "34137    b_riexinger  2021-09-15 13:05:26  \n",
       "34138    b_riexinger  2021-10-03 17:37:53  \n",
       "34139    b_riexinger  2021-10-09 06:31:55  \n",
       "34140    b_riexinger  2021-12-15 11:45:55  \n",
       "\n",
       "[34141 rows x 10 columns]"
      ]
     },
     "execution_count": 5,
     "metadata": {},
     "output_type": "execute_result"
    }
   ],
   "source": [
    "df"
   ]
  },
  {
   "cell_type": "code",
   "execution_count": 6,
   "id": "9eba813e-0777-43ac-b67a-946cc33bcfa2",
   "metadata": {
    "tags": []
   },
   "outputs": [],
   "source": [
    "def get_n_tokens_for_text(extracted_text):\n",
    "    if isinstance(extracted_text, float) and math.isnan(extracted_text):\n",
    "        return 0\n",
    "    else:\n",
    "        return len(nltk.word_tokenize(str(extracted_text)))"
   ]
  },
  {
   "cell_type": "code",
   "execution_count": 7,
   "id": "903addbf-b25c-4b4a-bf1e-1d5ebb956d00",
   "metadata": {
    "tags": []
   },
   "outputs": [
    {
     "name": "stdout",
     "output_type": "stream",
     "text": [
      "Total #Images in corpus for CDU_CSU: 11678\n",
      "Total #Images in corpus for CDU_CSU with text in image: 2762\n",
      "#Tokens in corpus for CDU_CSU: 644981\n",
      "#Avg text length for images of CDU_CSU: 55.23\n",
      "=================================== \n",
      "\n",
      "Total #Images in corpus for SPD: 10387\n",
      "Total #Images in corpus for SPD with text in image: 2154\n",
      "#Tokens in corpus for SPD: 672867\n",
      "#Avg text length for images of SPD: 64.78\n",
      "=================================== \n",
      "\n",
      "Total #Images in corpus for AFD: 2548\n",
      "Total #Images in corpus for AFD with text in image: 625\n",
      "#Tokens in corpus for AFD: 130901\n",
      "#Avg text length for images of AFD: 51.37\n",
      "=================================== \n",
      "\n",
      "Total #Images in corpus for FDP: 3818\n",
      "Total #Images in corpus for FDP with text in image: 760\n",
      "#Tokens in corpus for FDP: 225916\n",
      "#Avg text length for images of FDP: 59.17\n",
      "=================================== \n",
      "\n",
      "Total #Images in corpus for GRUENE: 3932\n",
      "Total #Images in corpus for GRUENE with text in image: 986\n",
      "#Tokens in corpus for GRUENE: 225889\n",
      "#Avg text length for images of GRUENE: 57.45\n",
      "=================================== \n",
      "\n",
      "Total #Images in corpus for LINKE: 1778\n",
      "Total #Images in corpus for LINKE with text in image: 483\n",
      "#Tokens in corpus for LINKE: 91590\n",
      "#Avg text length for images of LINKE: 51.51\n",
      "=================================== \n",
      "\n",
      "\n",
      "\n",
      "Total #Images in corpus: 34141\n",
      "Total #Images in corpus with text in image: 7770\n",
      "#Tokens in corpus: 1992144\n",
      "#Avg text length for images in corpus: 58.35\n"
     ]
    }
   ],
   "source": [
    "n_images_total = 0\n",
    "n_tokens_total = 0\n",
    "n_images_with_text_total = 0\n",
    "for party in PARTIES:\n",
    "    n_tokens_party = 0\n",
    "    n_images_party = 0\n",
    "    n_images_with_text_party = 0\n",
    "    \n",
    "    df_party = df[df[\"source_party\"] == party]\n",
    "                \n",
    "    for index, row in df_party.iterrows():\n",
    "        n_tokens_in_image = get_n_tokens_for_text(row['extracted_text'])\n",
    "        n_tokens_party += n_tokens_in_image\n",
    "        if n_tokens_in_image == 0:\n",
    "            n_images_with_text_party += 1\n",
    "            n_images_with_text_total += 1\n",
    "            \n",
    "                \n",
    "    n_images_party = df_party.shape[0]\n",
    "    n_images_total += n_images_party\n",
    "    n_tokens_total += n_tokens_party\n",
    "    print(f'Total #Images in corpus for {party}: {n_images_party}')\n",
    "    print(f'Total #Images in corpus for {party} with text in image: {n_images_with_text_party}')\n",
    "    print(f'#Tokens in corpus for {party}: {n_tokens_party}')\n",
    "    print(f'#Avg text length for images of {party}: {round(n_tokens_party / n_images_party, 2)}')\n",
    "    print(\"=================================== \\n\")\n",
    "\n",
    "print(\"\\n\")\n",
    "print(f'Total #Images in corpus: {n_images_total}')\n",
    "print(f'Total #Images in corpus with text in image: {n_images_with_text_total}')\n",
    "print(f'#Tokens in corpus: {n_tokens_total}')\n",
    "print(f'#Avg text length for images in corpus: {round(n_tokens_total / n_images_total, 2)}')"
   ]
  }
 ],
 "metadata": {
  "kernelspec": {
   "display_name": "Python 3 (ipykernel)",
   "language": "python",
   "name": "python3"
  },
  "language_info": {
   "codemirror_mode": {
    "name": "ipython",
    "version": 3
   },
   "file_extension": ".py",
   "mimetype": "text/x-python",
   "name": "python",
   "nbconvert_exporter": "python",
   "pygments_lexer": "ipython3",
   "version": "3.10.9"
  }
 },
 "nbformat": 4,
 "nbformat_minor": 5
}
